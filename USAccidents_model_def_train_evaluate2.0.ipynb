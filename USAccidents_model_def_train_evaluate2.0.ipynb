{
 "cells": [
  {
   "cell_type": "markdown",
   "metadata": {},
   "source": [
    "# Predictive Models: Iterration 2"
   ]
  },
  {
   "cell_type": "code",
   "execution_count": 1,
   "metadata": {},
   "outputs": [],
   "source": [
    "#import libraries\n",
    "import pandas as pd\n",
    "import numpy as np\n",
    "\n",
    "from sklearn.preprocessing import StandardScaler\n",
    "from sklearn.model_selection import train_test_split, GridSearchCV\n",
    "from sklearn.metrics import multilabel_confusion_matrix, accuracy_score\n",
    "from sklearn.tree import DecisionTreeClassifier\n",
    "from sklearn import svm\n",
    "from sklearn.ensemble import RandomForestRegressor\n",
    "\n",
    "import tensorflow as tf\n",
    "from tensorflow import keras\n",
    "from tensorflow.keras import layers\n",
    "from tensorflow.keras.models import Sequential\n",
    "from tensorflow.keras.layers import Dense\n",
    "\n",
    "\n",
    "import matplotlib.pyplot as plt\n",
    "import seaborn as sns"
   ]
  },
  {
   "cell_type": "code",
   "execution_count": 2,
   "metadata": {},
   "outputs": [
    {
     "name": "stdout",
     "output_type": "stream",
     "text": [
      "df.shape: (2443292, 161)\n"
     ]
    }
   ],
   "source": [
    "# Import data from Week 2\n",
    "df = pd.read_csv('US_Accidents_June20_CLEAN_Week2_Iteration2.0.csv')\n",
    "print('df.shape:', df.shape)"
   ]
  },
  {
   "cell_type": "code",
   "execution_count": 3,
   "metadata": {},
   "outputs": [
    {
     "data": {
      "text/plain": [
       "Index(['Severity', 'Start_Lat', 'Start_Lng', 'Temperature(F)', 'Humidity(%)',\n",
       "       'Pressure(in)', 'Visibility(mi)', 'Wind_Speed(mph)', 'Amenity', 'Bump',\n",
       "       ...\n",
       "       'Wind_Direction_SE', 'Wind_Direction_SSE', 'Wind_Direction_SSW',\n",
       "       'Wind_Direction_SW', 'Wind_Direction_VAR', 'Wind_Direction_W',\n",
       "       'Wind_Direction_WNW', 'Wind_Direction_WSW', 'Sunrise_Sunset_Day',\n",
       "       'Sunrise_Sunset_Night'],\n",
       "      dtype='object', length=161)"
      ]
     },
     "execution_count": 3,
     "metadata": {},
     "output_type": "execute_result"
    }
   ],
   "source": [
    "#Display features\n",
    "df.columns"
   ]
  },
  {
   "cell_type": "markdown",
   "metadata": {},
   "source": [
    "Models and performance indicators:<br>\n",
    "* Since the predicted values can be 1,2,3 or 4, I'll tackle the problem as a multiclass classification problem. For that reason, I'll first define a baseline prediction performance with a <b>linear SVM</b>.\n",
    "* Next, other models will be assessed: <b>Decision Trees</b>, <b>Random Forest</b> and a simple <b>Fully Connected Deep Neural Network</b>.\n",
    "* In order to assess the performance of the different models, the accuracy of the model will be regarded and the cofusion matrix for each model will be inspected.\n",
    "* Additionally, the Feature Importance of each model will be displayed for better model understanding."
   ]
  },
  {
   "cell_type": "markdown",
   "metadata": {},
   "source": [
    "# Sample to deal with class imbalance"
   ]
  },
  {
   "cell_type": "code",
   "execution_count": 4,
   "metadata": {},
   "outputs": [
    {
     "data": {
      "image/png": "[encoded data removed]",
      "text/plain": [
       "<Figure size 432x288 with 1 Axes>"
      ]
     },
     "metadata": {
      "needs_background": "light"
     },
     "output_type": "display_data"
    }
   ],
   "source": [
    "# plot severity of data to see how imbalance the data is\n",
    "\n",
    "fig, ax = plt.subplots()\n",
    "sns.countplot('Severity',data=df,ax=ax,order=df['Severity'].value_counts().index)\n",
    "ax.set_title('Count of Severity:')\n",
    "plt.show()"
   ]
  },
  {
   "cell_type": "markdown",
   "metadata": {},
   "source": [
    "There is a big class imbalance. In order to deal with it, I'll undersample classes 2, 3 and 4 and oversample class 1."
   ]
  },
  {
   "cell_type": "code",
   "execution_count": 5,
   "metadata": {},
   "outputs": [
    {
     "name": "stdout",
     "output_type": "stream",
     "text": [
      "Severity level 1: 1052\n",
      "Severity level 2: 1611005\n",
      "Severity level 3: 824594\n",
      "Severity level 4: 6641\n"
     ]
    }
   ],
   "source": [
    "for i in range (4):\n",
    "    print('Severity level {}:'.format(i+1), df.loc[df['Severity']==i+1].shape[0])"
   ]
  },
  {
   "cell_type": "markdown",
   "metadata": {},
   "source": [
    "There is very few data with severity 1 and 4. This was expected since almost all Severity 1 and 4 data came from the <b>Bing</b> data set. I think oversampling to 50000 is too much. I'll try with just 5000 datpoints and let's see how the performance is impacted."
   ]
  },
  {
   "cell_type": "code",
   "execution_count": 6,
   "metadata": {},
   "outputs": [
    {
     "data": {
      "text/html": [
       "<div>\n",
       "<style scoped>\n",
       "    .dataframe tbody tr th:only-of-type {\n",
       "        vertical-align: middle;\n",
       "    }\n",
       "\n",
       "    .dataframe tbody tr th {\n",
       "        vertical-align: top;\n",
       "    }\n",
       "\n",
       "    .dataframe thead th {\n",
       "        text-align: right;\n",
       "    }\n",
       "</style>\n",
       "<table border=\"1\" class=\"dataframe\">\n",
       "  <thead>\n",
       "    <tr style=\"text-align: right;\">\n",
       "      <th></th>\n",
       "      <th>Severity</th>\n",
       "      <th>Start_Lat</th>\n",
       "      <th>Start_Lng</th>\n",
       "      <th>Temperature(F)</th>\n",
       "      <th>Humidity(%)</th>\n",
       "      <th>Pressure(in)</th>\n",
       "      <th>Visibility(mi)</th>\n",
       "      <th>Wind_Speed(mph)</th>\n",
       "      <th>Amenity</th>\n",
       "      <th>Bump</th>\n",
       "      <th>...</th>\n",
       "      <th>Wind_Direction_SE</th>\n",
       "      <th>Wind_Direction_SSE</th>\n",
       "      <th>Wind_Direction_SSW</th>\n",
       "      <th>Wind_Direction_SW</th>\n",
       "      <th>Wind_Direction_VAR</th>\n",
       "      <th>Wind_Direction_W</th>\n",
       "      <th>Wind_Direction_WNW</th>\n",
       "      <th>Wind_Direction_WSW</th>\n",
       "      <th>Sunrise_Sunset_Day</th>\n",
       "      <th>Sunrise_Sunset_Night</th>\n",
       "    </tr>\n",
       "  </thead>\n",
       "  <tbody>\n",
       "    <tr>\n",
       "      <th>229429</th>\n",
       "      <td>1</td>\n",
       "      <td>39.971527</td>\n",
       "      <td>-76.713028</td>\n",
       "      <td>19.0</td>\n",
       "      <td>46.0</td>\n",
       "      <td>30.02</td>\n",
       "      <td>10.0</td>\n",
       "      <td>24.2</td>\n",
       "      <td>False</td>\n",
       "      <td>False</td>\n",
       "      <td>...</td>\n",
       "      <td>0</td>\n",
       "      <td>0</td>\n",
       "      <td>0</td>\n",
       "      <td>0</td>\n",
       "      <td>0</td>\n",
       "      <td>0</td>\n",
       "      <td>1</td>\n",
       "      <td>0</td>\n",
       "      <td>1</td>\n",
       "      <td>0</td>\n",
       "    </tr>\n",
       "    <tr>\n",
       "      <th>643435</th>\n",
       "      <td>1</td>\n",
       "      <td>37.891888</td>\n",
       "      <td>-121.641418</td>\n",
       "      <td>48.0</td>\n",
       "      <td>86.0</td>\n",
       "      <td>29.68</td>\n",
       "      <td>5.0</td>\n",
       "      <td>6.0</td>\n",
       "      <td>False</td>\n",
       "      <td>False</td>\n",
       "      <td>...</td>\n",
       "      <td>0</td>\n",
       "      <td>0</td>\n",
       "      <td>0</td>\n",
       "      <td>0</td>\n",
       "      <td>0</td>\n",
       "      <td>0</td>\n",
       "      <td>0</td>\n",
       "      <td>0</td>\n",
       "      <td>1</td>\n",
       "      <td>0</td>\n",
       "    </tr>\n",
       "    <tr>\n",
       "      <th>1508208</th>\n",
       "      <td>1</td>\n",
       "      <td>32.103958</td>\n",
       "      <td>-110.772774</td>\n",
       "      <td>72.9</td>\n",
       "      <td>13.0</td>\n",
       "      <td>29.92</td>\n",
       "      <td>10.0</td>\n",
       "      <td>7.0</td>\n",
       "      <td>False</td>\n",
       "      <td>False</td>\n",
       "      <td>...</td>\n",
       "      <td>0</td>\n",
       "      <td>0</td>\n",
       "      <td>0</td>\n",
       "      <td>0</td>\n",
       "      <td>0</td>\n",
       "      <td>0</td>\n",
       "      <td>0</td>\n",
       "      <td>0</td>\n",
       "      <td>1</td>\n",
       "      <td>0</td>\n",
       "    </tr>\n",
       "    <tr>\n",
       "      <th>464777</th>\n",
       "      <td>1</td>\n",
       "      <td>33.960579</td>\n",
       "      <td>-84.411613</td>\n",
       "      <td>77.0</td>\n",
       "      <td>78.0</td>\n",
       "      <td>29.77</td>\n",
       "      <td>10.0</td>\n",
       "      <td>4.6</td>\n",
       "      <td>False</td>\n",
       "      <td>False</td>\n",
       "      <td>...</td>\n",
       "      <td>0</td>\n",
       "      <td>0</td>\n",
       "      <td>0</td>\n",
       "      <td>0</td>\n",
       "      <td>0</td>\n",
       "      <td>0</td>\n",
       "      <td>0</td>\n",
       "      <td>0</td>\n",
       "      <td>1</td>\n",
       "      <td>0</td>\n",
       "    </tr>\n",
       "    <tr>\n",
       "      <th>666346</th>\n",
       "      <td>1</td>\n",
       "      <td>39.764111</td>\n",
       "      <td>-75.139160</td>\n",
       "      <td>48.0</td>\n",
       "      <td>66.0</td>\n",
       "      <td>30.22</td>\n",
       "      <td>10.0</td>\n",
       "      <td>12.0</td>\n",
       "      <td>False</td>\n",
       "      <td>False</td>\n",
       "      <td>...</td>\n",
       "      <td>0</td>\n",
       "      <td>0</td>\n",
       "      <td>0</td>\n",
       "      <td>0</td>\n",
       "      <td>0</td>\n",
       "      <td>0</td>\n",
       "      <td>0</td>\n",
       "      <td>0</td>\n",
       "      <td>0</td>\n",
       "      <td>1</td>\n",
       "    </tr>\n",
       "    <tr>\n",
       "      <th>...</th>\n",
       "      <td>...</td>\n",
       "      <td>...</td>\n",
       "      <td>...</td>\n",
       "      <td>...</td>\n",
       "      <td>...</td>\n",
       "      <td>...</td>\n",
       "      <td>...</td>\n",
       "      <td>...</td>\n",
       "      <td>...</td>\n",
       "      <td>...</td>\n",
       "      <td>...</td>\n",
       "      <td>...</td>\n",
       "      <td>...</td>\n",
       "      <td>...</td>\n",
       "      <td>...</td>\n",
       "      <td>...</td>\n",
       "      <td>...</td>\n",
       "      <td>...</td>\n",
       "      <td>...</td>\n",
       "      <td>...</td>\n",
       "      <td>...</td>\n",
       "    </tr>\n",
       "    <tr>\n",
       "      <th>1101874</th>\n",
       "      <td>4</td>\n",
       "      <td>45.524277</td>\n",
       "      <td>-122.686539</td>\n",
       "      <td>58.0</td>\n",
       "      <td>72.0</td>\n",
       "      <td>30.09</td>\n",
       "      <td>10.0</td>\n",
       "      <td>6.0</td>\n",
       "      <td>False</td>\n",
       "      <td>False</td>\n",
       "      <td>...</td>\n",
       "      <td>0</td>\n",
       "      <td>0</td>\n",
       "      <td>0</td>\n",
       "      <td>0</td>\n",
       "      <td>0</td>\n",
       "      <td>0</td>\n",
       "      <td>0</td>\n",
       "      <td>0</td>\n",
       "      <td>1</td>\n",
       "      <td>0</td>\n",
       "    </tr>\n",
       "    <tr>\n",
       "      <th>126716</th>\n",
       "      <td>4</td>\n",
       "      <td>25.789072</td>\n",
       "      <td>-80.204353</td>\n",
       "      <td>69.1</td>\n",
       "      <td>58.0</td>\n",
       "      <td>29.97</td>\n",
       "      <td>10.0</td>\n",
       "      <td>5.8</td>\n",
       "      <td>False</td>\n",
       "      <td>False</td>\n",
       "      <td>...</td>\n",
       "      <td>0</td>\n",
       "      <td>0</td>\n",
       "      <td>0</td>\n",
       "      <td>0</td>\n",
       "      <td>0</td>\n",
       "      <td>0</td>\n",
       "      <td>0</td>\n",
       "      <td>0</td>\n",
       "      <td>0</td>\n",
       "      <td>1</td>\n",
       "    </tr>\n",
       "    <tr>\n",
       "      <th>921671</th>\n",
       "      <td>4</td>\n",
       "      <td>25.861931</td>\n",
       "      <td>-80.208611</td>\n",
       "      <td>91.0</td>\n",
       "      <td>55.0</td>\n",
       "      <td>29.93</td>\n",
       "      <td>10.0</td>\n",
       "      <td>15.0</td>\n",
       "      <td>False</td>\n",
       "      <td>False</td>\n",
       "      <td>...</td>\n",
       "      <td>0</td>\n",
       "      <td>0</td>\n",
       "      <td>0</td>\n",
       "      <td>0</td>\n",
       "      <td>0</td>\n",
       "      <td>0</td>\n",
       "      <td>0</td>\n",
       "      <td>0</td>\n",
       "      <td>1</td>\n",
       "      <td>0</td>\n",
       "    </tr>\n",
       "    <tr>\n",
       "      <th>1284701</th>\n",
       "      <td>4</td>\n",
       "      <td>33.463760</td>\n",
       "      <td>-86.824303</td>\n",
       "      <td>64.0</td>\n",
       "      <td>78.0</td>\n",
       "      <td>30.00</td>\n",
       "      <td>2.5</td>\n",
       "      <td>13.8</td>\n",
       "      <td>False</td>\n",
       "      <td>False</td>\n",
       "      <td>...</td>\n",
       "      <td>0</td>\n",
       "      <td>0</td>\n",
       "      <td>0</td>\n",
       "      <td>0</td>\n",
       "      <td>0</td>\n",
       "      <td>0</td>\n",
       "      <td>1</td>\n",
       "      <td>0</td>\n",
       "      <td>1</td>\n",
       "      <td>0</td>\n",
       "    </tr>\n",
       "    <tr>\n",
       "      <th>643173</th>\n",
       "      <td>4</td>\n",
       "      <td>39.943035</td>\n",
       "      <td>-104.987839</td>\n",
       "      <td>44.0</td>\n",
       "      <td>25.0</td>\n",
       "      <td>24.68</td>\n",
       "      <td>10.0</td>\n",
       "      <td>14.0</td>\n",
       "      <td>False</td>\n",
       "      <td>False</td>\n",
       "      <td>...</td>\n",
       "      <td>1</td>\n",
       "      <td>0</td>\n",
       "      <td>0</td>\n",
       "      <td>0</td>\n",
       "      <td>0</td>\n",
       "      <td>0</td>\n",
       "      <td>0</td>\n",
       "      <td>0</td>\n",
       "      <td>1</td>\n",
       "      <td>0</td>\n",
       "    </tr>\n",
       "  </tbody>\n",
       "</table>\n",
       "<p>20000 rows × 161 columns</p>\n",
       "</div>"
      ],
      "text/plain": [
       "         Severity  Start_Lat   Start_Lng  Temperature(F)  Humidity(%)  \\\n",
       "229429          1  39.971527  -76.713028            19.0         46.0   \n",
       "643435          1  37.891888 -121.641418            48.0         86.0   \n",
       "1508208         1  32.103958 -110.772774            72.9         13.0   \n",
       "464777          1  33.960579  -84.411613            77.0         78.0   \n",
       "666346          1  39.764111  -75.139160            48.0         66.0   \n",
       "...           ...        ...         ...             ...          ...   \n",
       "1101874         4  45.524277 -122.686539            58.0         72.0   \n",
       "126716          4  25.789072  -80.204353            69.1         58.0   \n",
       "921671          4  25.861931  -80.208611            91.0         55.0   \n",
       "1284701         4  33.463760  -86.824303            64.0         78.0   \n",
       "643173          4  39.943035 -104.987839            44.0         25.0   \n",
       "\n",
       "         Pressure(in)  Visibility(mi)  Wind_Speed(mph)  Amenity   Bump  ...  \\\n",
       "229429          30.02            10.0             24.2    False  False  ...   \n",
       "643435          29.68             5.0              6.0    False  False  ...   \n",
       "1508208         29.92            10.0              7.0    False  False  ...   \n",
       "464777          29.77            10.0              4.6    False  False  ...   \n",
       "666346          30.22            10.0             12.0    False  False  ...   \n",
       "...               ...             ...              ...      ...    ...  ...   \n",
       "1101874         30.09            10.0              6.0    False  False  ...   \n",
       "126716          29.97            10.0              5.8    False  False  ...   \n",
       "921671          29.93            10.0             15.0    False  False  ...   \n",
       "1284701         30.00             2.5             13.8    False  False  ...   \n",
       "643173          24.68            10.0             14.0    False  False  ...   \n",
       "\n",
       "         Wind_Direction_SE  Wind_Direction_SSE  Wind_Direction_SSW  \\\n",
       "229429                   0                   0                   0   \n",
       "643435                   0                   0                   0   \n",
       "1508208                  0                   0                   0   \n",
       "464777                   0                   0                   0   \n",
       "666346                   0                   0                   0   \n",
       "...                    ...                 ...                 ...   \n",
       "1101874                  0                   0                   0   \n",
       "126716                   0                   0                   0   \n",
       "921671                   0                   0                   0   \n",
       "1284701                  0                   0                   0   \n",
       "643173                   1                   0                   0   \n",
       "\n",
       "         Wind_Direction_SW  Wind_Direction_VAR  Wind_Direction_W  \\\n",
       "229429                   0                   0                 0   \n",
       "643435                   0                   0                 0   \n",
       "1508208                  0                   0                 0   \n",
       "464777                   0                   0                 0   \n",
       "666346                   0                   0                 0   \n",
       "...                    ...                 ...               ...   \n",
       "1101874                  0                   0                 0   \n",
       "126716                   0                   0                 0   \n",
       "921671                   0                   0                 0   \n",
       "1284701                  0                   0                 0   \n",
       "643173                   0                   0                 0   \n",
       "\n",
       "         Wind_Direction_WNW  Wind_Direction_WSW  Sunrise_Sunset_Day  \\\n",
       "229429                    1                   0                   1   \n",
       "643435                    0                   0                   1   \n",
       "1508208                   0                   0                   1   \n",
       "464777                    0                   0                   1   \n",
       "666346                    0                   0                   0   \n",
       "...                     ...                 ...                 ...   \n",
       "1101874                   0                   0                   1   \n",
       "126716                    0                   0                   0   \n",
       "921671                    0                   0                   1   \n",
       "1284701                   1                   0                   1   \n",
       "643173                    0                   0                   1   \n",
       "\n",
       "         Sunrise_Sunset_Night  \n",
       "229429                      0  \n",
       "643435                      0  \n",
       "1508208                     0  \n",
       "464777                      0  \n",
       "666346                      1  \n",
       "...                       ...  \n",
       "1101874                     0  \n",
       "126716                      1  \n",
       "921671                      0  \n",
       "1284701                     0  \n",
       "643173                      0  \n",
       "\n",
       "[20000 rows x 161 columns]"
      ]
     },
     "execution_count": 6,
     "metadata": {},
     "output_type": "execute_result"
    }
   ],
   "source": [
    "#define random state for replicability\n",
    "my_random_state = 4\n",
    "#take 50000 datapoints of each severity in order for the data to be balanced.\n",
    "df_sampled = pd.concat([df[df['Severity']==1].sample(5000, replace = True, random_state=my_random_state),\n",
    "                        df[df['Severity']==2].sample(5000, random_state=my_random_state),\n",
    "                        df[df['Severity']==3].sample(5000, random_state=my_random_state),\n",
    "                       df[df['Severity']==4].sample(5000, random_state=my_random_state)],\n",
    "                       axis=0)\n",
    "df_sampled"
   ]
  },
  {
   "cell_type": "code",
   "execution_count": 7,
   "metadata": {},
   "outputs": [
    {
     "data": {
      "image/png": "[encoded data removed]",
      "text/plain": [
       "<Figure size 432x288 with 1 Axes>"
      ]
     },
     "metadata": {
      "needs_background": "light"
     },
     "output_type": "display_data"
    }
   ],
   "source": [
    "#Plot sampled data\n",
    "\n",
    "fig, ax = plt.subplots()\n",
    "sns.countplot('Severity',data=df_sampled,ax=ax,order=df['Severity'].value_counts().index)\n",
    "ax.set_title('Count of Severity in Sampled Data:')\n",
    "plt.show()"
   ]
  },
  {
   "cell_type": "markdown",
   "metadata": {},
   "source": [
    "# Train Test Split"
   ]
  },
  {
   "cell_type": "code",
   "execution_count": 8,
   "metadata": {},
   "outputs": [],
   "source": [
    "# split X, y\n",
    "X = df_sampled.drop('Severity', axis=1)\n",
    "y = df_sampled['Severity']\n",
    "\n",
    "# Standardizing the features based on unit variance\n",
    "\n",
    "X = StandardScaler().fit_transform(X)\n",
    "\n",
    "# split train test\n",
    "\n",
    "X_train, X_test, y_train, y_test = train_test_split(X, y, test_size=0.15, random_state=my_random_state) #my_random_state is defined in the cell above!"
   ]
  },
  {
   "cell_type": "markdown",
   "metadata": {},
   "source": [
    "# Algorithms"
   ]
  },
  {
   "cell_type": "code",
   "execution_count": 9,
   "metadata": {},
   "outputs": [
    {
     "data": {
      "text/plain": [
       "(20000, 161)"
      ]
     },
     "execution_count": 9,
     "metadata": {},
     "output_type": "execute_result"
    }
   ],
   "source": [
    "#First look the number of datapoints in order to define the maximum iterations that will be allowed\n",
    "\n",
    "n_datapoints = df_sampled.shape[0]\n",
    "df_sampled.shape"
   ]
  },
  {
   "cell_type": "markdown",
   "metadata": {},
   "source": [
    "## Linear Support Vector Machine (Baseline performance)"
   ]
  },
  {
   "cell_type": "code",
   "execution_count": 10,
   "metadata": {},
   "outputs": [
    {
     "name": "stdout",
     "output_type": "stream",
     "text": [
      "[LibLinear]"
     ]
    },
    {
     "name": "stderr",
     "output_type": "stream",
     "text": [
      "/Users/pedro.roig.aparicio@ibm.com/opt/anaconda3/lib/python3.7/site-packages/sklearn/svm/_base.py:947: ConvergenceWarning: Liblinear failed to converge, increase the number of iterations.\n",
      "  \"the number of iterations.\", ConvergenceWarning)\n"
     ]
    },
    {
     "data": {
      "text/plain": [
       "LinearSVC(C=1.0, class_weight=None, dual=True, fit_intercept=True,\n",
       "          intercept_scaling=1, loss='squared_hinge', max_iter=1000,\n",
       "          multi_class='ovr', penalty='l2', random_state=None, tol=0.0001,\n",
       "          verbose=2)"
      ]
     },
     "execution_count": 10,
     "metadata": {},
     "output_type": "execute_result"
    }
   ],
   "source": [
    "# Support Vector Machine\n",
    "\n",
    "lin_clf = svm.LinearSVC(verbose=2)\n",
    "lin_clf.fit(X_train, y_train)"
   ]
  },
  {
   "cell_type": "code",
   "execution_count": 11,
   "metadata": {},
   "outputs": [
    {
     "name": "stdout",
     "output_type": "stream",
     "text": [
      "Linear SVM Accuracy:\n",
      "********************\n",
      "Train Accuracy: 60.5%\n",
      "Test Accuracy: 61.7%\n"
     ]
    }
   ],
   "source": [
    "#Print Accuracy of the model\n",
    "print('Linear SVM Accuracy:')\n",
    "print('*'*20)\n",
    "accuracy_train_lin = lin_clf.score(X_train, y_train)\n",
    "print(\"Train Accuracy: %.1f%%\"% (accuracy_train_lin*100))\n",
    "accuracy_test_lin = lin_clf.score(X_test, y_test)\n",
    "print(\"Test Accuracy: %.1f%%\"% (accuracy_test_lin*100))"
   ]
  },
  {
   "cell_type": "code",
   "execution_count": 12,
   "metadata": {},
   "outputs": [
    {
     "data": {
      "text/plain": [
       "array([[[1937,  301],\n",
       "        [ 267,  495]]])"
      ]
     },
     "metadata": {},
     "output_type": "display_data"
    },
    {
     "data": {
      "image/png": "[encoded data removed]",
      "text/plain": [
       "<Figure size 576x360 with 2 Axes>"
      ]
     },
     "metadata": {
      "needs_background": "light"
     },
     "output_type": "display_data"
    }
   ],
   "source": [
    "y_pred = lin_clf.predict(X_test)\n",
    "\n",
    "confmat = multilabel_confusion_matrix(y_true=y_test, y_pred=y_pred, labels=[1])\n",
    "display(confmat)\n",
    "\n",
    "conf_matrix = pd.DataFrame(data=confmat[0], columns=['Predicted:0','Predicted:1'],index=['Actual:0','Actual:1'])\n",
    "plt.figure(figsize = (8,5))\n",
    "sns.heatmap(conf_matrix, annot=True, fmt='d',cmap=\"YlGnBu\").set_title(\"Confusion Matrix (resampled data)\\n- Default Linear SVM\", fontsize=16)\n",
    "plt.show()"
   ]
  },
  {
   "cell_type": "markdown",
   "metadata": {},
   "source": [
    "The accuracy achieved by the baseline model is less than for iteration 1. Let's see how the other models perform."
   ]
  },
  {
   "cell_type": "markdown",
   "metadata": {},
   "source": [
    "## Decision Tree"
   ]
  },
  {
   "cell_type": "markdown",
   "metadata": {},
   "source": [
    "Now I'll try out a Decision Tree."
   ]
  },
  {
   "cell_type": "code",
   "execution_count": 13,
   "metadata": {},
   "outputs": [
    {
     "name": "stdout",
     "output_type": "stream",
     "text": [
      "Fitting 3 folds for each of 15 candidates, totalling 45 fits\n",
      "[CV] max_features=None, min_samples_split=10 .........................\n"
     ]
    },
    {
     "name": "stderr",
     "output_type": "stream",
     "text": [
      "[Parallel(n_jobs=1)]: Using backend SequentialBackend with 1 concurrent workers.\n"
     ]
    },
    {
     "name": "stdout",
     "output_type": "stream",
     "text": [
      "[CV] .......... max_features=None, min_samples_split=10, total=   0.3s\n",
      "[CV] max_features=None, min_samples_split=10 .........................\n"
     ]
    },
    {
     "name": "stderr",
     "output_type": "stream",
     "text": [
      "[Parallel(n_jobs=1)]: Done   1 out of   1 | elapsed:    0.3s remaining:    0.0s\n"
     ]
    },
    {
     "name": "stdout",
     "output_type": "stream",
     "text": [
      "[CV] .......... max_features=None, min_samples_split=10, total=   0.3s\n",
      "[CV] max_features=None, min_samples_split=10 .........................\n",
      "[CV] .......... max_features=None, min_samples_split=10, total=   0.3s\n",
      "[CV] max_features=None, min_samples_split=20 .........................\n",
      "[CV] .......... max_features=None, min_samples_split=20, total=   0.3s\n",
      "[CV] max_features=None, min_samples_split=20 .........................\n",
      "[CV] .......... max_features=None, min_samples_split=20, total=   0.4s\n",
      "[CV] max_features=None, min_samples_split=20 .........................\n",
      "[CV] .......... max_features=None, min_samples_split=20, total=   0.4s\n",
      "[CV] max_features=None, min_samples_split=30 .........................\n",
      "[CV] .......... max_features=None, min_samples_split=30, total=   0.4s\n",
      "[CV] max_features=None, min_samples_split=30 .........................\n",
      "[CV] .......... max_features=None, min_samples_split=30, total=   0.3s\n",
      "[CV] max_features=None, min_samples_split=30 .........................\n",
      "[CV] .......... max_features=None, min_samples_split=30, total=   0.4s\n",
      "[CV] max_features=None, min_samples_split=40 .........................\n",
      "[CV] .......... max_features=None, min_samples_split=40, total=   0.3s\n",
      "[CV] max_features=None, min_samples_split=40 .........................\n",
      "[CV] .......... max_features=None, min_samples_split=40, total=   0.3s\n",
      "[CV] max_features=None, min_samples_split=40 .........................\n",
      "[CV] .......... max_features=None, min_samples_split=40, total=   0.3s\n",
      "[CV] max_features=None, min_samples_split=50 .........................\n",
      "[CV] .......... max_features=None, min_samples_split=50, total=   0.3s\n",
      "[CV] max_features=None, min_samples_split=50 .........................\n",
      "[CV] .......... max_features=None, min_samples_split=50, total=   0.3s\n",
      "[CV] max_features=None, min_samples_split=50 .........................\n",
      "[CV] .......... max_features=None, min_samples_split=50, total=   0.2s\n",
      "[CV] max_features=log2, min_samples_split=10 .........................\n",
      "[CV] .......... max_features=log2, min_samples_split=10, total=   0.0s\n",
      "[CV] max_features=log2, min_samples_split=10 .........................\n",
      "[CV] .......... max_features=log2, min_samples_split=10, total=   0.0s\n",
      "[CV] max_features=log2, min_samples_split=10 .........................\n",
      "[CV] .......... max_features=log2, min_samples_split=10, total=   0.0s\n",
      "[CV] max_features=log2, min_samples_split=20 .........................\n",
      "[CV] .......... max_features=log2, min_samples_split=20, total=   0.0s\n",
      "[CV] max_features=log2, min_samples_split=20 .........................\n",
      "[CV] .......... max_features=log2, min_samples_split=20, total=   0.0s\n",
      "[CV] max_features=log2, min_samples_split=20 .........................\n",
      "[CV] .......... max_features=log2, min_samples_split=20, total=   0.0s\n",
      "[CV] max_features=log2, min_samples_split=30 .........................\n",
      "[CV] .......... max_features=log2, min_samples_split=30, total=   0.0s\n",
      "[CV] max_features=log2, min_samples_split=30 .........................\n",
      "[CV] .......... max_features=log2, min_samples_split=30, total=   0.0s\n",
      "[CV] max_features=log2, min_samples_split=30 .........................\n",
      "[CV] .......... max_features=log2, min_samples_split=30, total=   0.0s\n",
      "[CV] max_features=log2, min_samples_split=40 .........................\n",
      "[CV] .......... max_features=log2, min_samples_split=40, total=   0.0s\n",
      "[CV] max_features=log2, min_samples_split=40 .........................\n",
      "[CV] .......... max_features=log2, min_samples_split=40, total=   0.0s\n",
      "[CV] max_features=log2, min_samples_split=40 .........................\n",
      "[CV] .......... max_features=log2, min_samples_split=40, total=   0.0s\n",
      "[CV] max_features=log2, min_samples_split=50 .........................\n",
      "[CV] .......... max_features=log2, min_samples_split=50, total=   0.0s\n",
      "[CV] max_features=log2, min_samples_split=50 .........................\n",
      "[CV] .......... max_features=log2, min_samples_split=50, total=   0.0s\n",
      "[CV] max_features=log2, min_samples_split=50 .........................\n",
      "[CV] .......... max_features=log2, min_samples_split=50, total=   0.0s\n",
      "[CV] max_features=sqrt, min_samples_split=10 .........................\n",
      "[CV] .......... max_features=sqrt, min_samples_split=10, total=   0.0s\n",
      "[CV] max_features=sqrt, min_samples_split=10 .........................\n",
      "[CV] .......... max_features=sqrt, min_samples_split=10, total=   0.0s\n",
      "[CV] max_features=sqrt, min_samples_split=10 .........................\n",
      "[CV] .......... max_features=sqrt, min_samples_split=10, total=   0.0s\n",
      "[CV] max_features=sqrt, min_samples_split=20 .........................\n",
      "[CV] .......... max_features=sqrt, min_samples_split=20, total=   0.0s\n",
      "[CV] max_features=sqrt, min_samples_split=20 .........................\n",
      "[CV] .......... max_features=sqrt, min_samples_split=20, total=   0.0s\n",
      "[CV] max_features=sqrt, min_samples_split=20 .........................\n",
      "[CV] .......... max_features=sqrt, min_samples_split=20, total=   0.0s\n",
      "[CV] max_features=sqrt, min_samples_split=30 .........................\n",
      "[CV] .......... max_features=sqrt, min_samples_split=30, total=   0.0s\n",
      "[CV] max_features=sqrt, min_samples_split=30 .........................\n",
      "[CV] .......... max_features=sqrt, min_samples_split=30, total=   0.0s\n",
      "[CV] max_features=sqrt, min_samples_split=30 .........................\n",
      "[CV] .......... max_features=sqrt, min_samples_split=30, total=   0.0s\n",
      "[CV] max_features=sqrt, min_samples_split=40 .........................\n",
      "[CV] .......... max_features=sqrt, min_samples_split=40, total=   0.0s\n",
      "[CV] max_features=sqrt, min_samples_split=40 .........................\n",
      "[CV] .......... max_features=sqrt, min_samples_split=40, total=   0.0s\n",
      "[CV] max_features=sqrt, min_samples_split=40 .........................\n",
      "[CV] .......... max_features=sqrt, min_samples_split=40, total=   0.0s\n",
      "[CV] max_features=sqrt, min_samples_split=50 .........................\n",
      "[CV] .......... max_features=sqrt, min_samples_split=50, total=   0.0s\n",
      "[CV] max_features=sqrt, min_samples_split=50 .........................\n",
      "[CV] .......... max_features=sqrt, min_samples_split=50, total=   0.0s\n",
      "[CV] max_features=sqrt, min_samples_split=50 .........................\n",
      "[CV] .......... max_features=sqrt, min_samples_split=50, total=   0.0s\n"
     ]
    },
    {
     "name": "stderr",
     "output_type": "stream",
     "text": [
      "[Parallel(n_jobs=1)]: Done  45 out of  45 | elapsed:    5.8s finished\n"
     ]
    },
    {
     "data": {
      "text/plain": [
       "GridSearchCV(cv=3, error_score=nan,\n",
       "             estimator=DecisionTreeClassifier(ccp_alpha=0.0, class_weight=None,\n",
       "                                              criterion='gini', max_depth=None,\n",
       "                                              max_features=None,\n",
       "                                              max_leaf_nodes=None,\n",
       "                                              min_impurity_decrease=0.0,\n",
       "                                              min_impurity_split=None,\n",
       "                                              min_samples_leaf=1,\n",
       "                                              min_samples_split=2,\n",
       "                                              min_weight_fraction_leaf=0.0,\n",
       "                                              presort='deprecated',\n",
       "                                              random_state=4, splitter='best'),\n",
       "             iid='deprecated', n_jobs=None,\n",
       "             param_grid={'max_features': [None, 'log2', 'sqrt'],\n",
       "                         'min_samples_split': [10, 20, 30, 40, 50]},\n",
       "             pre_dispatch='2*n_jobs', refit=True, return_train_score=False,\n",
       "             scoring=None, verbose=2)"
      ]
     },
     "execution_count": 13,
     "metadata": {},
     "output_type": "execute_result"
    }
   ],
   "source": [
    "DT_grid = { 'min_samples_split': [10,20,30,40,50],'max_features': [None, 'log2', 'sqrt']}\n",
    "\n",
    "CV_DT = GridSearchCV(DecisionTreeClassifier(random_state=my_random_state), DT_grid, verbose=2, cv=3) #my_random_state is defined in a cell above!\n",
    "\n",
    "CV_DT.fit(X_train, y_train)"
   ]
  },
  {
   "cell_type": "code",
   "execution_count": 14,
   "metadata": {},
   "outputs": [
    {
     "name": "stdout",
     "output_type": "stream",
     "text": [
      "Best Parameters:  {'max_features': None, 'min_samples_split': 10}\n"
     ]
    }
   ],
   "source": [
    "print('Best Parameters: ', CV_DT.best_params_)"
   ]
  },
  {
   "cell_type": "code",
   "execution_count": 15,
   "metadata": {},
   "outputs": [
    {
     "name": "stdout",
     "output_type": "stream",
     "text": [
      "Train Accuracy: 91.9%\n",
      "Test Accuracy: 69.4%\n"
     ]
    }
   ],
   "source": [
    "#Use best parameters to check Test Accuracy\n",
    "tree_clf = DecisionTreeClassifier(min_samples_split = CV_DT.best_params_['min_samples_split'])\n",
    "tree_clf = tree_clf.fit(X_train,y_train)\n",
    "\n",
    "#Print Train and Test Accuracy\n",
    "tree_accuracy_train = tree_clf.score(X_train, y_train)\n",
    "print(\"Train Accuracy: %.1f%%\"% (tree_accuracy_train*100))\n",
    "tree_accuracy_test = tree_clf.score(X_test,y_test)\n",
    "print(\"Test Accuracy: %.1f%%\"% (tree_accuracy_test*100))"
   ]
  },
  {
   "cell_type": "code",
   "execution_count": 16,
   "metadata": {},
   "outputs": [
    {
     "data": {
      "image/png": "[encoded data removed]",
      "text/plain": [
       "<Figure size 576x360 with 2 Axes>"
      ]
     },
     "metadata": {
      "needs_background": "light"
     },
     "output_type": "display_data"
    }
   ],
   "source": [
    "# Confusion Matrix\n",
    "prediction = tree_clf.predict(X_test)\n",
    "\n",
    "confmat = multilabel_confusion_matrix(y_true=y_test, y_pred=prediction)\n",
    "\n",
    "conf_matrix = pd.DataFrame(data=confmat[0],columns=['Predicted:0','Predicted:1'],index=['Actual:0','Actual:1'])\n",
    "plt.figure(figsize = (8,5))\n",
    "sns.heatmap(conf_matrix, annot=True,fmt='d',cmap=\"YlGnBu\").set_title(\"Confusion Matrix (resampled data)\\n Decision Tree\", fontsize=16)\n",
    "plt.show()"
   ]
  },
  {
   "cell_type": "markdown",
   "metadata": {},
   "source": [
    "The overfit of the Decision Tree is even bigger than for iteration 1. Of course having less data it is more difficult to generalize to the test dataset."
   ]
  },
  {
   "cell_type": "code",
   "execution_count": 17,
   "metadata": {},
   "outputs": [
    {
     "data": {
      "image/png": "[encoded data removed]",
      "text/plain": [
       "<Figure size 720x720 with 1 Axes>"
      ]
     },
     "metadata": {
      "needs_background": "light"
     },
     "output_type": "display_data"
    }
   ],
   "source": [
    "#Feature importance\n",
    "\n",
    "importances = pd.DataFrame(np.zeros((X_train.shape[1], 1)), columns=['importance'], index=df.drop('Severity',axis=1).columns)\n",
    "\n",
    "importances.iloc[:,0] = tree_clf.feature_importances_\n",
    "\n",
    "importances.sort_values(by='importance', inplace=True, ascending=False)\n",
    "importances30 = importances.head(30)\n",
    "\n",
    "plt.figure(figsize=(10, 10))\n",
    "sns.barplot(x='importance', y=importances30.index, data=importances30)\n",
    "\n",
    "plt.xlabel('')\n",
    "plt.tick_params(axis='x', labelsize=10)\n",
    "plt.tick_params(axis='y', labelsize=10)\n",
    "plt.title('Decision Tree Classifier Feature Importance', size=15)\n",
    "\n",
    "plt.show()"
   ]
  },
  {
   "cell_type": "markdown",
   "metadata": {},
   "source": [
    "At least now the Feature Importance makes more sense. The one-hot enconding of Year_2020 is out of the top features! These are good news!"
   ]
  },
  {
   "cell_type": "markdown",
   "metadata": {},
   "source": [
    "## Random Forest"
   ]
  },
  {
   "cell_type": "markdown",
   "metadata": {},
   "source": [
    "During this iteration I'll be able to look into more parameters during the cross-validation, since the amount of data fed to the model is 10 times less than in iteration 1."
   ]
  },
  {
   "cell_type": "code",
   "execution_count": 19,
   "metadata": {},
   "outputs": [
    {
     "name": "stdout",
     "output_type": "stream",
     "text": [
      "Fitting 4 folds for each of 36 candidates, totalling 144 fits\n",
      "[CV] max_depth=5, n_estimators=5 .....................................\n"
     ]
    },
    {
     "name": "stderr",
     "output_type": "stream",
     "text": [
      "[Parallel(n_jobs=1)]: Using backend SequentialBackend with 1 concurrent workers.\n"
     ]
    },
    {
     "name": "stdout",
     "output_type": "stream",
     "text": [
      "[CV] ...................... max_depth=5, n_estimators=5, total=   0.4s\n",
      "[CV] max_depth=5, n_estimators=5 .....................................\n"
     ]
    },
    {
     "name": "stderr",
     "output_type": "stream",
     "text": [
      "[Parallel(n_jobs=1)]: Done   1 out of   1 | elapsed:    0.4s remaining:    0.0s\n"
     ]
    },
    {
     "name": "stdout",
     "output_type": "stream",
     "text": [
      "[CV] ...................... max_depth=5, n_estimators=5, total=   0.4s\n",
      "[CV] max_depth=5, n_estimators=5 .....................................\n",
      "[CV] ...................... max_depth=5, n_estimators=5, total=   0.4s\n",
      "[CV] max_depth=5, n_estimators=5 .....................................\n",
      "[CV] ...................... max_depth=5, n_estimators=5, total=   0.3s\n",
      "[CV] max_depth=5, n_estimators=10 ....................................\n",
      "[CV] ..................... max_depth=5, n_estimators=10, total=   0.7s\n",
      "[CV] max_depth=5, n_estimators=10 ....................................\n",
      "[CV] ..................... max_depth=5, n_estimators=10, total=   0.7s\n",
      "[CV] max_depth=5, n_estimators=10 ....................................\n",
      "[CV] ..................... max_depth=5, n_estimators=10, total=   0.7s\n",
      "[CV] max_depth=5, n_estimators=10 ....................................\n",
      "[CV] ..................... max_depth=5, n_estimators=10, total=   0.7s\n",
      "[CV] max_depth=5, n_estimators=20 ....................................\n",
      "[CV] ..................... max_depth=5, n_estimators=20, total=   1.5s\n",
      "[CV] max_depth=5, n_estimators=20 ....................................\n",
      "[CV] ..................... max_depth=5, n_estimators=20, total=   1.5s\n",
      "[CV] max_depth=5, n_estimators=20 ....................................\n",
      "[CV] ..................... max_depth=5, n_estimators=20, total=   1.6s\n",
      "[CV] max_depth=5, n_estimators=20 ....................................\n",
      "[CV] ..................... max_depth=5, n_estimators=20, total=   1.4s\n",
      "[CV] max_depth=5, n_estimators=30 ....................................\n",
      "[CV] ..................... max_depth=5, n_estimators=30, total=   2.1s\n",
      "[CV] max_depth=5, n_estimators=30 ....................................\n",
      "[CV] ..................... max_depth=5, n_estimators=30, total=   2.2s\n",
      "[CV] max_depth=5, n_estimators=30 ....................................\n",
      "[CV] ..................... max_depth=5, n_estimators=30, total=   2.1s\n",
      "[CV] max_depth=5, n_estimators=30 ....................................\n",
      "[CV] ..................... max_depth=5, n_estimators=30, total=   2.1s\n",
      "[CV] max_depth=5, n_estimators=40 ....................................\n",
      "[CV] ..................... max_depth=5, n_estimators=40, total=   2.9s\n",
      "[CV] max_depth=5, n_estimators=40 ....................................\n",
      "[CV] ..................... max_depth=5, n_estimators=40, total=   2.9s\n",
      "[CV] max_depth=5, n_estimators=40 ....................................\n",
      "[CV] ..................... max_depth=5, n_estimators=40, total=   2.8s\n",
      "[CV] max_depth=5, n_estimators=40 ....................................\n",
      "[CV] ..................... max_depth=5, n_estimators=40, total=   2.8s\n",
      "[CV] max_depth=5, n_estimators=50 ....................................\n",
      "[CV] ..................... max_depth=5, n_estimators=50, total=   3.5s\n",
      "[CV] max_depth=5, n_estimators=50 ....................................\n",
      "[CV] ..................... max_depth=5, n_estimators=50, total=   3.5s\n",
      "[CV] max_depth=5, n_estimators=50 ....................................\n",
      "[CV] ..................... max_depth=5, n_estimators=50, total=   3.5s\n",
      "[CV] max_depth=5, n_estimators=50 ....................................\n",
      "[CV] ..................... max_depth=5, n_estimators=50, total=   3.7s\n",
      "[CV] max_depth=10, n_estimators=5 ....................................\n",
      "[CV] ..................... max_depth=10, n_estimators=5, total=   0.9s\n",
      "[CV] max_depth=10, n_estimators=5 ....................................\n",
      "[CV] ..................... max_depth=10, n_estimators=5, total=   0.6s\n",
      "[CV] max_depth=10, n_estimators=5 ....................................\n",
      "[CV] ..................... max_depth=10, n_estimators=5, total=   0.6s\n",
      "[CV] max_depth=10, n_estimators=5 ....................................\n",
      "[CV] ..................... max_depth=10, n_estimators=5, total=   0.6s\n",
      "[CV] max_depth=10, n_estimators=10 ...................................\n",
      "[CV] .................... max_depth=10, n_estimators=10, total=   1.2s\n",
      "[CV] max_depth=10, n_estimators=10 ...................................\n",
      "[CV] .................... max_depth=10, n_estimators=10, total=   1.2s\n",
      "[CV] max_depth=10, n_estimators=10 ...................................\n",
      "[CV] .................... max_depth=10, n_estimators=10, total=   1.2s\n",
      "[CV] max_depth=10, n_estimators=10 ...................................\n",
      "[CV] .................... max_depth=10, n_estimators=10, total=   1.2s\n",
      "[CV] max_depth=10, n_estimators=20 ...................................\n",
      "[CV] .................... max_depth=10, n_estimators=20, total=   2.6s\n",
      "[CV] max_depth=10, n_estimators=20 ...................................\n",
      "[CV] .................... max_depth=10, n_estimators=20, total=   2.6s\n",
      "[CV] max_depth=10, n_estimators=20 ...................................\n",
      "[CV] .................... max_depth=10, n_estimators=20, total=   3.0s\n",
      "[CV] max_depth=10, n_estimators=20 ...................................\n",
      "[CV] .................... max_depth=10, n_estimators=20, total=   2.5s\n",
      "[CV] max_depth=10, n_estimators=30 ...................................\n",
      "[CV] .................... max_depth=10, n_estimators=30, total=   3.5s\n",
      "[CV] max_depth=10, n_estimators=30 ...................................\n",
      "[CV] .................... max_depth=10, n_estimators=30, total=   3.6s\n",
      "[CV] max_depth=10, n_estimators=30 ...................................\n",
      "[CV] .................... max_depth=10, n_estimators=30, total=   3.5s\n",
      "[CV] max_depth=10, n_estimators=30 ...................................\n",
      "[CV] .................... max_depth=10, n_estimators=30, total=   3.5s\n",
      "[CV] max_depth=10, n_estimators=40 ...................................\n",
      "[CV] .................... max_depth=10, n_estimators=40, total=   4.6s\n",
      "[CV] max_depth=10, n_estimators=40 ...................................\n",
      "[CV] .................... max_depth=10, n_estimators=40, total=   4.7s\n",
      "[CV] max_depth=10, n_estimators=40 ...................................\n",
      "[CV] .................... max_depth=10, n_estimators=40, total=   4.7s\n",
      "[CV] max_depth=10, n_estimators=40 ...................................\n",
      "[CV] .................... max_depth=10, n_estimators=40, total=   4.6s\n",
      "[CV] max_depth=10, n_estimators=50 ...................................\n",
      "[CV] .................... max_depth=10, n_estimators=50, total=   5.8s\n",
      "[CV] max_depth=10, n_estimators=50 ...................................\n",
      "[CV] .................... max_depth=10, n_estimators=50, total=   6.2s\n",
      "[CV] max_depth=10, n_estimators=50 ...................................\n",
      "[CV] .................... max_depth=10, n_estimators=50, total=   5.8s\n",
      "[CV] max_depth=10, n_estimators=50 ...................................\n",
      "[CV] .................... max_depth=10, n_estimators=50, total=   5.7s\n",
      "[CV] max_depth=20, n_estimators=5 ....................................\n",
      "[CV] ..................... max_depth=20, n_estimators=5, total=   1.0s\n",
      "[CV] max_depth=20, n_estimators=5 ....................................\n",
      "[CV] ..................... max_depth=20, n_estimators=5, total=   1.0s\n",
      "[CV] max_depth=20, n_estimators=5 ....................................\n",
      "[CV] ..................... max_depth=20, n_estimators=5, total=   0.9s\n",
      "[CV] max_depth=20, n_estimators=5 ....................................\n",
      "[CV] ..................... max_depth=20, n_estimators=5, total=   0.9s\n",
      "[CV] max_depth=20, n_estimators=10 ...................................\n",
      "[CV] .................... max_depth=20, n_estimators=10, total=   1.8s\n",
      "[CV] max_depth=20, n_estimators=10 ...................................\n",
      "[CV] .................... max_depth=20, n_estimators=10, total=   1.8s\n",
      "[CV] max_depth=20, n_estimators=10 ...................................\n",
      "[CV] .................... max_depth=20, n_estimators=10, total=   1.8s\n",
      "[CV] max_depth=20, n_estimators=10 ...................................\n",
      "[CV] .................... max_depth=20, n_estimators=10, total=   1.8s\n",
      "[CV] max_depth=20, n_estimators=20 ...................................\n",
      "[CV] .................... max_depth=20, n_estimators=20, total=   3.5s\n",
      "[CV] max_depth=20, n_estimators=20 ...................................\n",
      "[CV] .................... max_depth=20, n_estimators=20, total=   3.6s\n",
      "[CV] max_depth=20, n_estimators=20 ...................................\n",
      "[CV] .................... max_depth=20, n_estimators=20, total=   3.5s\n",
      "[CV] max_depth=20, n_estimators=20 ...................................\n",
      "[CV] .................... max_depth=20, n_estimators=20, total=   3.5s\n",
      "[CV] max_depth=20, n_estimators=30 ...................................\n",
      "[CV] .................... max_depth=20, n_estimators=30, total=   5.3s\n",
      "[CV] max_depth=20, n_estimators=30 ...................................\n",
      "[CV] .................... max_depth=20, n_estimators=30, total=   5.2s\n",
      "[CV] max_depth=20, n_estimators=30 ...................................\n",
      "[CV] .................... max_depth=20, n_estimators=30, total=   5.4s\n",
      "[CV] max_depth=20, n_estimators=30 ...................................\n",
      "[CV] .................... max_depth=20, n_estimators=30, total=   6.1s\n",
      "[CV] max_depth=20, n_estimators=40 ...................................\n",
      "[CV] .................... max_depth=20, n_estimators=40, total=   8.4s\n",
      "[CV] max_depth=20, n_estimators=40 ...................................\n",
      "[CV] .................... max_depth=20, n_estimators=40, total=   8.0s\n",
      "[CV] max_depth=20, n_estimators=40 ...................................\n",
      "[CV] .................... max_depth=20, n_estimators=40, total=   7.6s\n",
      "[CV] max_depth=20, n_estimators=40 ...................................\n",
      "[CV] .................... max_depth=20, n_estimators=40, total=   8.7s\n",
      "[CV] max_depth=20, n_estimators=50 ...................................\n",
      "[CV] .................... max_depth=20, n_estimators=50, total=   9.5s\n",
      "[CV] max_depth=20, n_estimators=50 ...................................\n",
      "[CV] .................... max_depth=20, n_estimators=50, total=   8.9s\n",
      "[CV] max_depth=20, n_estimators=50 ...................................\n",
      "[CV] .................... max_depth=20, n_estimators=50, total=   9.0s\n",
      "[CV] max_depth=20, n_estimators=50 ...................................\n",
      "[CV] .................... max_depth=20, n_estimators=50, total=   8.8s\n",
      "[CV] max_depth=30, n_estimators=5 ....................................\n",
      "[CV] ..................... max_depth=30, n_estimators=5, total=   0.9s\n",
      "[CV] max_depth=30, n_estimators=5 ....................................\n",
      "[CV] ..................... max_depth=30, n_estimators=5, total=   1.0s\n",
      "[CV] max_depth=30, n_estimators=5 ....................................\n",
      "[CV] ..................... max_depth=30, n_estimators=5, total=   1.0s\n",
      "[CV] max_depth=30, n_estimators=5 ....................................\n",
      "[CV] ..................... max_depth=30, n_estimators=5, total=   0.9s\n",
      "[CV] max_depth=30, n_estimators=10 ...................................\n",
      "[CV] .................... max_depth=30, n_estimators=10, total=   1.9s\n",
      "[CV] max_depth=30, n_estimators=10 ...................................\n",
      "[CV] .................... max_depth=30, n_estimators=10, total=   2.2s\n",
      "[CV] max_depth=30, n_estimators=10 ...................................\n",
      "[CV] .................... max_depth=30, n_estimators=10, total=   1.9s\n",
      "[CV] max_depth=30, n_estimators=10 ...................................\n",
      "[CV] .................... max_depth=30, n_estimators=10, total=   1.9s\n",
      "[CV] max_depth=30, n_estimators=20 ...................................\n",
      "[CV] .................... max_depth=30, n_estimators=20, total=   3.7s\n",
      "[CV] max_depth=30, n_estimators=20 ...................................\n",
      "[CV] .................... max_depth=30, n_estimators=20, total=   3.8s\n",
      "[CV] max_depth=30, n_estimators=20 ...................................\n",
      "[CV] .................... max_depth=30, n_estimators=20, total=   3.8s\n",
      "[CV] max_depth=30, n_estimators=20 ...................................\n",
      "[CV] .................... max_depth=30, n_estimators=20, total=   3.7s\n",
      "[CV] max_depth=30, n_estimators=30 ...................................\n",
      "[CV] .................... max_depth=30, n_estimators=30, total=   5.6s\n",
      "[CV] max_depth=30, n_estimators=30 ...................................\n",
      "[CV] .................... max_depth=30, n_estimators=30, total=   6.3s\n",
      "[CV] max_depth=30, n_estimators=30 ...................................\n",
      "[CV] .................... max_depth=30, n_estimators=30, total=   5.9s\n",
      "[CV] max_depth=30, n_estimators=30 ...................................\n",
      "[CV] .................... max_depth=30, n_estimators=30, total=   5.6s\n",
      "[CV] max_depth=30, n_estimators=40 ...................................\n",
      "[CV] .................... max_depth=30, n_estimators=40, total=   7.4s\n",
      "[CV] max_depth=30, n_estimators=40 ...................................\n",
      "[CV] .................... max_depth=30, n_estimators=40, total=   7.9s\n",
      "[CV] max_depth=30, n_estimators=40 ...................................\n",
      "[CV] .................... max_depth=30, n_estimators=40, total=   7.6s\n",
      "[CV] max_depth=30, n_estimators=40 ...................................\n",
      "[CV] .................... max_depth=30, n_estimators=40, total=   7.6s\n",
      "[CV] max_depth=30, n_estimators=50 ...................................\n",
      "[CV] .................... max_depth=30, n_estimators=50, total=   9.5s\n",
      "[CV] max_depth=30, n_estimators=50 ...................................\n",
      "[CV] .................... max_depth=30, n_estimators=50, total=   9.3s\n",
      "[CV] max_depth=30, n_estimators=50 ...................................\n",
      "[CV] .................... max_depth=30, n_estimators=50, total=   9.4s\n",
      "[CV] max_depth=30, n_estimators=50 ...................................\n",
      "[CV] .................... max_depth=30, n_estimators=50, total=   9.3s\n",
      "[CV] max_depth=40, n_estimators=5 ....................................\n",
      "[CV] ..................... max_depth=40, n_estimators=5, total=   1.0s\n",
      "[CV] max_depth=40, n_estimators=5 ....................................\n",
      "[CV] ..................... max_depth=40, n_estimators=5, total=   1.0s\n",
      "[CV] max_depth=40, n_estimators=5 ....................................\n",
      "[CV] ..................... max_depth=40, n_estimators=5, total=   1.0s\n",
      "[CV] max_depth=40, n_estimators=5 ....................................\n",
      "[CV] ..................... max_depth=40, n_estimators=5, total=   0.9s\n",
      "[CV] max_depth=40, n_estimators=10 ...................................\n",
      "[CV] .................... max_depth=40, n_estimators=10, total=   1.9s\n",
      "[CV] max_depth=40, n_estimators=10 ...................................\n",
      "[CV] .................... max_depth=40, n_estimators=10, total=   1.9s\n",
      "[CV] max_depth=40, n_estimators=10 ...................................\n",
      "[CV] .................... max_depth=40, n_estimators=10, total=   1.9s\n",
      "[CV] max_depth=40, n_estimators=10 ...................................\n",
      "[CV] .................... max_depth=40, n_estimators=10, total=   1.8s\n",
      "[CV] max_depth=40, n_estimators=20 ...................................\n",
      "[CV] .................... max_depth=40, n_estimators=20, total=   3.7s\n",
      "[CV] max_depth=40, n_estimators=20 ...................................\n",
      "[CV] .................... max_depth=40, n_estimators=20, total=   3.7s\n",
      "[CV] max_depth=40, n_estimators=20 ...................................\n",
      "[CV] .................... max_depth=40, n_estimators=20, total=   3.9s\n",
      "[CV] max_depth=40, n_estimators=20 ...................................\n",
      "[CV] .................... max_depth=40, n_estimators=20, total=   3.7s\n",
      "[CV] max_depth=40, n_estimators=30 ...................................\n",
      "[CV] .................... max_depth=40, n_estimators=30, total=   5.6s\n",
      "[CV] max_depth=40, n_estimators=30 ...................................\n",
      "[CV] .................... max_depth=40, n_estimators=30, total=   5.6s\n",
      "[CV] max_depth=40, n_estimators=30 ...................................\n",
      "[CV] .................... max_depth=40, n_estimators=30, total=   5.7s\n",
      "[CV] max_depth=40, n_estimators=30 ...................................\n",
      "[CV] .................... max_depth=40, n_estimators=30, total=   5.5s\n",
      "[CV] max_depth=40, n_estimators=40 ...................................\n",
      "[CV] .................... max_depth=40, n_estimators=40, total=   7.6s\n",
      "[CV] max_depth=40, n_estimators=40 ...................................\n",
      "[CV] .................... max_depth=40, n_estimators=40, total=   7.7s\n",
      "[CV] max_depth=40, n_estimators=40 ...................................\n",
      "[CV] .................... max_depth=40, n_estimators=40, total=   8.1s\n",
      "[CV] max_depth=40, n_estimators=40 ...................................\n",
      "[CV] .................... max_depth=40, n_estimators=40, total=   7.3s\n",
      "[CV] max_depth=40, n_estimators=50 ...................................\n",
      "[CV] .................... max_depth=40, n_estimators=50, total=   9.2s\n",
      "[CV] max_depth=40, n_estimators=50 ...................................\n",
      "[CV] .................... max_depth=40, n_estimators=50, total=   9.4s\n",
      "[CV] max_depth=40, n_estimators=50 ...................................\n",
      "[CV] .................... max_depth=40, n_estimators=50, total=   9.5s\n",
      "[CV] max_depth=40, n_estimators=50 ...................................\n",
      "[CV] .................... max_depth=40, n_estimators=50, total=   9.2s\n",
      "[CV] max_depth=50, n_estimators=5 ....................................\n",
      "[CV] ..................... max_depth=50, n_estimators=5, total=   1.0s\n",
      "[CV] max_depth=50, n_estimators=5 ....................................\n",
      "[CV] ..................... max_depth=50, n_estimators=5, total=   1.0s\n",
      "[CV] max_depth=50, n_estimators=5 ....................................\n",
      "[CV] ..................... max_depth=50, n_estimators=5, total=   1.0s\n",
      "[CV] max_depth=50, n_estimators=5 ....................................\n",
      "[CV] ..................... max_depth=50, n_estimators=5, total=   1.0s\n",
      "[CV] max_depth=50, n_estimators=10 ...................................\n",
      "[CV] .................... max_depth=50, n_estimators=10, total=   1.9s\n",
      "[CV] max_depth=50, n_estimators=10 ...................................\n",
      "[CV] .................... max_depth=50, n_estimators=10, total=   1.9s\n",
      "[CV] max_depth=50, n_estimators=10 ...................................\n",
      "[CV] .................... max_depth=50, n_estimators=10, total=   1.9s\n",
      "[CV] max_depth=50, n_estimators=10 ...................................\n",
      "[CV] .................... max_depth=50, n_estimators=10, total=   1.9s\n",
      "[CV] max_depth=50, n_estimators=20 ...................................\n",
      "[CV] .................... max_depth=50, n_estimators=20, total=   3.9s\n",
      "[CV] max_depth=50, n_estimators=20 ...................................\n",
      "[CV] .................... max_depth=50, n_estimators=20, total=   3.8s\n",
      "[CV] max_depth=50, n_estimators=20 ...................................\n",
      "[CV] .................... max_depth=50, n_estimators=20, total=   3.9s\n",
      "[CV] max_depth=50, n_estimators=20 ...................................\n",
      "[CV] .................... max_depth=50, n_estimators=20, total=   3.7s\n",
      "[CV] max_depth=50, n_estimators=30 ...................................\n",
      "[CV] .................... max_depth=50, n_estimators=30, total=   5.6s\n",
      "[CV] max_depth=50, n_estimators=30 ...................................\n",
      "[CV] .................... max_depth=50, n_estimators=30, total=   5.7s\n",
      "[CV] max_depth=50, n_estimators=30 ...................................\n",
      "[CV] .................... max_depth=50, n_estimators=30, total=   5.7s\n",
      "[CV] max_depth=50, n_estimators=30 ...................................\n",
      "[CV] .................... max_depth=50, n_estimators=30, total=   5.6s\n",
      "[CV] max_depth=50, n_estimators=40 ...................................\n",
      "[CV] .................... max_depth=50, n_estimators=40, total=   7.4s\n",
      "[CV] max_depth=50, n_estimators=40 ...................................\n",
      "[CV] .................... max_depth=50, n_estimators=40, total=   7.7s\n",
      "[CV] max_depth=50, n_estimators=40 ...................................\n",
      "[CV] .................... max_depth=50, n_estimators=40, total=   7.5s\n",
      "[CV] max_depth=50, n_estimators=40 ...................................\n",
      "[CV] .................... max_depth=50, n_estimators=40, total=   7.8s\n",
      "[CV] max_depth=50, n_estimators=50 ...................................\n",
      "[CV] .................... max_depth=50, n_estimators=50, total=   9.5s\n",
      "[CV] max_depth=50, n_estimators=50 ...................................\n",
      "[CV] .................... max_depth=50, n_estimators=50, total=   9.4s\n",
      "[CV] max_depth=50, n_estimators=50 ...................................\n",
      "[CV] .................... max_depth=50, n_estimators=50, total=   9.4s\n",
      "[CV] max_depth=50, n_estimators=50 ...................................\n",
      "[CV] .................... max_depth=50, n_estimators=50, total=   9.2s\n"
     ]
    },
    {
     "name": "stderr",
     "output_type": "stream",
     "text": [
      "[Parallel(n_jobs=1)]: Done 144 out of 144 | elapsed:  9.8min finished\n"
     ]
    },
    {
     "data": {
      "text/plain": [
       "GridSearchCV(cv=4, error_score=nan,\n",
       "             estimator=RandomForestRegressor(bootstrap=True, ccp_alpha=0.0,\n",
       "                                             criterion='mse', max_depth=None,\n",
       "                                             max_features='auto',\n",
       "                                             max_leaf_nodes=None,\n",
       "                                             max_samples=None,\n",
       "                                             min_impurity_decrease=0.0,\n",
       "                                             min_impurity_split=None,\n",
       "                                             min_samples_leaf=1,\n",
       "                                             min_samples_split=2,\n",
       "                                             min_weight_fraction_leaf=0.0,\n",
       "                                             n_estimators=100, n_jobs=None,\n",
       "                                             oob_score=False, random_state=None,\n",
       "                                             verbose=0, warm_start=False),\n",
       "             iid='deprecated', n_jobs=None,\n",
       "             param_grid={'max_depth': [5, 10, 20, 30, 40, 50],\n",
       "                         'n_estimators': [5, 10, 20, 30, 40, 50]},\n",
       "             pre_dispatch='2*n_jobs', refit=True, return_train_score=False,\n",
       "             scoring=None, verbose=2)"
      ]
     },
     "execution_count": 19,
     "metadata": {},
     "output_type": "execute_result"
    }
   ],
   "source": [
    "param_grid = { \n",
    "    'n_estimators'     : [5,10,20,30,40,50],\n",
    "    'max_depth'        : [5,10,20,30,40,50]\n",
    "}\n",
    "CV_clf = GridSearchCV(estimator=RandomForestRegressor(), param_grid=param_grid,cv=4,verbose=2)\n",
    "CV_clf.fit(X_train, y_train)"
   ]
  },
  {
   "cell_type": "code",
   "execution_count": 20,
   "metadata": {},
   "outputs": [
    {
     "name": "stdout",
     "output_type": "stream",
     "text": [
      "Best Parameters:  {'max_depth': 50, 'n_estimators': 50}\n"
     ]
    }
   ],
   "source": [
    "print('Best Parameters: ', CV_clf.best_params_)"
   ]
  },
  {
   "cell_type": "code",
   "execution_count": 21,
   "metadata": {},
   "outputs": [
    {
     "data": {
      "text/plain": [
       "RandomForestRegressor(bootstrap=True, ccp_alpha=0.0, criterion='mse',\n",
       "                      max_depth=50, max_features='auto', max_leaf_nodes=None,\n",
       "                      max_samples=None, min_impurity_decrease=0.0,\n",
       "                      min_impurity_split=None, min_samples_leaf=1,\n",
       "                      min_samples_split=2, min_weight_fraction_leaf=0.0,\n",
       "                      n_estimators=50, n_jobs=None, oob_score=False,\n",
       "                      random_state=None, verbose=0, warm_start=False)"
      ]
     },
     "execution_count": 21,
     "metadata": {},
     "output_type": "execute_result"
    }
   ],
   "source": [
    "rf_clf = RandomForestRegressor(max_depth=CV_clf.best_params_['max_depth'],n_estimators=CV_clf.best_params_['n_estimators'])\n",
    "rf_clf.fit(X_train,y_train)"
   ]
  },
  {
   "cell_type": "code",
   "execution_count": 22,
   "metadata": {},
   "outputs": [
    {
     "name": "stdout",
     "output_type": "stream",
     "text": [
      "Train Accuracy: 96.9%\n",
      "Test Accuracy: 78.7%\n"
     ]
    }
   ],
   "source": [
    "rf_accuracy_train = rf_clf.score(X_train, y_train)\n",
    "print(\"Train Accuracy: %.1f%%\"% (rf_accuracy_train*100))\n",
    "rf_accuracy_test = rf_clf.score(X_test,y_test)\n",
    "print(\"Test Accuracy: %.1f%%\"% (rf_accuracy_test*100))"
   ]
  },
  {
   "cell_type": "markdown",
   "metadata": {},
   "source": [
    "The performance of the Random Forest is better than in the first iteration, with also a big overfit. We should notice that even though the data amount used is 10 times less than in the first iteration, the performance is only slightly worse, so the current data preprocessing and <b>Feature Engineering</b> is dealing good results. "
   ]
  },
  {
   "cell_type": "code",
   "execution_count": 23,
   "metadata": {},
   "outputs": [
    {
     "data": {
      "image/png": "[encoded data removed]",
      "text/plain": [
       "<Figure size 576x360 with 2 Axes>"
      ]
     },
     "metadata": {
      "needs_background": "light"
     },
     "output_type": "display_data"
    }
   ],
   "source": [
    "# Confusion Matrix\n",
    "prediction = np.round(rf_clf.predict(X_test))\n",
    "\n",
    "confmat = multilabel_confusion_matrix(y_true=y_test, y_pred=prediction)\n",
    "\n",
    "conf_matrix = pd.DataFrame(data=confmat[0],columns=['Predicted:0','Predicted:1'],index=['Actual:0','Actual:1'])\n",
    "plt.figure(figsize = (8,5))\n",
    "sns.heatmap(conf_matrix, annot=True,fmt='d',cmap=\"YlGnBu\").set_title(\"Confusion Matrix (resampled data)\\n Decision Tree\", fontsize=16)\n",
    "plt.show()"
   ]
  },
  {
   "cell_type": "code",
   "execution_count": 24,
   "metadata": {},
   "outputs": [
    {
     "data": {
      "image/png": "[encoded data removed]",
      "text/plain": [
       "<Figure size 1080x720 with 1 Axes>"
      ]
     },
     "metadata": {
      "needs_background": "light"
     },
     "output_type": "display_data"
    }
   ],
   "source": [
    "importances = pd.DataFrame(np.zeros((X_train.shape[1], 1)), columns=['importance'], index=df.drop('Severity',axis=1).columns)\n",
    "\n",
    "importances.iloc[:,0] = rf_clf.feature_importances_\n",
    "\n",
    "importances.sort_values(by='importance', inplace=True, ascending=False)\n",
    "importances30 = importances.head(30)\n",
    "\n",
    "plt.figure(figsize=(15, 10))\n",
    "sns.barplot(x='importance', y=importances30.index, data=importances30)\n",
    "\n",
    "plt.xlabel('')\n",
    "plt.tick_params(axis='x', labelsize=10)\n",
    "plt.tick_params(axis='y', labelsize=10)\n",
    "plt.title('Random Forest Classifier Feature Importance', size=15)\n",
    "\n",
    "plt.show()"
   ]
  },
  {
   "cell_type": "markdown",
   "metadata": {},
   "source": [
    "Again, this Features make much more sense than during iteration 1."
   ]
  },
  {
   "cell_type": "markdown",
   "metadata": {},
   "source": [
    "## Neural Network"
   ]
  },
  {
   "cell_type": "markdown",
   "metadata": {},
   "source": [
    "For the NN to work, I need to first one-hot encode the y-labels!"
   ]
  },
  {
   "cell_type": "code",
   "execution_count": 25,
   "metadata": {},
   "outputs": [],
   "source": [
    "# One-hot encode the 4 severity levels!\n",
    "y_train_encoded = pd.get_dummies(y_train, drop_first=False)\n",
    "y_test_encoded = pd.get_dummies(y_test, drop_first=False)"
   ]
  },
  {
   "cell_type": "markdown",
   "metadata": {},
   "source": [
    "Since I am dealing with 10 times fewer data, I need a more simple model in order to not overfit."
   ]
  },
  {
   "cell_type": "code",
   "execution_count": 50,
   "metadata": {},
   "outputs": [],
   "source": [
    "# Define the keras model\n",
    "\n",
    "model = Sequential()\n",
    "model.add(Dense(50, input_dim=160, activation='relu'))\n",
    "model.add(Dense(50, activation='relu'))\n",
    "model.add(Dense(4, activation='softmax'))"
   ]
  },
  {
   "cell_type": "code",
   "execution_count": 51,
   "metadata": {},
   "outputs": [],
   "source": [
    "# Compile the keras model\n",
    "\n",
    "model.compile(loss='categorical_crossentropy', optimizer='adam', metrics=['accuracy'])"
   ]
  },
  {
   "cell_type": "code",
   "execution_count": 52,
   "metadata": {},
   "outputs": [
    {
     "name": "stdout",
     "output_type": "stream",
     "text": [
      "Epoch 1/30\n",
      "532/532 [==============================] - 0s 737us/step - loss: 1.0712 - accuracy: 0.5311\n",
      "Epoch 2/30\n",
      "532/532 [==============================] - 0s 742us/step - loss: 0.8815 - accuracy: 0.6319\n",
      "Epoch 3/30\n",
      "532/532 [==============================] - 0s 852us/step - loss: 0.8091 - accuracy: 0.6738\n",
      "Epoch 4/30\n",
      "532/532 [==============================] - 0s 823us/step - loss: 0.7494 - accuracy: 0.7050\n",
      "Epoch 5/30\n",
      "532/532 [==============================] - 0s 775us/step - loss: 0.6964 - accuracy: 0.7258\n",
      "Epoch 6/30\n",
      "532/532 [==============================] - 0s 810us/step - loss: 0.6535 - accuracy: 0.7446\n",
      "Epoch 7/30\n",
      "532/532 [==============================] - 0s 787us/step - loss: 0.6190 - accuracy: 0.7639\n",
      "Epoch 8/30\n",
      "532/532 [==============================] - 0s 759us/step - loss: 0.5869 - accuracy: 0.7724\n",
      "Epoch 9/30\n",
      "532/532 [==============================] - 0s 802us/step - loss: 0.5613 - accuracy: 0.7828\n",
      "Epoch 10/30\n",
      "532/532 [==============================] - 0s 772us/step - loss: 0.5388 - accuracy: 0.7906\n",
      "Epoch 11/30\n",
      "532/532 [==============================] - 0s 804us/step - loss: 0.5172 - accuracy: 0.8006\n",
      "Epoch 12/30\n",
      "532/532 [==============================] - 0s 825us/step - loss: 0.4991 - accuracy: 0.8068\n",
      "Epoch 13/30\n",
      "532/532 [==============================] - 0s 771us/step - loss: 0.4849 - accuracy: 0.8115\n",
      "Epoch 14/30\n",
      "532/532 [==============================] - 0s 821us/step - loss: 0.4699 - accuracy: 0.8168\n",
      "Epoch 15/30\n",
      "532/532 [==============================] - 0s 788us/step - loss: 0.4584 - accuracy: 0.8197\n",
      "Epoch 16/30\n",
      "532/532 [==============================] - 1s 1ms/step - loss: 0.4423 - accuracy: 0.8283\n",
      "Epoch 17/30\n",
      "532/532 [==============================] - 1s 1ms/step - loss: 0.4317 - accuracy: 0.8304: 0s - loss: 0.4050 - \n",
      "Epoch 18/30\n",
      "532/532 [==============================] - 0s 840us/step - loss: 0.4224 - accuracy: 0.8345\n",
      "Epoch 19/30\n",
      "532/532 [==============================] - 0s 827us/step - loss: 0.4142 - accuracy: 0.8373\n",
      "Epoch 20/30\n",
      "532/532 [==============================] - 0s 779us/step - loss: 0.4043 - accuracy: 0.8402\n",
      "Epoch 21/30\n",
      "532/532 [==============================] - 0s 784us/step - loss: 0.3958 - accuracy: 0.8474\n",
      "Epoch 22/30\n",
      "532/532 [==============================] - 0s 792us/step - loss: 0.3886 - accuracy: 0.8491\n",
      "Epoch 23/30\n",
      "532/532 [==============================] - 0s 790us/step - loss: 0.3764 - accuracy: 0.8541\n",
      "Epoch 24/30\n",
      "532/532 [==============================] - 0s 786us/step - loss: 0.3689 - accuracy: 0.8576\n",
      "Epoch 25/30\n",
      "532/532 [==============================] - 1s 1ms/step - loss: 0.3623 - accuracy: 0.8593\n",
      "Epoch 26/30\n",
      "532/532 [==============================] - 1s 1ms/step - loss: 0.3588 - accuracy: 0.8599\n",
      "Epoch 27/30\n",
      "532/532 [==============================] - 1s 1ms/step - loss: 0.3505 - accuracy: 0.8639\n",
      "Epoch 28/30\n",
      "532/532 [==============================] - 0s 924us/step - loss: 0.3439 - accuracy: 0.8674\n",
      "Epoch 29/30\n",
      "532/532 [==============================] - 0s 869us/step - loss: 0.3415 - accuracy: 0.8689\n",
      "Epoch 30/30\n",
      "532/532 [==============================] - 0s 838us/step - loss: 0.3317 - accuracy: 0.8704\n"
     ]
    },
    {
     "data": {
      "text/plain": [
       "<tensorflow.python.keras.callbacks.History at 0x1a478cb110>"
      ]
     },
     "execution_count": 52,
     "metadata": {},
     "output_type": "execute_result"
    }
   ],
   "source": [
    "# Fit the keras model on the dataset\n",
    "\n",
    "model.fit(X_train, y_train_encoded, epochs=30, batch_size=32)"
   ]
  },
  {
   "cell_type": "code",
   "execution_count": 53,
   "metadata": {},
   "outputs": [
    {
     "name": "stdout",
     "output_type": "stream",
     "text": [
      "532/532 [==============================] - 0s 543us/step - loss: 0.2954 - accuracy: 0.8869\n",
      "Accuracy: 88.69\n",
      "94/94 [==============================] - 0s 641us/step - loss: 1.0164 - accuracy: 0.7020\n",
      "Accuracy: 70.20\n"
     ]
    }
   ],
   "source": [
    "# Evaluate the keras model\n",
    "\n",
    "_, accuracy_nn_train = model.evaluate(X_train, y_train_encoded)\n",
    "print('Accuracy: %.2f' % (accuracy_nn_train*100))\n",
    "\n",
    "_, accuracy_nn_test = model.evaluate(X_test, y_test_encoded)\n",
    "print('Accuracy: %.2f' % (accuracy_nn_test*100))"
   ]
  },
  {
   "cell_type": "markdown",
   "metadata": {},
   "source": [
    "The DL approach is doing slightly better as in the same interation, but more or less as good. Also here it should be noticed that there was 10 times fewer data and (also because of the fewer data fed to the model) a lot less training time."
   ]
  },
  {
   "cell_type": "markdown",
   "metadata": {},
   "source": [
    "## Summary table"
   ]
  },
  {
   "cell_type": "code",
   "execution_count": 56,
   "metadata": {},
   "outputs": [],
   "source": [
    "df_summary = pd.DataFrame(columns=['Model', 'Train_Accuracy[%]', 'Test_Accuracy[%]'])"
   ]
  },
  {
   "cell_type": "code",
   "execution_count": 57,
   "metadata": {},
   "outputs": [],
   "source": [
    "df_summary.Model = ['Linear SVM', 'Decision Tree', 'Random Forest', 'Neural Network']\n",
    "df_summary['Train_Accuracy[%]'] = ['60.5', '91.9', '96.9', '88.69']\n",
    "df_summary['Test_Accuracy[%]'] = ['61.7', '69.4', '78.7', '70.2']"
   ]
  },
  {
   "cell_type": "code",
   "execution_count": 58,
   "metadata": {},
   "outputs": [
    {
     "data": {
      "text/html": [
       "<div>\n",
       "<style scoped>\n",
       "    .dataframe tbody tr th:only-of-type {\n",
       "        vertical-align: middle;\n",
       "    }\n",
       "\n",
       "    .dataframe tbody tr th {\n",
       "        vertical-align: top;\n",
       "    }\n",
       "\n",
       "    .dataframe thead th {\n",
       "        text-align: right;\n",
       "    }\n",
       "</style>\n",
       "<table border=\"1\" class=\"dataframe\">\n",
       "  <thead>\n",
       "    <tr style=\"text-align: right;\">\n",
       "      <th></th>\n",
       "      <th>Model</th>\n",
       "      <th>Train_Accuracy[%]</th>\n",
       "      <th>Test_Accuracy[%]</th>\n",
       "    </tr>\n",
       "  </thead>\n",
       "  <tbody>\n",
       "    <tr>\n",
       "      <th>0</th>\n",
       "      <td>Linear SVM</td>\n",
       "      <td>60.5</td>\n",
       "      <td>61.7</td>\n",
       "    </tr>\n",
       "    <tr>\n",
       "      <th>1</th>\n",
       "      <td>Decision Tree</td>\n",
       "      <td>91.9</td>\n",
       "      <td>69.4</td>\n",
       "    </tr>\n",
       "    <tr>\n",
       "      <th>2</th>\n",
       "      <td>Random Forest</td>\n",
       "      <td>96.9</td>\n",
       "      <td>78.7</td>\n",
       "    </tr>\n",
       "    <tr>\n",
       "      <th>3</th>\n",
       "      <td>Neural Network</td>\n",
       "      <td>88.69</td>\n",
       "      <td>70.2</td>\n",
       "    </tr>\n",
       "  </tbody>\n",
       "</table>\n",
       "</div>"
      ],
      "text/plain": [
       "            Model Train_Accuracy[%] Test_Accuracy[%]\n",
       "0      Linear SVM              60.5             61.7\n",
       "1   Decision Tree              91.9             69.4\n",
       "2   Random Forest              96.9             78.7\n",
       "3  Neural Network             88.69             70.2"
      ]
     },
     "execution_count": 58,
     "metadata": {},
     "output_type": "execute_result"
    }
   ],
   "source": [
    "df_summary"
   ]
  },
  {
   "cell_type": "markdown",
   "metadata": {},
   "source": [
    "## Conclusions and Outlook"
   ]
  },
  {
   "cell_type": "markdown",
   "metadata": {},
   "source": [
    "Iteration 2 was quite successful. With 10 times fewer data and much less training time for all algorithms I acheived a higher model accuracy than in the first iteration. Even though the model.<br>\n",
    "\n",
    "It was a pitty that so much data was lost due to dropping the data from 'Source' <b>Bing</b>. A future work could study if the performance can be notably enhanced by only categorizing between severity levels 2-4, since the data available for those categories is around 6 times more so it would be interesting to see how the model performs with such an amount of data."
   ]
  }
 ],
 "metadata": {
  "kernelspec": {
   "display_name": "Python 3",
   "language": "python",
   "name": "python3"
  },
  "language_info": {
   "codemirror_mode": {
    "name": "ipython",
    "version": 3
   },
   "file_extension": ".py",
   "mimetype": "text/x-python",
   "name": "python",
   "nbconvert_exporter": "python",
   "pygments_lexer": "ipython3",
   "version": "3.7.6"
  }
 },
 "nbformat": 4,
 "nbformat_minor": 4
}
