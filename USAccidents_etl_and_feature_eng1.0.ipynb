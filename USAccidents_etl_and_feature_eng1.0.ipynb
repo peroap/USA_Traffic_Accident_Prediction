{
 "cells": [
  {
   "cell_type": "markdown",
   "metadata": {},
   "source": [
    "# ETL and Feature Engineering: Iteration 2.0"
   ]
  },
  {
   "cell_type": "markdown",
   "metadata": {},
   "source": [
    "This script will do the same preprocessing as in the first itearation, but this time only with data from Sources 'MapQuest' and 'MapQuest-Bing'."
   ]
  },
  {
   "cell_type": "code",
   "execution_count": 1,
   "metadata": {},
   "outputs": [],
   "source": [
    "import math\n",
    "\n",
    "import numpy as np\n",
    "import pandas as pd\n",
    "\n",
    "import matplotlib.pyplot as plt\n",
    "%matplotlib inline\n",
    "import seaborn as sns"
   ]
  },
  {
   "cell_type": "code",
   "execution_count": 2,
   "metadata": {},
   "outputs": [
    {
     "data": {
      "text/html": [
       "<div>\n",
       "<style scoped>\n",
       "    .dataframe tbody tr th:only-of-type {\n",
       "        vertical-align: middle;\n",
       "    }\n",
       "\n",
       "    .dataframe tbody tr th {\n",
       "        vertical-align: top;\n",
       "    }\n",
       "\n",
       "    .dataframe thead th {\n",
       "        text-align: right;\n",
       "    }\n",
       "</style>\n",
       "<table border=\"1\" class=\"dataframe\">\n",
       "  <thead>\n",
       "    <tr style=\"text-align: right;\">\n",
       "      <th></th>\n",
       "      <th>ID</th>\n",
       "      <th>Source</th>\n",
       "      <th>TMC</th>\n",
       "      <th>Severity</th>\n",
       "      <th>Start_Time</th>\n",
       "      <th>End_Time</th>\n",
       "      <th>Start_Lat</th>\n",
       "      <th>Start_Lng</th>\n",
       "      <th>End_Lat</th>\n",
       "      <th>End_Lng</th>\n",
       "      <th>...</th>\n",
       "      <th>Civil_Twilight</th>\n",
       "      <th>Nautical_Twilight</th>\n",
       "      <th>Astronomical_Twilight</th>\n",
       "      <th>Year</th>\n",
       "      <th>Month</th>\n",
       "      <th>Weekday</th>\n",
       "      <th>Day</th>\n",
       "      <th>Hour</th>\n",
       "      <th>Minute</th>\n",
       "      <th>Duration</th>\n",
       "    </tr>\n",
       "  </thead>\n",
       "  <tbody>\n",
       "    <tr>\n",
       "      <th>0</th>\n",
       "      <td>A-1</td>\n",
       "      <td>MapQuest</td>\n",
       "      <td>201.0</td>\n",
       "      <td>3</td>\n",
       "      <td>2016-02-08 05:46:00</td>\n",
       "      <td>2016-02-08 11:00:00</td>\n",
       "      <td>39.865147</td>\n",
       "      <td>-84.058723</td>\n",
       "      <td>NaN</td>\n",
       "      <td>NaN</td>\n",
       "      <td>...</td>\n",
       "      <td>Night</td>\n",
       "      <td>Night</td>\n",
       "      <td>Night</td>\n",
       "      <td>2016</td>\n",
       "      <td>2</td>\n",
       "      <td>0</td>\n",
       "      <td>39</td>\n",
       "      <td>5</td>\n",
       "      <td>346.0</td>\n",
       "      <td>314.0</td>\n",
       "    </tr>\n",
       "    <tr>\n",
       "      <th>1</th>\n",
       "      <td>A-2</td>\n",
       "      <td>MapQuest</td>\n",
       "      <td>201.0</td>\n",
       "      <td>2</td>\n",
       "      <td>2016-02-08 06:07:59</td>\n",
       "      <td>2016-02-08 06:37:59</td>\n",
       "      <td>39.928059</td>\n",
       "      <td>-82.831184</td>\n",
       "      <td>NaN</td>\n",
       "      <td>NaN</td>\n",
       "      <td>...</td>\n",
       "      <td>Night</td>\n",
       "      <td>Night</td>\n",
       "      <td>Day</td>\n",
       "      <td>2016</td>\n",
       "      <td>2</td>\n",
       "      <td>0</td>\n",
       "      <td>39</td>\n",
       "      <td>6</td>\n",
       "      <td>367.0</td>\n",
       "      <td>30.0</td>\n",
       "    </tr>\n",
       "    <tr>\n",
       "      <th>2</th>\n",
       "      <td>A-3</td>\n",
       "      <td>MapQuest</td>\n",
       "      <td>201.0</td>\n",
       "      <td>2</td>\n",
       "      <td>2016-02-08 06:49:27</td>\n",
       "      <td>2016-02-08 07:19:27</td>\n",
       "      <td>39.063148</td>\n",
       "      <td>-84.032608</td>\n",
       "      <td>NaN</td>\n",
       "      <td>NaN</td>\n",
       "      <td>...</td>\n",
       "      <td>Night</td>\n",
       "      <td>Day</td>\n",
       "      <td>Day</td>\n",
       "      <td>2016</td>\n",
       "      <td>2</td>\n",
       "      <td>0</td>\n",
       "      <td>39</td>\n",
       "      <td>6</td>\n",
       "      <td>409.0</td>\n",
       "      <td>30.0</td>\n",
       "    </tr>\n",
       "    <tr>\n",
       "      <th>3</th>\n",
       "      <td>A-4</td>\n",
       "      <td>MapQuest</td>\n",
       "      <td>201.0</td>\n",
       "      <td>3</td>\n",
       "      <td>2016-02-08 07:23:34</td>\n",
       "      <td>2016-02-08 07:53:34</td>\n",
       "      <td>39.747753</td>\n",
       "      <td>-84.205582</td>\n",
       "      <td>NaN</td>\n",
       "      <td>NaN</td>\n",
       "      <td>...</td>\n",
       "      <td>Day</td>\n",
       "      <td>Day</td>\n",
       "      <td>Day</td>\n",
       "      <td>2016</td>\n",
       "      <td>2</td>\n",
       "      <td>0</td>\n",
       "      <td>39</td>\n",
       "      <td>7</td>\n",
       "      <td>443.0</td>\n",
       "      <td>30.0</td>\n",
       "    </tr>\n",
       "    <tr>\n",
       "      <th>4</th>\n",
       "      <td>A-5</td>\n",
       "      <td>MapQuest</td>\n",
       "      <td>201.0</td>\n",
       "      <td>2</td>\n",
       "      <td>2016-02-08 07:39:07</td>\n",
       "      <td>2016-02-08 08:09:07</td>\n",
       "      <td>39.627781</td>\n",
       "      <td>-84.188354</td>\n",
       "      <td>NaN</td>\n",
       "      <td>NaN</td>\n",
       "      <td>...</td>\n",
       "      <td>Day</td>\n",
       "      <td>Day</td>\n",
       "      <td>Day</td>\n",
       "      <td>2016</td>\n",
       "      <td>2</td>\n",
       "      <td>0</td>\n",
       "      <td>39</td>\n",
       "      <td>7</td>\n",
       "      <td>459.0</td>\n",
       "      <td>30.0</td>\n",
       "    </tr>\n",
       "  </tbody>\n",
       "</table>\n",
       "<p>5 rows × 56 columns</p>\n",
       "</div>"
      ],
      "text/plain": [
       "    ID    Source    TMC  Severity           Start_Time             End_Time  \\\n",
       "0  A-1  MapQuest  201.0         3  2016-02-08 05:46:00  2016-02-08 11:00:00   \n",
       "1  A-2  MapQuest  201.0         2  2016-02-08 06:07:59  2016-02-08 06:37:59   \n",
       "2  A-3  MapQuest  201.0         2  2016-02-08 06:49:27  2016-02-08 07:19:27   \n",
       "3  A-4  MapQuest  201.0         3  2016-02-08 07:23:34  2016-02-08 07:53:34   \n",
       "4  A-5  MapQuest  201.0         2  2016-02-08 07:39:07  2016-02-08 08:09:07   \n",
       "\n",
       "   Start_Lat  Start_Lng  End_Lat  End_Lng  ...  Civil_Twilight  \\\n",
       "0  39.865147 -84.058723      NaN      NaN  ...           Night   \n",
       "1  39.928059 -82.831184      NaN      NaN  ...           Night   \n",
       "2  39.063148 -84.032608      NaN      NaN  ...           Night   \n",
       "3  39.747753 -84.205582      NaN      NaN  ...             Day   \n",
       "4  39.627781 -84.188354      NaN      NaN  ...             Day   \n",
       "\n",
       "  Nautical_Twilight  Astronomical_Twilight  Year Month Weekday Day Hour  \\\n",
       "0             Night                  Night  2016     2       0  39    5   \n",
       "1             Night                    Day  2016     2       0  39    6   \n",
       "2               Day                    Day  2016     2       0  39    6   \n",
       "3               Day                    Day  2016     2       0  39    7   \n",
       "4               Day                    Day  2016     2       0  39    7   \n",
       "\n",
       "  Minute Duration  \n",
       "0  346.0    314.0  \n",
       "1  367.0     30.0  \n",
       "2  409.0     30.0  \n",
       "3  443.0     30.0  \n",
       "4  459.0     30.0  \n",
       "\n",
       "[5 rows x 56 columns]"
      ]
     },
     "execution_count": 2,
     "metadata": {},
     "output_type": "execute_result"
    }
   ],
   "source": [
    "#Import cleaned dataset. It is the one that was exported with the script from last submission. \n",
    "df = pd.read_csv(\"US_Accidents_June20_CLEAN_Week1_Iteration2.0.csv\")\n",
    "df.head()"
   ]
  },
  {
   "cell_type": "markdown",
   "metadata": {},
   "source": [
    "## Feature Engineering"
   ]
  },
  {
   "cell_type": "markdown",
   "metadata": {},
   "source": [
    "As mentioned above, this script does the same feature engineering as in the first iteration, but to data only provenient from 2 of the 3 'Sources'. The output will only contain the features that are relevant for the training of the model. Also, those features will be already in shape to be fed to the prediction models, so one-hot encoding will also be performed. Irrelevant features will be deleted."
   ]
  },
  {
   "cell_type": "code",
   "execution_count": 3,
   "metadata": {},
   "outputs": [],
   "source": [
    "#Change all times to timestamps.Timestamp-data type.\n",
    "df['Start_Time'] = pd.to_datetime(df.Start_Time, format='%Y-%m-%d %H:%M:%S')\n",
    "df['End_Time'] = pd.to_datetime(df.End_Time, format='%Y-%m-%d %H:%M:%S')\n",
    "df['Weather_Timestamp'] = pd.to_datetime(df.Weather_Timestamp, format='%Y-%m-%d %H:%M:%S')"
   ]
  },
  {
   "cell_type": "markdown",
   "metadata": {},
   "source": [
    "### Irrelevant Features"
   ]
  },
  {
   "cell_type": "markdown",
   "metadata": {},
   "source": [
    "All features that cannot be used as a predictor for the severity of the accident should be deleted. For that reason, all data that is gathered after the accident has taken place (i.e. 'End_Timestamp') and all data that has no relation to the accident (i.e. 'ID') will be deleted."
   ]
  },
  {
   "cell_type": "code",
   "execution_count": 4,
   "metadata": {},
   "outputs": [
    {
     "name": "stdout",
     "output_type": "stream",
     "text": [
      "Number of features: 56\n",
      "Index(['ID', 'Source', 'TMC', 'Severity', 'Start_Time', 'End_Time',\n",
      "       'Start_Lat', 'Start_Lng', 'End_Lat', 'End_Lng', 'Distance(mi)',\n",
      "       'Description', 'Number', 'Street', 'Side', 'City', 'County', 'State',\n",
      "       'Zipcode', 'Country', 'Timezone', 'Airport_Code', 'Weather_Timestamp',\n",
      "       'Temperature(F)', 'Wind_Chill(F)', 'Humidity(%)', 'Pressure(in)',\n",
      "       'Visibility(mi)', 'Wind_Direction', 'Wind_Speed(mph)',\n",
      "       'Precipitation(in)', 'Weather_Condition', 'Amenity', 'Bump', 'Crossing',\n",
      "       'Give_Way', 'Junction', 'No_Exit', 'Railway', 'Roundabout', 'Station',\n",
      "       'Stop', 'Traffic_Calming', 'Traffic_Signal', 'Turning_Loop',\n",
      "       'Sunrise_Sunset', 'Civil_Twilight', 'Nautical_Twilight',\n",
      "       'Astronomical_Twilight', 'Year', 'Month', 'Weekday', 'Day', 'Hour',\n",
      "       'Minute', 'Duration'],\n",
      "      dtype='object')\n"
     ]
    }
   ],
   "source": [
    "# Display columns\n",
    "print('Number of features:', df.columns.shape[0])\n",
    "print(df.columns)"
   ]
  },
  {
   "cell_type": "markdown",
   "metadata": {},
   "source": [
    "#### Drop ID and Source since not relevant for prediction"
   ]
  },
  {
   "cell_type": "markdown",
   "metadata": {},
   "source": [
    "The accident ID is not relevant for predicting the severity, so it will be dropped. Also the Source is dropped here, since the imported csv has already data only from 'MapQuest' and 'MapQuest-Bing'."
   ]
  },
  {
   "cell_type": "code",
   "execution_count": 5,
   "metadata": {},
   "outputs": [
    {
     "name": "stdout",
     "output_type": "stream",
     "text": [
      "Number of features before drop: 56\n",
      "Number of features after drop: 54\n"
     ]
    }
   ],
   "source": [
    "print('Number of features before drop:', df.columns.shape[0])\n",
    "df = df.drop(['ID', 'Source'], axis=1)\n",
    "print('Number of features after drop:', df.columns.shape[0])"
   ]
  },
  {
   "cell_type": "markdown",
   "metadata": {},
   "source": [
    "#### Drop TMC since it is defined after the accident"
   ]
  },
  {
   "cell_type": "markdown",
   "metadata": {},
   "source": [
    "The TMC (Code that describes the accident) is of course not a valid predictor since it is defined after the accident takes place."
   ]
  },
  {
   "cell_type": "code",
   "execution_count": 6,
   "metadata": {},
   "outputs": [
    {
     "name": "stdout",
     "output_type": "stream",
     "text": [
      "Number of features before drop: 54\n",
      "Number of features after drop: 53\n"
     ]
    }
   ],
   "source": [
    "print('Number of features before drop:', df.columns.shape[0])\n",
    "df = df.drop('TMC', axis=1)\n",
    "print('Number of features after drop:', df.columns.shape[0])"
   ]
  },
  {
   "cell_type": "markdown",
   "metadata": {},
   "source": [
    "#### Drop End_Time, Duration and Distance(mi)"
   ]
  },
  {
   "cell_type": "markdown",
   "metadata": {},
   "source": [
    "In order to predict severity of the accident, we can of course not now how long it took since the two mayor factors that define the Severity level are Duration until traffic was cleared and Distance of the Accident!"
   ]
  },
  {
   "cell_type": "code",
   "execution_count": 7,
   "metadata": {},
   "outputs": [
    {
     "name": "stdout",
     "output_type": "stream",
     "text": [
      "Number of features before drop: 53\n",
      "Number of features after drop: 50\n"
     ]
    }
   ],
   "source": [
    "print('Number of features before drop:', df.columns.shape[0])\n",
    "df = df.drop(['End_Time', 'Duration', 'Distance(mi)'], axis=1)\n",
    "print('Number of features after drop:', df.columns.shape[0])"
   ]
  },
  {
   "cell_type": "markdown",
   "metadata": {},
   "source": [
    "#### Drop Description"
   ]
  },
  {
   "cell_type": "markdown",
   "metadata": {},
   "source": [
    "Since the description of the accident is filled out after the accident happened, it cannot be used as a predictor!"
   ]
  },
  {
   "cell_type": "code",
   "execution_count": 8,
   "metadata": {},
   "outputs": [
    {
     "name": "stdout",
     "output_type": "stream",
     "text": [
      "Number of features before drop: 50\n",
      "Number of features after drop: 49\n"
     ]
    }
   ],
   "source": [
    "# Drop column 'Description'\n",
    "print('Number of features before drop:', df.columns.shape[0])\n",
    "df = df.drop('Description', axis=1)\n",
    "print('Number of features after drop:', df.columns.shape[0])"
   ]
  },
  {
   "cell_type": "markdown",
   "metadata": {},
   "source": [
    "#### Drop Weather_Timestamp"
   ]
  },
  {
   "cell_type": "markdown",
   "metadata": {},
   "source": [
    "Now that we have all the Timestamps in the same format, let's calculate the difference between last weather record and the time of the accident in order to see how up to date the weather records are."
   ]
  },
  {
   "cell_type": "code",
   "execution_count": 9,
   "metadata": {},
   "outputs": [
    {
     "name": "stdout",
     "output_type": "stream",
     "text": [
      "Number of Weather_Timestamps with more than 1 day difference wrt accident time: 0\n"
     ]
    }
   ],
   "source": [
    "#Calculate difference between Start_Time and Weather_Timestamp\n",
    "\n",
    "weather_time_diff = df.Weather_Timestamp - df.Start_Time\n",
    "#Transform to seconds\n",
    "weather_time_diff = weather_time_diff.dt.total_seconds()\n",
    "#Filter out biggest differences\n",
    "weather_time_diff = weather_time_diff.sort_values(ascending=True)\n",
    "\n",
    "#See how many of the Weather_Timestamps are more than one day away from the time of the accident. \n",
    "weather_bool_big_diff_vec = (weather_time_diff > 86400)|(weather_time_diff < -86400)\n",
    "print('Number of Weather_Timestamps with more than 1 day difference wrt accident time:', weather_bool_big_diff_vec.sum())"
   ]
  },
  {
   "cell_type": "markdown",
   "metadata": {},
   "source": [
    "All of the Weather_Timestamps are within one day from the accident time, which is good. That means the Weather_Conditions are up to date and reflect the real weather at the time of the accident."
   ]
  },
  {
   "cell_type": "code",
   "execution_count": 10,
   "metadata": {},
   "outputs": [
    {
     "name": "stdout",
     "output_type": "stream",
     "text": [
      "Number of features after dropping Weather_Timestamp: 48\n"
     ]
    }
   ],
   "source": [
    "# Drop Weather_Timestamp\n",
    "df = df.drop('Weather_Timestamp', axis=1)\n",
    "print('Number of features after dropping Weather_Timestamp:', df.columns.shape[0])"
   ]
  },
  {
   "cell_type": "markdown",
   "metadata": {},
   "source": [
    "#### Deal with Sunset/Twilight"
   ]
  },
  {
   "cell_type": "markdown",
   "metadata": {},
   "source": [
    "There are 4 Features that describe if at the time of the accident it was 'Day' or 'Night'. Since in my opinion the influence of this factor is mainly in the vision of the driver. I've read through the 4 descriptions and decided I'll only look at the Sunrise_Sunset feature, since it is the one that describes when the sun is in line with the horizont."
   ]
  },
  {
   "cell_type": "code",
   "execution_count": 11,
   "metadata": {},
   "outputs": [
    {
     "name": "stdout",
     "output_type": "stream",
     "text": [
      "Number of features after drop: 45\n"
     ]
    }
   ],
   "source": [
    "df = df.drop(columns=['Civil_Twilight', 'Nautical_Twilight', 'Astronomical_Twilight'])\n",
    "print('Number of features after drop:', df.columns.shape[0])"
   ]
  },
  {
   "cell_type": "markdown",
   "metadata": {},
   "source": [
    "#### Deal with Country"
   ]
  },
  {
   "cell_type": "markdown",
   "metadata": {},
   "source": [
    "All the data is from the USA, to this feature doesn't give any useful information. I'll drop the column."
   ]
  },
  {
   "cell_type": "code",
   "execution_count": 12,
   "metadata": {},
   "outputs": [
    {
     "name": "stdout",
     "output_type": "stream",
     "text": [
      "Number of features after drop: 44\n"
     ]
    }
   ],
   "source": [
    "#Drop 'Country'\n",
    "df = df.drop('Country', axis=1)\n",
    "print('Number of features after drop:', df.columns.shape[0])"
   ]
  },
  {
   "cell_type": "markdown",
   "metadata": {},
   "source": [
    "### Feature grouping"
   ]
  },
  {
   "cell_type": "markdown",
   "metadata": {},
   "source": [
    "#### Weather Condition grouping"
   ]
  },
  {
   "cell_type": "code",
   "execution_count": 13,
   "metadata": {},
   "outputs": [
    {
     "name": "stdout",
     "output_type": "stream",
     "text": [
      "Unique Weather_Condtions: (121,)\n"
     ]
    }
   ],
   "source": [
    "# Create a shorter list for 'Weather_Condition'\n",
    "\n",
    "print('Unique Weather_Condtions:', df['Weather_Condition'].unique().shape)"
   ]
  },
  {
   "cell_type": "code",
   "execution_count": 14,
   "metadata": {},
   "outputs": [
    {
     "name": "stdout",
     "output_type": "stream",
     "text": [
      "Unique Weather_Condtions list: ['Light Rain' 'Overcast' 'Mostly Cloudy' 'Rain' 'Light Snow' 'Haze'\n",
      " 'Scattered Clouds' 'Partly Cloudy' 'Clear' 'Snow'\n",
      " 'Light Freezing Drizzle' 'Light Drizzle' 'Fog' 'Shallow Fog' 'Heavy Rain'\n",
      " 'Light Freezing Rain' 'Cloudy' 'Drizzle' nan 'Light Rain Showers' 'Mist'\n",
      " 'Smoke' 'Patches of Fog' 'Light Freezing Fog' 'Light Haze'\n",
      " 'Light Thunderstorms and Rain' 'Thunderstorms and Rain' 'Fair'\n",
      " 'Volcanic Ash' 'Blowing Sand' 'Blowing Dust / Windy' 'Widespread Dust'\n",
      " 'Fair / Windy' 'Rain Showers' 'Mostly Cloudy / Windy'\n",
      " 'Light Rain / Windy' 'Hail' 'Heavy Drizzle' 'Showers in the Vicinity'\n",
      " 'Thunderstorm' 'Light Rain Shower' 'Light Rain with Thunder'\n",
      " 'Partly Cloudy / Windy' 'Thunder in the Vicinity' 'T-Storm'\n",
      " 'Heavy Thunderstorms and Rain' 'Thunder' 'Heavy T-Storm' 'Funnel Cloud'\n",
      " 'Heavy T-Storm / Windy' 'Blowing Snow' 'Light Thunderstorms and Snow'\n",
      " 'Heavy Snow' 'Low Drifting Snow' 'Light Ice Pellets' 'Ice Pellets'\n",
      " 'Squalls' 'N/A Precipitation' 'Cloudy / Windy' 'Light Fog' 'Sand'\n",
      " 'Snow Grains' 'Snow Showers' 'Heavy Thunderstorms and Snow'\n",
      " 'Rain / Windy' 'Heavy Rain / Windy' 'Heavy Ice Pellets'\n",
      " 'Light Snow / Windy' 'Heavy Freezing Rain' 'Small Hail'\n",
      " 'Heavy Rain Showers' 'T-Storm / Windy' 'Patches of Fog / Windy'\n",
      " 'Drizzle / Windy' 'Thunder / Windy' 'Wintry Mix' 'Squalls / Windy'\n",
      " 'Rain Shower' 'Drizzle and Fog' 'Haze / Windy' 'Sand / Dust Whirlwinds'\n",
      " 'Blowing Dust' 'Fog / Windy' 'Smoke / Windy' 'Wintry Mix / Windy'\n",
      " 'Snow / Windy' 'Light Rain Shower / Windy' 'Heavy Snow / Windy'\n",
      " 'Snow and Sleet' 'Light Freezing Rain / Windy' 'Light Drizzle / Windy'\n",
      " 'Light Snow and Sleet' 'Partial Fog' 'Light Snow Shower'\n",
      " 'Light Snow and Sleet / Windy' 'Freezing Rain' 'Blowing Snow / Windy'\n",
      " 'Freezing Drizzle' 'Sleet' 'Light Sleet' 'Rain and Sleet' 'Heavy Sleet'\n",
      " 'Light Snow Grains' 'Partial Fog / Windy' 'Light Snow with Thunder'\n",
      " 'Widespread Dust / Windy' 'Sand / Dust Whirlwinds / Windy' 'Tornado'\n",
      " 'Snow and Thunder' 'Snow and Sleet / Windy' 'Heavy Snow with Thunder'\n",
      " 'Thunder / Wintry Mix / Windy' 'Light Snow Showers' 'Heavy Blowing Snow'\n",
      " 'Light Hail' 'Heavy Smoke' 'Heavy Thunderstorms with Small Hail'\n",
      " 'Light Thunderstorm' 'Heavy Freezing Drizzle' 'Light Blowing Snow'\n",
      " 'Thunderstorms and Snow']\n"
     ]
    }
   ],
   "source": [
    "print('Unique Weather_Condtions list:', df['Weather_Condition'].unique())"
   ]
  },
  {
   "cell_type": "markdown",
   "metadata": {},
   "source": [
    "There are 128 unique weather conditions. After inspecting the weather conditions, I've decided to group them in 9 different groups after my judgement of similarity. This way I can get insights more easily. Also, this will be handy to see the feature importance when the model is created."
   ]
  },
  {
   "cell_type": "code",
   "execution_count": 15,
   "metadata": {},
   "outputs": [
    {
     "name": "stdout",
     "output_type": "stream",
     "text": [
      "Number of features: (53,)\n"
     ]
    },
    {
     "data": {
      "text/plain": [
       "Index(['Severity', 'Start_Time', 'Start_Lat', 'Start_Lng', 'End_Lat',\n",
       "       'End_Lng', 'Number', 'Street', 'Side', 'City', 'County', 'State',\n",
       "       'Zipcode', 'Timezone', 'Airport_Code', 'Temperature(F)',\n",
       "       'Wind_Chill(F)', 'Humidity(%)', 'Pressure(in)', 'Visibility(mi)',\n",
       "       'Wind_Direction', 'Wind_Speed(mph)', 'Precipitation(in)',\n",
       "       'Weather_Condition', 'Amenity', 'Bump', 'Crossing', 'Give_Way',\n",
       "       'Junction', 'No_Exit', 'Railway', 'Roundabout', 'Station', 'Stop',\n",
       "       'Traffic_Calming', 'Traffic_Signal', 'Turning_Loop', 'Sunrise_Sunset',\n",
       "       'Year', 'Month', 'Weekday', 'Day', 'Hour', 'Minute', 'Clear', 'Cloudy',\n",
       "       'Rain_Light', 'Rain_Heavy', 'Snow_Light', 'Snow_Heavy', 'Fog', 'Windy',\n",
       "       'Sand/Ash'],\n",
       "      dtype='object')"
      ]
     },
     "execution_count": 15,
     "metadata": {},
     "output_type": "execute_result"
    }
   ],
   "source": [
    "df['Clear'] = np.where(df['Weather_Condition'].str.contains('Clear|N/A Precipitation', case=False, na = False), 1, 0)\n",
    "df['Cloudy'] = np.where(df['Weather_Condition'].str.contains('Cloud|Cloudy|Overcast', case=False, na = False), 1, 0)\n",
    "df['Rain_Light'] = np.where(df['Weather_Condition'].str.contains('Rain|Storm|storm|Drizzle', case=False, na = False), 1, 0)\n",
    "df['Rain_Heavy'] = np.where(df['Weather_Condition'].str.contains('Heavy Rain|Rain Shower|Heavy T-Storm|Heavy Thunderstorms|Thunder|Showers', case=False, na = False), 1, 0)\n",
    "df['Snow_Light'] = np.where(df['Weather_Condition'].str.contains('Snow|Sleet|Ice', case=False, na = False), 1, 0)\n",
    "df['Snow_Heavy'] = np.where(df['Weather_Condition'].str.contains('Heavy Snow|Heavy Sleet|Heavy Ice Pellets|Snow Showers|Squalls|Hail', case=False, na = False), 1, 0)\n",
    "df['Fog'] = np.where(df['Weather_Condition'].str.contains('Fog|Haze', case=False, na = False), 1, 0)\n",
    "df['Windy'] = np.where(df['Weather_Condition'].str.contains('Wind|Windy|Dust', case=False, na = False), 1, 0)\n",
    "df['Sand/Ash'] = np.where(df['Weather_Condition'].str.contains('Sand|Ash', case=False, na = False), 1, 0)\n",
    "\n",
    "print(\"Number of features:\", df.columns.shape)\n",
    "df.columns"
   ]
  },
  {
   "cell_type": "code",
   "execution_count": 16,
   "metadata": {},
   "outputs": [
    {
     "name": "stdout",
     "output_type": "stream",
     "text": [
      "Number of features after drop: (52,)\n"
     ]
    }
   ],
   "source": [
    "#Drop Weather_Condition column\n",
    "df = df.drop(['Weather_Condition'], axis=1)\n",
    "print('Number of features after drop:', df.columns.shape)"
   ]
  },
  {
   "cell_type": "markdown",
   "metadata": {},
   "source": [
    "#### Wind Direction grouping"
   ]
  },
  {
   "cell_type": "markdown",
   "metadata": {},
   "source": [
    "In the begining I also wanted to group the wind directions as in the Weather Conditions, but after looking at a Wind Direction Rose I have decided to not group them, since there is no way of not biasing the groups, since wind directions like SWS can be grouped together with S or SW."
   ]
  },
  {
   "cell_type": "code",
   "execution_count": 17,
   "metadata": {},
   "outputs": [
    {
     "data": {
      "text/plain": [
       "array(['Calm', 'SW', 'SSW', 'WSW', 'WNW', 'NW', 'West', 'NNW', 'NNE',\n",
       "       'South', 'North', 'Variable', 'SE', 'SSE', 'ESE', 'East', 'NE',\n",
       "       'ENE', 'E', 'W', nan, 'S', 'VAR', 'CALM', 'N'], dtype=object)"
      ]
     },
     "execution_count": 17,
     "metadata": {},
     "output_type": "execute_result"
    }
   ],
   "source": [
    "df['Wind_Direction'].unique()"
   ]
  },
  {
   "cell_type": "markdown",
   "metadata": {},
   "source": [
    "There are though some wind directions that are the same and are written in different ways, so those will be grouped."
   ]
  },
  {
   "cell_type": "code",
   "execution_count": 18,
   "metadata": {},
   "outputs": [],
   "source": [
    "#Group Wind_Direction that are the same\n",
    "df['Wind_Direction'].replace('Calm','CALM', inplace=True)\n",
    "df['Wind_Direction'].replace('Variable','VAR', inplace=True)\n",
    "df['Wind_Direction'].replace('South','S', inplace=True)\n",
    "df['Wind_Direction'].replace('North','N', inplace=True)\n",
    "df['Wind_Direction'].replace('East','E', inplace=True)\n",
    "df['Wind_Direction'].replace('West','W', inplace=True)"
   ]
  },
  {
   "cell_type": "markdown",
   "metadata": {},
   "source": [
    "### Missing Data"
   ]
  },
  {
   "cell_type": "markdown",
   "metadata": {},
   "source": [
    "#### Imputting continous values"
   ]
  },
  {
   "cell_type": "markdown",
   "metadata": {},
   "source": [
    "For the moment I'll only impute the float values with the median of that particular feature (more robust towards outliers than mean). For String features, a more detailed analysis should be done."
   ]
  },
  {
   "cell_type": "code",
   "execution_count": 19,
   "metadata": {},
   "outputs": [
    {
     "name": "stdout",
     "output_type": "stream",
     "text": [
      "\n",
      "Severity               0.000000\n",
      "Start_Time             0.000000\n",
      "Start_Lat              0.000000\n",
      "Start_Lng              0.000000\n",
      "End_Lat              100.000000\n",
      "End_Lng              100.000000\n",
      "Number                60.336378\n",
      "Street                 0.000000\n",
      "Side                   0.000000\n",
      "City                   0.002057\n",
      "County                 0.000000\n",
      "State                  0.000000\n",
      "Zipcode                0.012506\n",
      "Timezone               0.083144\n",
      "Airport_Code           0.166975\n",
      "Temperature(F)         0.000000\n",
      "Wind_Chill(F)         58.076793\n",
      "Humidity(%)            0.000000\n",
      "Pressure(in)           0.000000\n",
      "Visibility(mi)         0.000000\n",
      "Wind_Direction         1.431045\n",
      "Wind_Speed(mph)        0.000000\n",
      "Precipitation(in)     62.308003\n",
      "Amenity                0.000000\n",
      "Bump                   0.000000\n",
      "Crossing               0.000000\n",
      "Give_Way               0.000000\n",
      "Junction               0.000000\n",
      "No_Exit                0.000000\n",
      "Railway                0.000000\n",
      "Roundabout             0.000000\n",
      "Station                0.000000\n",
      "Stop                   0.000000\n",
      "Traffic_Calming        0.000000\n",
      "Traffic_Signal         0.000000\n",
      "Turning_Loop           0.000000\n",
      "Sunrise_Sunset         0.002178\n",
      "Year                   0.000000\n",
      "Month                  0.000000\n",
      "Weekday                0.000000\n",
      "Day                    0.000000\n",
      "Hour                   0.000000\n",
      "Minute                 0.000000\n",
      "Clear                  0.000000\n",
      "Cloudy                 0.000000\n",
      "Rain_Light             0.000000\n",
      "Rain_Heavy             0.000000\n",
      "Snow_Light             0.000000\n",
      "Snow_Heavy             0.000000\n",
      "Fog                    0.000000\n",
      "Windy                  0.000000\n",
      "Sand/Ash               0.000000\n",
      "dtype: float64\n"
     ]
    }
   ],
   "source": [
    "# I'll impute using the median value for that column.\n",
    "#For computational efficiency reasons, I'll create a list with only the Features where NaN-values are present. So, I won't iterate through all Features to impute the NaNs.\n",
    "nan_vec = ['Temperature(F)', 'Humidity(%)', 'Pressure(in)', 'Visibility(mi)', 'Wind_Speed(mph)']\n",
    "\n",
    "for element in nan_vec:\n",
    "    df[element].fillna(df[element].median(), inplace=True)\n",
    "    \n",
    "print()\n",
    "print(df.isnull().sum()/(df.shape[0])*100)"
   ]
  },
  {
   "cell_type": "markdown",
   "metadata": {},
   "source": [
    "#### Drop columns with more than 50% NaNs"
   ]
  },
  {
   "cell_type": "markdown",
   "metadata": {},
   "source": [
    "Dropping the data from Source 'Bing' has considerably changed the percentage of NaNs from several categories. I'll drop all categories with more than 50% of NaNs, since there is no point in imputing when there is such a big part of the data missing: <b>End_Lat</b>, <b>End_Lng</b>, <b>Number</b>, <b>Wind_Chill(F)</b>, <b>Precipitation(in)</b>."
   ]
  },
  {
   "cell_type": "code",
   "execution_count": 20,
   "metadata": {},
   "outputs": [],
   "source": [
    "df.drop(columns=['End_Lat', 'End_Lng', 'Number', 'Wind_Chill(F)', 'Precipitation(in)'], axis=1, inplace=True)"
   ]
  },
  {
   "cell_type": "code",
   "execution_count": 21,
   "metadata": {},
   "outputs": [
    {
     "name": "stdout",
     "output_type": "stream",
     "text": [
      "Severity           0.000000\n",
      "Start_Time         0.000000\n",
      "Start_Lat          0.000000\n",
      "Start_Lng          0.000000\n",
      "Street             0.000000\n",
      "Side               0.000000\n",
      "City               0.002057\n",
      "County             0.000000\n",
      "State              0.000000\n",
      "Zipcode            0.012506\n",
      "Timezone           0.083144\n",
      "Airport_Code       0.166975\n",
      "Temperature(F)     0.000000\n",
      "Humidity(%)        0.000000\n",
      "Pressure(in)       0.000000\n",
      "Visibility(mi)     0.000000\n",
      "Wind_Direction     1.431045\n",
      "Wind_Speed(mph)    0.000000\n",
      "Amenity            0.000000\n",
      "Bump               0.000000\n",
      "Crossing           0.000000\n",
      "Give_Way           0.000000\n",
      "Junction           0.000000\n",
      "No_Exit            0.000000\n",
      "Railway            0.000000\n",
      "Roundabout         0.000000\n",
      "Station            0.000000\n",
      "Stop               0.000000\n",
      "Traffic_Calming    0.000000\n",
      "Traffic_Signal     0.000000\n",
      "Turning_Loop       0.000000\n",
      "Sunrise_Sunset     0.002178\n",
      "Year               0.000000\n",
      "Month              0.000000\n",
      "Weekday            0.000000\n",
      "Day                0.000000\n",
      "Hour               0.000000\n",
      "Minute             0.000000\n",
      "Clear              0.000000\n",
      "Cloudy             0.000000\n",
      "Rain_Light         0.000000\n",
      "Rain_Heavy         0.000000\n",
      "Snow_Light         0.000000\n",
      "Snow_Heavy         0.000000\n",
      "Fog                0.000000\n",
      "Windy              0.000000\n",
      "Sand/Ash           0.000000\n",
      "dtype: float64\n"
     ]
    }
   ],
   "source": [
    "# Print the remaining NaNs\n",
    "print(df.isnull().sum()/(df.shape[0])*100)"
   ]
  },
  {
   "cell_type": "markdown",
   "metadata": {},
   "source": [
    "### Imputting categorical values"
   ]
  },
  {
   "cell_type": "code",
   "execution_count": 22,
   "metadata": {},
   "outputs": [
    {
     "name": "stdout",
     "output_type": "stream",
     "text": [
      "Shape before drop: (2478818, 47)\n",
      "Shape after drop: (2478457, 47)\n"
     ]
    }
   ],
   "source": [
    "#For 'City' and 'Zipcode' we could take the most frequent city from the State in order to impute the value, but since the percentage of data missing is so small, I'll just drop those rows.\n",
    "print('Shape before drop:', df.shape)\n",
    "df = df.dropna(subset=['City', 'Zipcode'])\n",
    "print('Shape after drop:', df.shape)"
   ]
  },
  {
   "cell_type": "code",
   "execution_count": 23,
   "metadata": {},
   "outputs": [
    {
     "name": "stdout",
     "output_type": "stream",
     "text": [
      "Shape before drop: (2478457, 47)\n",
      "Shape after drop: (2474628, 47)\n"
     ]
    }
   ],
   "source": [
    "#For 'Airport_Code' I wouldn't know a realistic way of imputting withouth knowing the real location of the airports, so I'll drop the values.\n",
    "print('Shape before drop:', df.shape)\n",
    "df = df.dropna(subset=['Airport_Code'])\n",
    "print('Shape after drop:', df.shape)"
   ]
  },
  {
   "cell_type": "code",
   "execution_count": 24,
   "metadata": {},
   "outputs": [
    {
     "name": "stdout",
     "output_type": "stream",
     "text": [
      "Shape before drop: (2474628, 47)\n",
      "Shape after drop: (2443292, 47)\n"
     ]
    }
   ],
   "source": [
    "# For 'Timezone', 'Wind_Direction', 'Sunrise_Sunset' I'll also just drop the datapoints, since the amount of missing data is very small.\n",
    "print('Shape before drop:', df.shape)\n",
    "df = df.dropna(subset=['Timezone', 'Wind_Direction', 'Sunrise_Sunset'])\n",
    "print('Shape after drop:', df.shape)"
   ]
  },
  {
   "cell_type": "code",
   "execution_count": 25,
   "metadata": {},
   "outputs": [
    {
     "name": "stdout",
     "output_type": "stream",
     "text": [
      "Severity           0.0\n",
      "Start_Time         0.0\n",
      "Start_Lat          0.0\n",
      "Start_Lng          0.0\n",
      "Street             0.0\n",
      "Side               0.0\n",
      "City               0.0\n",
      "County             0.0\n",
      "State              0.0\n",
      "Zipcode            0.0\n",
      "Timezone           0.0\n",
      "Airport_Code       0.0\n",
      "Temperature(F)     0.0\n",
      "Humidity(%)        0.0\n",
      "Pressure(in)       0.0\n",
      "Visibility(mi)     0.0\n",
      "Wind_Direction     0.0\n",
      "Wind_Speed(mph)    0.0\n",
      "Amenity            0.0\n",
      "Bump               0.0\n",
      "Crossing           0.0\n",
      "Give_Way           0.0\n",
      "Junction           0.0\n",
      "No_Exit            0.0\n",
      "Railway            0.0\n",
      "Roundabout         0.0\n",
      "Station            0.0\n",
      "Stop               0.0\n",
      "Traffic_Calming    0.0\n",
      "Traffic_Signal     0.0\n",
      "Turning_Loop       0.0\n",
      "Sunrise_Sunset     0.0\n",
      "Year               0.0\n",
      "Month              0.0\n",
      "Weekday            0.0\n",
      "Day                0.0\n",
      "Hour               0.0\n",
      "Minute             0.0\n",
      "Clear              0.0\n",
      "Cloudy             0.0\n",
      "Rain_Light         0.0\n",
      "Rain_Heavy         0.0\n",
      "Snow_Light         0.0\n",
      "Snow_Heavy         0.0\n",
      "Fog                0.0\n",
      "Windy              0.0\n",
      "Sand/Ash           0.0\n",
      "dtype: float64\n"
     ]
    }
   ],
   "source": [
    "#print remaining missing values\n",
    "print(df.isnull().sum()/(df.shape[0])*100)"
   ]
  },
  {
   "cell_type": "markdown",
   "metadata": {},
   "source": [
    "## Encoding the data"
   ]
  },
  {
   "cell_type": "markdown",
   "metadata": {},
   "source": [
    "### Time Encoding"
   ]
  },
  {
   "cell_type": "code",
   "execution_count": 26,
   "metadata": {},
   "outputs": [
    {
     "name": "stdout",
     "output_type": "stream",
     "text": [
      "Number of features before feature creation: 47\n",
      "Number of features after feature creation: 47\n",
      "\n"
     ]
    },
    {
     "data": {
      "text/html": [
       "<div>\n",
       "<style scoped>\n",
       "    .dataframe tbody tr th:only-of-type {\n",
       "        vertical-align: middle;\n",
       "    }\n",
       "\n",
       "    .dataframe tbody tr th {\n",
       "        vertical-align: top;\n",
       "    }\n",
       "\n",
       "    .dataframe thead th {\n",
       "        text-align: right;\n",
       "    }\n",
       "</style>\n",
       "<table border=\"1\" class=\"dataframe\">\n",
       "  <thead>\n",
       "    <tr style=\"text-align: right;\">\n",
       "      <th></th>\n",
       "      <th>Year</th>\n",
       "      <th>Month</th>\n",
       "      <th>Weekday</th>\n",
       "      <th>Day</th>\n",
       "      <th>Hour</th>\n",
       "      <th>Minute</th>\n",
       "    </tr>\n",
       "  </thead>\n",
       "  <tbody>\n",
       "    <tr>\n",
       "      <th>0</th>\n",
       "      <td>2016</td>\n",
       "      <td>2</td>\n",
       "      <td>0</td>\n",
       "      <td>39</td>\n",
       "      <td>5</td>\n",
       "      <td>346.0</td>\n",
       "    </tr>\n",
       "    <tr>\n",
       "      <th>1</th>\n",
       "      <td>2016</td>\n",
       "      <td>2</td>\n",
       "      <td>0</td>\n",
       "      <td>39</td>\n",
       "      <td>6</td>\n",
       "      <td>367.0</td>\n",
       "    </tr>\n",
       "    <tr>\n",
       "      <th>2</th>\n",
       "      <td>2016</td>\n",
       "      <td>2</td>\n",
       "      <td>0</td>\n",
       "      <td>39</td>\n",
       "      <td>6</td>\n",
       "      <td>409.0</td>\n",
       "    </tr>\n",
       "    <tr>\n",
       "      <th>3</th>\n",
       "      <td>2016</td>\n",
       "      <td>2</td>\n",
       "      <td>0</td>\n",
       "      <td>39</td>\n",
       "      <td>7</td>\n",
       "      <td>443.0</td>\n",
       "    </tr>\n",
       "    <tr>\n",
       "      <th>4</th>\n",
       "      <td>2016</td>\n",
       "      <td>2</td>\n",
       "      <td>0</td>\n",
       "      <td>39</td>\n",
       "      <td>7</td>\n",
       "      <td>459.0</td>\n",
       "    </tr>\n",
       "    <tr>\n",
       "      <th>5</th>\n",
       "      <td>2016</td>\n",
       "      <td>2</td>\n",
       "      <td>0</td>\n",
       "      <td>39</td>\n",
       "      <td>7</td>\n",
       "      <td>464.0</td>\n",
       "    </tr>\n",
       "  </tbody>\n",
       "</table>\n",
       "</div>"
      ],
      "text/plain": [
       "   Year  Month  Weekday  Day  Hour  Minute\n",
       "0  2016      2        0   39     5   346.0\n",
       "1  2016      2        0   39     6   367.0\n",
       "2  2016      2        0   39     6   409.0\n",
       "3  2016      2        0   39     7   443.0\n",
       "4  2016      2        0   39     7   459.0\n",
       "5  2016      2        0   39     7   464.0"
      ]
     },
     "execution_count": 26,
     "metadata": {},
     "output_type": "execute_result"
    }
   ],
   "source": [
    "print('Number of features before feature creation:', df.columns.shape[0])\n",
    "#Year\n",
    "df['Year'] = df['Start_Time'].dt.year\n",
    "\n",
    "#Month\n",
    "n_month = df['Start_Time'].dt.month\n",
    "df['Month'] = n_month\n",
    "\n",
    "#Weekday\n",
    "df['Weekday']= df['Start_Time'].dt.weekday\n",
    "\n",
    "#Day as number between 1-365\n",
    "days_each_month = np.cumsum(np.array([0,31,28,31,30,31,30,31,31,30,31,30,31]))\n",
    "nday = [days_each_month[arg-1] for arg in n_month.values]\n",
    "nday = nday + df[\"Start_Time\"].dt.day.values\n",
    "df['Day'] = nday\n",
    "\n",
    "#Hour\n",
    "df['Hour'] = df['Start_Time'].dt.hour\n",
    "\n",
    "#Minute\n",
    "df['Minute']=df['Hour']*60.0+df[\"Start_Time\"].dt.minute\n",
    "\n",
    "print('Number of features after feature creation:', df.columns.shape[0])\n",
    "print()\n",
    "\n",
    "df.loc[:5, ['Year', 'Month', 'Weekday', 'Day', 'Hour', 'Minute']]"
   ]
  },
  {
   "cell_type": "code",
   "execution_count": 27,
   "metadata": {},
   "outputs": [
    {
     "name": "stdout",
     "output_type": "stream",
     "text": [
      "Number of features before one-hot encoding: 47\n",
      "Number of features after one-hot encoding: 91\n"
     ]
    }
   ],
   "source": [
    "#One Hot encode Year, Month, Weekday, Hour\n",
    "print('Number of features before one-hot encoding:', df.columns.shape[0])\n",
    "df = pd.get_dummies(df, columns=['Year', 'Month', 'Weekday', 'Hour'], drop_first=False)\n",
    "print('Number of features after one-hot encoding:', df.columns.shape[0])"
   ]
  },
  {
   "cell_type": "markdown",
   "metadata": {},
   "source": [
    "For <b>'Minute'</b>, the one-hot encoding would yield too many dimensions and we could fall into the curse of dimensionality. For that reason with categorical variables that have many different values, it makes sense to transform them into the frequency domain and then use that instead of the variable itself."
   ]
  },
  {
   "cell_type": "code",
   "execution_count": 28,
   "metadata": {},
   "outputs": [],
   "source": [
    "# Transform Minute into Minute_Freq\n",
    "df['Minute_Freq'] = df.groupby(['Minute'])['Minute'].transform('count')\n",
    "df['Minute_Freq'] = df['Minute_Freq']/df.shape[0]*24*60"
   ]
  },
  {
   "cell_type": "code",
   "execution_count": 29,
   "metadata": {},
   "outputs": [
    {
     "data": {
      "image/png": "[encoded data removed]",
      "text/plain": [
       "<Figure size 432x288 with 1 Axes>"
      ]
     },
     "metadata": {
      "needs_background": "light"
     },
     "output_type": "display_data"
    }
   ],
   "source": [
    "# Plot violin plot\n",
    "df['Severity'] = df['Severity'].astype('category')\n",
    "sns.violinplot(x='Minute_Freq', y=\"Severity\", data=df, palette=\"Set2\")    \n",
    "plt.xlabel('Minute_Fre', size=12)\n",
    "plt.ylabel('Severity', size=12)    \n",
    "plt.tick_params(axis='x', labelsize=12)\n",
    "plt.tick_params(axis='y', labelsize=12)\n",
    "plt.title('Minute Frequency by Severity', size=16, y=1.05)\n",
    "plt.show()"
   ]
  },
  {
   "cell_type": "markdown",
   "metadata": {},
   "source": [
    "There is no big difference, but there is a subtle decrease in frequency there higher the severity of the accident. WHat this means is that accidents with that happen less frequently have a higher probability of being more severe. Formulated another way: accidents that happen a lot are usually less severe that accidents that rarely happen."
   ]
  },
  {
   "cell_type": "code",
   "execution_count": 30,
   "metadata": {},
   "outputs": [
    {
     "name": "stdout",
     "output_type": "stream",
     "text": [
      "Number of features before drop: 92\n",
      "Number of features after drop: 90\n"
     ]
    }
   ],
   "source": [
    "#Drop 'Start_Time' and 'Minute'\n",
    "print('Number of features before drop:', df.columns.shape[0])\n",
    "df = df.drop(['Start_Time','Minute'], axis=1)\n",
    "print('Number of features after drop:', df.columns.shape[0])"
   ]
  },
  {
   "cell_type": "markdown",
   "metadata": {},
   "source": [
    "### Latitude and Longitude Encoding"
   ]
  },
  {
   "cell_type": "markdown",
   "metadata": {},
   "source": [
    "Since they are continous values, no encoding needed."
   ]
  },
  {
   "cell_type": "markdown",
   "metadata": {},
   "source": [
    "### Street Encoding"
   ]
  },
  {
   "cell_type": "markdown",
   "metadata": {},
   "source": [
    "Same dilemma as with Time. Since there are so many different streets, a one-hot encoding would lead to too many dimensions. Instead, a typical approach is to take the frequency of the value (in this case street name)."
   ]
  },
  {
   "cell_type": "code",
   "execution_count": 31,
   "metadata": {},
   "outputs": [],
   "source": [
    "# Transform Street into Street_Freq\n",
    "df['Street_Freq'] = df.groupby(['Street'])['Street'].transform('count')\n",
    "df['Street_Freq'] = df['Street_Freq']/df['Street_Freq'].unique().shape[0]"
   ]
  },
  {
   "cell_type": "code",
   "execution_count": 32,
   "metadata": {},
   "outputs": [
    {
     "data": {
      "image/png": "[encoded data removed]",
      "text/plain": [
       "<Figure size 432x288 with 1 Axes>"
      ]
     },
     "metadata": {
      "needs_background": "light"
     },
     "output_type": "display_data"
    }
   ],
   "source": [
    "# Plot violin plot\n",
    "df['Severity'] = df['Severity'].astype('category')\n",
    "sns.violinplot(x='Street_Freq', y=\"Severity\", data=df, palette=\"Set2\")    \n",
    "plt.xlabel('Street_Freq', size=12)\n",
    "plt.ylabel('Severity', size=12)    \n",
    "plt.tick_params(axis='x', labelsize=12)\n",
    "plt.tick_params(axis='y', labelsize=12)\n",
    "plt.title('Minute Frequency by Severity', size=16, y=1.05)\n",
    "plt.show()"
   ]
  },
  {
   "cell_type": "code",
   "execution_count": 33,
   "metadata": {},
   "outputs": [],
   "source": [
    "#Drop 'Street', since I'll only use the Street_Freq\n",
    "df.drop(columns='Street', inplace=True)"
   ]
  },
  {
   "cell_type": "markdown",
   "metadata": {},
   "source": [
    "The plots have still a lot of skewness, so take the log of the distribution as in iteration1. "
   ]
  },
  {
   "cell_type": "code",
   "execution_count": 34,
   "metadata": {},
   "outputs": [
    {
     "data": {
      "image/png": "[encoded data removed]",
      "text/plain": [
       "<Figure size 432x288 with 1 Axes>"
      ]
     },
     "metadata": {
      "needs_background": "light"
     },
     "output_type": "display_data"
    }
   ],
   "source": [
    "#Take log\n",
    "df['Street_Freq'] = df['Street_Freq'].apply(lambda x: np.log(x))\n",
    "\n",
    "# Plot again \n",
    "df['Severity'] = df['Severity'].astype('category')\n",
    "sns.violinplot(x='Street_Freq', y=\"Severity\", data=df, palette=\"Set2\")    \n",
    "plt.xlabel('Street_Freq', size=12)\n",
    "plt.ylabel('Severity', size=12)    \n",
    "plt.tick_params(axis='x', labelsize=12)\n",
    "plt.tick_params(axis='y', labelsize=12)\n",
    "plt.title('Minute Frequency by Severity', size=16, y=1.05)\n",
    "plt.show()"
   ]
  },
  {
   "cell_type": "markdown",
   "metadata": {},
   "source": [
    "The plots here look very interesting! If I compre those to the same plots from iteration 1, the plots for severities 1-3 look the same, but for severity 4 the plot had the smallest frequency during iteration 1 nd now it has by far the highest frequency! I believe there is. different way of defining severity level between Source <b>MapQuest</b> and <b>Bing </b>. "
   ]
  },
  {
   "cell_type": "markdown",
   "metadata": {},
   "source": [
    "### Side"
   ]
  },
  {
   "cell_type": "markdown",
   "metadata": {},
   "source": [
    "A basic one-hot encoding will be enough, since there are only 2 possible values. "
   ]
  },
  {
   "cell_type": "code",
   "execution_count": 35,
   "metadata": {},
   "outputs": [
    {
     "name": "stdout",
     "output_type": "stream",
     "text": [
      "Number of features before one-hot encoding: 90\n",
      "Number of features after one-hot encoding: 92\n"
     ]
    }
   ],
   "source": [
    "#Create one-hot encoding.\n",
    "print('Number of features before one-hot encoding:', df.columns.shape[0])\n",
    "df = pd.get_dummies(df, columns=['Side'])\n",
    "print('Number of features after one-hot encoding:', df.columns.shape[0])"
   ]
  },
  {
   "cell_type": "markdown",
   "metadata": {},
   "source": [
    "### Other Frequency Features: City, County, Zipcode, Airport_Code"
   ]
  },
  {
   "cell_type": "markdown",
   "metadata": {},
   "source": [
    "Same as for 'Street', I'll use the frequency."
   ]
  },
  {
   "cell_type": "code",
   "execution_count": 36,
   "metadata": {},
   "outputs": [
    {
     "name": "stdout",
     "output_type": "stream",
     "text": [
      "Number of features before frequency features creation: 92\n",
      "Number of features after frequency features creation: 96\n"
     ]
    }
   ],
   "source": [
    "print('Number of features before frequency features creation:', df.columns.shape[0])\n",
    "\n",
    "#City\n",
    "df['City_Freq'] = df.groupby(['City'])['City'].transform('count')\n",
    "df['City_Freq'] = df['City_Freq']/df.City.unique().shape[0]\n",
    "\n",
    "#County\n",
    "df['County_Freq'] = df.groupby(['County'])['County'].transform('count')\n",
    "df['County_Freq'] = df['County_Freq']/df.County.unique().shape[0]\n",
    "\n",
    "#Zipcode\n",
    "df['Zipcode_Freq'] = df.groupby(['Zipcode'])['Zipcode'].transform('count')\n",
    "df['Zipcode_Freq'] = df['Zipcode_Freq']/df.Zipcode.unique().shape[0]\n",
    "\n",
    "#Airport_Code\n",
    "df['Airport_Code_Freq'] = df.groupby(['Airport_Code'])['Airport_Code'].transform('count')\n",
    "df['Airport_Code_Freq'] = df['Airport_Code_Freq']/df.Airport_Code.unique().shape[0]\n",
    "\n",
    "print('Number of features after frequency features creation:', df.columns.shape[0])"
   ]
  },
  {
   "cell_type": "code",
   "execution_count": 37,
   "metadata": {},
   "outputs": [
    {
     "name": "stdout",
     "output_type": "stream",
     "text": [
      "Number of features before drop: 96\n",
      "Number of features before drop: 92\n"
     ]
    }
   ],
   "source": [
    "#Drop columns with original variables\n",
    "print('Number of features before drop:', df.columns.shape[0])\n",
    "\n",
    "df = df.drop(columns=['City', 'County', 'Zipcode', 'Airport_Code'])\n",
    "\n",
    "print('Number of features before drop:', df.columns.shape[0])"
   ]
  },
  {
   "cell_type": "markdown",
   "metadata": {},
   "source": [
    "### Other features that will be one-hot enconded: 'Day', 'State', 'Timezone', 'Wind_Direction' and 'Sunrise_Sunset'"
   ]
  },
  {
   "cell_type": "code",
   "execution_count": 38,
   "metadata": {},
   "outputs": [
    {
     "name": "stdout",
     "output_type": "stream",
     "text": [
      "Number of features before one-hot encoding: 92\n",
      "Number of features after one-hot encoding: 161\n"
     ]
    }
   ],
   "source": [
    "#Create one-hot encoding.\n",
    "print('Number of features before one-hot encoding:', df.columns.shape[0])\n",
    "df = pd.get_dummies(df, columns=['State', 'Timezone', 'Wind_Direction', 'Sunrise_Sunset'], drop_first=False)\n",
    "print('Number of features after one-hot encoding:', df.columns.shape[0])"
   ]
  },
  {
   "cell_type": "markdown",
   "metadata": {},
   "source": [
    "## Export"
   ]
  },
  {
   "cell_type": "code",
   "execution_count": 39,
   "metadata": {},
   "outputs": [
    {
     "name": "stdout",
     "output_type": "stream",
     "text": [
      "(161,)\n"
     ]
    },
    {
     "data": {
      "text/plain": [
       "Index(['Severity', 'Start_Lat', 'Start_Lng', 'Temperature(F)', 'Humidity(%)',\n",
       "       'Pressure(in)', 'Visibility(mi)', 'Wind_Speed(mph)', 'Amenity', 'Bump',\n",
       "       ...\n",
       "       'Wind_Direction_SE', 'Wind_Direction_SSE', 'Wind_Direction_SSW',\n",
       "       'Wind_Direction_SW', 'Wind_Direction_VAR', 'Wind_Direction_W',\n",
       "       'Wind_Direction_WNW', 'Wind_Direction_WSW', 'Sunrise_Sunset_Day',\n",
       "       'Sunrise_Sunset_Night'],\n",
       "      dtype='object', length=161)"
      ]
     },
     "execution_count": 39,
     "metadata": {},
     "output_type": "execute_result"
    }
   ],
   "source": [
    "#Display names of columns\n",
    "print(df.columns.shape)\n",
    "df.columns"
   ]
  },
  {
   "cell_type": "code",
   "execution_count": 40,
   "metadata": {},
   "outputs": [],
   "source": [
    "#Save file with name as in convention explained\n",
    "df.to_csv(\"US_Accidents_June20_CLEAN_Week2_Iteration2.0.csv\", index=False)"
   ]
  }
 ],
 "metadata": {
  "kernelspec": {
   "display_name": "Python 3",
   "language": "python",
   "name": "python3"
  },
  "language_info": {
   "codemirror_mode": {
    "name": "ipython",
    "version": 3
   },
   "file_extension": ".py",
   "mimetype": "text/x-python",
   "name": "python",
   "nbconvert_exporter": "python",
   "pygments_lexer": "ipython3",
   "version": "3.7.6"
  }
 },
 "nbformat": 4,
 "nbformat_minor": 4
}
