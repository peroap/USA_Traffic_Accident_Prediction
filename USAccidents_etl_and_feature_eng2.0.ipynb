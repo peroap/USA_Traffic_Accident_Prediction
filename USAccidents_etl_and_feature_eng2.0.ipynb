{
 "cells": [
  {
   "cell_type": "markdown",
   "metadata": {},
   "source": [
    "# ETL and Feature Engineering"
   ]
  },
  {
   "cell_type": "markdown",
   "metadata": {},
   "source": [
    "This script will import the already 'cleaned' dataset I prepared for last submission."
   ]
  },
  {
   "cell_type": "code",
   "execution_count": 1,
   "metadata": {},
   "outputs": [],
   "source": [
    "import math\n",
    "\n",
    "import numpy as np\n",
    "import pandas as pd\n",
    "\n",
    "import matplotlib.pyplot as plt\n",
    "%matplotlib inline\n",
    "import seaborn as sns"
   ]
  },
  {
   "cell_type": "code",
   "execution_count": 2,
   "metadata": {},
   "outputs": [
    {
     "data": {
      "text/html": [
       "<div>\n",
       "<style scoped>\n",
       "    .dataframe tbody tr th:only-of-type {\n",
       "        vertical-align: middle;\n",
       "    }\n",
       "\n",
       "    .dataframe tbody tr th {\n",
       "        vertical-align: top;\n",
       "    }\n",
       "\n",
       "    .dataframe thead th {\n",
       "        text-align: right;\n",
       "    }\n",
       "</style>\n",
       "<table border=\"1\" class=\"dataframe\">\n",
       "  <thead>\n",
       "    <tr style=\"text-align: right;\">\n",
       "      <th></th>\n",
       "      <th>ID</th>\n",
       "      <th>Source</th>\n",
       "      <th>TMC</th>\n",
       "      <th>Severity</th>\n",
       "      <th>Start_Time</th>\n",
       "      <th>End_Time</th>\n",
       "      <th>Duration</th>\n",
       "      <th>Start_Lat</th>\n",
       "      <th>Start_Lng</th>\n",
       "      <th>Distance(mi)</th>\n",
       "      <th>...</th>\n",
       "      <th>Roundabout</th>\n",
       "      <th>Station</th>\n",
       "      <th>Stop</th>\n",
       "      <th>Traffic_Calming</th>\n",
       "      <th>Traffic_Signal</th>\n",
       "      <th>Turning_Loop</th>\n",
       "      <th>Sunrise_Sunset</th>\n",
       "      <th>Civil_Twilight</th>\n",
       "      <th>Nautical_Twilight</th>\n",
       "      <th>Astronomical_Twilight</th>\n",
       "    </tr>\n",
       "  </thead>\n",
       "  <tbody>\n",
       "    <tr>\n",
       "      <th>0</th>\n",
       "      <td>A-1</td>\n",
       "      <td>MapQuest</td>\n",
       "      <td>201.0</td>\n",
       "      <td>3</td>\n",
       "      <td>2016-02-08 05:46:00</td>\n",
       "      <td>2016-02-08 11:00:00</td>\n",
       "      <td>0 days 05:14:00.000000000</td>\n",
       "      <td>39.865147</td>\n",
       "      <td>-84.058723</td>\n",
       "      <td>0.01</td>\n",
       "      <td>...</td>\n",
       "      <td>False</td>\n",
       "      <td>False</td>\n",
       "      <td>False</td>\n",
       "      <td>False</td>\n",
       "      <td>False</td>\n",
       "      <td>False</td>\n",
       "      <td>Night</td>\n",
       "      <td>Night</td>\n",
       "      <td>Night</td>\n",
       "      <td>Night</td>\n",
       "    </tr>\n",
       "    <tr>\n",
       "      <th>1</th>\n",
       "      <td>A-2</td>\n",
       "      <td>MapQuest</td>\n",
       "      <td>201.0</td>\n",
       "      <td>2</td>\n",
       "      <td>2016-02-08 06:07:59</td>\n",
       "      <td>2016-02-08 06:37:59</td>\n",
       "      <td>0 days 00:30:00.000000000</td>\n",
       "      <td>39.928059</td>\n",
       "      <td>-82.831184</td>\n",
       "      <td>0.01</td>\n",
       "      <td>...</td>\n",
       "      <td>False</td>\n",
       "      <td>False</td>\n",
       "      <td>False</td>\n",
       "      <td>False</td>\n",
       "      <td>False</td>\n",
       "      <td>False</td>\n",
       "      <td>Night</td>\n",
       "      <td>Night</td>\n",
       "      <td>Night</td>\n",
       "      <td>Day</td>\n",
       "    </tr>\n",
       "    <tr>\n",
       "      <th>2</th>\n",
       "      <td>A-3</td>\n",
       "      <td>MapQuest</td>\n",
       "      <td>201.0</td>\n",
       "      <td>2</td>\n",
       "      <td>2016-02-08 06:49:27</td>\n",
       "      <td>2016-02-08 07:19:27</td>\n",
       "      <td>0 days 00:30:00.000000000</td>\n",
       "      <td>39.063148</td>\n",
       "      <td>-84.032608</td>\n",
       "      <td>0.01</td>\n",
       "      <td>...</td>\n",
       "      <td>False</td>\n",
       "      <td>False</td>\n",
       "      <td>False</td>\n",
       "      <td>False</td>\n",
       "      <td>True</td>\n",
       "      <td>False</td>\n",
       "      <td>Night</td>\n",
       "      <td>Night</td>\n",
       "      <td>Day</td>\n",
       "      <td>Day</td>\n",
       "    </tr>\n",
       "    <tr>\n",
       "      <th>3</th>\n",
       "      <td>A-4</td>\n",
       "      <td>MapQuest</td>\n",
       "      <td>201.0</td>\n",
       "      <td>3</td>\n",
       "      <td>2016-02-08 07:23:34</td>\n",
       "      <td>2016-02-08 07:53:34</td>\n",
       "      <td>0 days 00:30:00.000000000</td>\n",
       "      <td>39.747753</td>\n",
       "      <td>-84.205582</td>\n",
       "      <td>0.01</td>\n",
       "      <td>...</td>\n",
       "      <td>False</td>\n",
       "      <td>False</td>\n",
       "      <td>False</td>\n",
       "      <td>False</td>\n",
       "      <td>False</td>\n",
       "      <td>False</td>\n",
       "      <td>Night</td>\n",
       "      <td>Day</td>\n",
       "      <td>Day</td>\n",
       "      <td>Day</td>\n",
       "    </tr>\n",
       "    <tr>\n",
       "      <th>4</th>\n",
       "      <td>A-5</td>\n",
       "      <td>MapQuest</td>\n",
       "      <td>201.0</td>\n",
       "      <td>2</td>\n",
       "      <td>2016-02-08 07:39:07</td>\n",
       "      <td>2016-02-08 08:09:07</td>\n",
       "      <td>0 days 00:30:00.000000000</td>\n",
       "      <td>39.627781</td>\n",
       "      <td>-84.188354</td>\n",
       "      <td>0.01</td>\n",
       "      <td>...</td>\n",
       "      <td>False</td>\n",
       "      <td>False</td>\n",
       "      <td>False</td>\n",
       "      <td>False</td>\n",
       "      <td>True</td>\n",
       "      <td>False</td>\n",
       "      <td>Day</td>\n",
       "      <td>Day</td>\n",
       "      <td>Day</td>\n",
       "      <td>Day</td>\n",
       "    </tr>\n",
       "  </tbody>\n",
       "</table>\n",
       "<p>5 rows × 45 columns</p>\n",
       "</div>"
      ],
      "text/plain": [
       "    ID    Source    TMC  Severity           Start_Time             End_Time  \\\n",
       "0  A-1  MapQuest  201.0         3  2016-02-08 05:46:00  2016-02-08 11:00:00   \n",
       "1  A-2  MapQuest  201.0         2  2016-02-08 06:07:59  2016-02-08 06:37:59   \n",
       "2  A-3  MapQuest  201.0         2  2016-02-08 06:49:27  2016-02-08 07:19:27   \n",
       "3  A-4  MapQuest  201.0         3  2016-02-08 07:23:34  2016-02-08 07:53:34   \n",
       "4  A-5  MapQuest  201.0         2  2016-02-08 07:39:07  2016-02-08 08:09:07   \n",
       "\n",
       "                    Duration  Start_Lat  Start_Lng  Distance(mi)  ...  \\\n",
       "0  0 days 05:14:00.000000000  39.865147 -84.058723          0.01  ...   \n",
       "1  0 days 00:30:00.000000000  39.928059 -82.831184          0.01  ...   \n",
       "2  0 days 00:30:00.000000000  39.063148 -84.032608          0.01  ...   \n",
       "3  0 days 00:30:00.000000000  39.747753 -84.205582          0.01  ...   \n",
       "4  0 days 00:30:00.000000000  39.627781 -84.188354          0.01  ...   \n",
       "\n",
       "  Roundabout Station   Stop Traffic_Calming Traffic_Signal Turning_Loop  \\\n",
       "0      False   False  False           False          False        False   \n",
       "1      False   False  False           False          False        False   \n",
       "2      False   False  False           False           True        False   \n",
       "3      False   False  False           False          False        False   \n",
       "4      False   False  False           False           True        False   \n",
       "\n",
       "  Sunrise_Sunset Civil_Twilight Nautical_Twilight Astronomical_Twilight  \n",
       "0          Night          Night             Night                 Night  \n",
       "1          Night          Night             Night                   Day  \n",
       "2          Night          Night               Day                   Day  \n",
       "3          Night            Day               Day                   Day  \n",
       "4            Day            Day               Day                   Day  \n",
       "\n",
       "[5 rows x 45 columns]"
      ]
     },
     "execution_count": 2,
     "metadata": {},
     "output_type": "execute_result"
    }
   ],
   "source": [
    "#Import cleaned dataset. It is the one that was exported with the script from last submission. \n",
    "df = pd.read_csv(\"US_Accidents_June20_CLEAN_Week1.csv\")\n",
    "df.head()"
   ]
  },
  {
   "cell_type": "markdown",
   "metadata": {},
   "source": [
    "## ETL"
   ]
  },
  {
   "cell_type": "markdown",
   "metadata": {},
   "source": [
    "### Typecheck and Typecasting"
   ]
  },
  {
   "cell_type": "markdown",
   "metadata": {},
   "source": [
    "In terms of ETL, I'll be using only the data of one dataset, I don't have to care about the merge with other data.<br>\n",
    "I'll do a sanity check of all types present in the dataset and transform the ones I consider."
   ]
  },
  {
   "cell_type": "code",
   "execution_count": 3,
   "metadata": {},
   "outputs": [
    {
     "data": {
      "text/html": [
       "<div>\n",
       "<style scoped>\n",
       "    .dataframe tbody tr th:only-of-type {\n",
       "        vertical-align: middle;\n",
       "    }\n",
       "\n",
       "    .dataframe tbody tr th {\n",
       "        vertical-align: top;\n",
       "    }\n",
       "\n",
       "    .dataframe thead th {\n",
       "        text-align: right;\n",
       "    }\n",
       "</style>\n",
       "<table border=\"1\" class=\"dataframe\">\n",
       "  <thead>\n",
       "    <tr style=\"text-align: right;\">\n",
       "      <th></th>\n",
       "      <th>#</th>\n",
       "      <th>Attribute</th>\n",
       "      <th>Data type</th>\n",
       "    </tr>\n",
       "  </thead>\n",
       "  <tbody>\n",
       "    <tr>\n",
       "      <th>0</th>\n",
       "      <td>1</td>\n",
       "      <td>ID</td>\n",
       "      <td>&lt;class 'str'&gt;</td>\n",
       "    </tr>\n",
       "    <tr>\n",
       "      <th>1</th>\n",
       "      <td>2</td>\n",
       "      <td>Source</td>\n",
       "      <td>&lt;class 'str'&gt;</td>\n",
       "    </tr>\n",
       "    <tr>\n",
       "      <th>2</th>\n",
       "      <td>3</td>\n",
       "      <td>TMC</td>\n",
       "      <td>&lt;class 'numpy.float64'&gt;</td>\n",
       "    </tr>\n",
       "    <tr>\n",
       "      <th>3</th>\n",
       "      <td>4</td>\n",
       "      <td>Severity</td>\n",
       "      <td>&lt;class 'numpy.int64'&gt;</td>\n",
       "    </tr>\n",
       "    <tr>\n",
       "      <th>4</th>\n",
       "      <td>5</td>\n",
       "      <td>Start_Time</td>\n",
       "      <td>&lt;class 'pandas._libs.tslibs.timestamps.Timesta...</td>\n",
       "    </tr>\n",
       "    <tr>\n",
       "      <th>5</th>\n",
       "      <td>6</td>\n",
       "      <td>End_Time</td>\n",
       "      <td>&lt;class 'pandas._libs.tslibs.timestamps.Timesta...</td>\n",
       "    </tr>\n",
       "    <tr>\n",
       "      <th>6</th>\n",
       "      <td>7</td>\n",
       "      <td>Start_Lat</td>\n",
       "      <td>&lt;class 'numpy.float64'&gt;</td>\n",
       "    </tr>\n",
       "    <tr>\n",
       "      <th>7</th>\n",
       "      <td>8</td>\n",
       "      <td>Start_Lng</td>\n",
       "      <td>&lt;class 'numpy.float64'&gt;</td>\n",
       "    </tr>\n",
       "    <tr>\n",
       "      <th>8</th>\n",
       "      <td>11</td>\n",
       "      <td>Distance(mi)</td>\n",
       "      <td>&lt;class 'numpy.float64'&gt;</td>\n",
       "    </tr>\n",
       "    <tr>\n",
       "      <th>9</th>\n",
       "      <td>12</td>\n",
       "      <td>Description</td>\n",
       "      <td>&lt;class 'str'&gt;</td>\n",
       "    </tr>\n",
       "    <tr>\n",
       "      <th>10</th>\n",
       "      <td>14</td>\n",
       "      <td>Street</td>\n",
       "      <td>&lt;class 'str'&gt;</td>\n",
       "    </tr>\n",
       "    <tr>\n",
       "      <th>11</th>\n",
       "      <td>15</td>\n",
       "      <td>Side</td>\n",
       "      <td>&lt;class 'str'&gt;</td>\n",
       "    </tr>\n",
       "    <tr>\n",
       "      <th>12</th>\n",
       "      <td>16</td>\n",
       "      <td>City</td>\n",
       "      <td>&lt;class 'str'&gt;</td>\n",
       "    </tr>\n",
       "    <tr>\n",
       "      <th>13</th>\n",
       "      <td>17</td>\n",
       "      <td>County</td>\n",
       "      <td>&lt;class 'str'&gt;</td>\n",
       "    </tr>\n",
       "    <tr>\n",
       "      <th>14</th>\n",
       "      <td>18</td>\n",
       "      <td>State</td>\n",
       "      <td>&lt;class 'str'&gt;</td>\n",
       "    </tr>\n",
       "    <tr>\n",
       "      <th>15</th>\n",
       "      <td>19</td>\n",
       "      <td>Zipcode</td>\n",
       "      <td>&lt;class 'str'&gt;</td>\n",
       "    </tr>\n",
       "    <tr>\n",
       "      <th>16</th>\n",
       "      <td>20</td>\n",
       "      <td>Country</td>\n",
       "      <td>&lt;class 'str'&gt;</td>\n",
       "    </tr>\n",
       "    <tr>\n",
       "      <th>17</th>\n",
       "      <td>21</td>\n",
       "      <td>Timezone</td>\n",
       "      <td>&lt;class 'str'&gt;</td>\n",
       "    </tr>\n",
       "    <tr>\n",
       "      <th>18</th>\n",
       "      <td>22</td>\n",
       "      <td>Airport_Code</td>\n",
       "      <td>&lt;class 'str'&gt;</td>\n",
       "    </tr>\n",
       "    <tr>\n",
       "      <th>19</th>\n",
       "      <td>23</td>\n",
       "      <td>Weather_Timestamp</td>\n",
       "      <td>&lt;class 'str'&gt;</td>\n",
       "    </tr>\n",
       "    <tr>\n",
       "      <th>20</th>\n",
       "      <td>24</td>\n",
       "      <td>Temperature(F)</td>\n",
       "      <td>&lt;class 'numpy.float64'&gt;</td>\n",
       "    </tr>\n",
       "    <tr>\n",
       "      <th>21</th>\n",
       "      <td>26</td>\n",
       "      <td>Humidity(%)</td>\n",
       "      <td>&lt;class 'numpy.float64'&gt;</td>\n",
       "    </tr>\n",
       "    <tr>\n",
       "      <th>22</th>\n",
       "      <td>27</td>\n",
       "      <td>Pressure(in)</td>\n",
       "      <td>&lt;class 'numpy.float64'&gt;</td>\n",
       "    </tr>\n",
       "    <tr>\n",
       "      <th>23</th>\n",
       "      <td>28</td>\n",
       "      <td>Visibility(mi)</td>\n",
       "      <td>&lt;class 'numpy.float64'&gt;</td>\n",
       "    </tr>\n",
       "    <tr>\n",
       "      <th>24</th>\n",
       "      <td>29</td>\n",
       "      <td>Wind_Direction</td>\n",
       "      <td>&lt;class 'str'&gt;</td>\n",
       "    </tr>\n",
       "    <tr>\n",
       "      <th>25</th>\n",
       "      <td>30</td>\n",
       "      <td>Wind_Speed(mph)</td>\n",
       "      <td>&lt;class 'numpy.float64'&gt;</td>\n",
       "    </tr>\n",
       "    <tr>\n",
       "      <th>26</th>\n",
       "      <td>32</td>\n",
       "      <td>Weather_Condition</td>\n",
       "      <td>&lt;class 'str'&gt;</td>\n",
       "    </tr>\n",
       "    <tr>\n",
       "      <th>27</th>\n",
       "      <td>33</td>\n",
       "      <td>Amenity</td>\n",
       "      <td>&lt;class 'numpy.bool_'&gt;</td>\n",
       "    </tr>\n",
       "    <tr>\n",
       "      <th>28</th>\n",
       "      <td>34</td>\n",
       "      <td>Bump</td>\n",
       "      <td>&lt;class 'numpy.bool_'&gt;</td>\n",
       "    </tr>\n",
       "    <tr>\n",
       "      <th>29</th>\n",
       "      <td>35</td>\n",
       "      <td>Crossing</td>\n",
       "      <td>&lt;class 'numpy.bool_'&gt;</td>\n",
       "    </tr>\n",
       "    <tr>\n",
       "      <th>30</th>\n",
       "      <td>36</td>\n",
       "      <td>Give_Way</td>\n",
       "      <td>&lt;class 'numpy.bool_'&gt;</td>\n",
       "    </tr>\n",
       "    <tr>\n",
       "      <th>31</th>\n",
       "      <td>37</td>\n",
       "      <td>Junction</td>\n",
       "      <td>&lt;class 'numpy.bool_'&gt;</td>\n",
       "    </tr>\n",
       "    <tr>\n",
       "      <th>32</th>\n",
       "      <td>38</td>\n",
       "      <td>No_Exit</td>\n",
       "      <td>&lt;class 'numpy.bool_'&gt;</td>\n",
       "    </tr>\n",
       "    <tr>\n",
       "      <th>33</th>\n",
       "      <td>39</td>\n",
       "      <td>Railway</td>\n",
       "      <td>&lt;class 'numpy.bool_'&gt;</td>\n",
       "    </tr>\n",
       "    <tr>\n",
       "      <th>34</th>\n",
       "      <td>40</td>\n",
       "      <td>Roundabout</td>\n",
       "      <td>&lt;class 'numpy.bool_'&gt;</td>\n",
       "    </tr>\n",
       "    <tr>\n",
       "      <th>35</th>\n",
       "      <td>41</td>\n",
       "      <td>Station</td>\n",
       "      <td>&lt;class 'numpy.bool_'&gt;</td>\n",
       "    </tr>\n",
       "    <tr>\n",
       "      <th>36</th>\n",
       "      <td>42</td>\n",
       "      <td>Stop</td>\n",
       "      <td>&lt;class 'numpy.bool_'&gt;</td>\n",
       "    </tr>\n",
       "    <tr>\n",
       "      <th>37</th>\n",
       "      <td>43</td>\n",
       "      <td>Traffic_Calming</td>\n",
       "      <td>&lt;class 'numpy.bool_'&gt;</td>\n",
       "    </tr>\n",
       "    <tr>\n",
       "      <th>38</th>\n",
       "      <td>44</td>\n",
       "      <td>Traffic_Signal</td>\n",
       "      <td>&lt;class 'numpy.bool_'&gt;</td>\n",
       "    </tr>\n",
       "    <tr>\n",
       "      <th>39</th>\n",
       "      <td>45</td>\n",
       "      <td>Turning_Loop</td>\n",
       "      <td>&lt;class 'numpy.bool_'&gt;</td>\n",
       "    </tr>\n",
       "    <tr>\n",
       "      <th>40</th>\n",
       "      <td>46</td>\n",
       "      <td>Sunrise_Sunset</td>\n",
       "      <td>&lt;class 'str'&gt;</td>\n",
       "    </tr>\n",
       "    <tr>\n",
       "      <th>41</th>\n",
       "      <td>47</td>\n",
       "      <td>Civil_Twilight</td>\n",
       "      <td>&lt;class 'str'&gt;</td>\n",
       "    </tr>\n",
       "    <tr>\n",
       "      <th>42</th>\n",
       "      <td>48</td>\n",
       "      <td>Nautical_Twilight</td>\n",
       "      <td>&lt;class 'str'&gt;</td>\n",
       "    </tr>\n",
       "    <tr>\n",
       "      <th>43</th>\n",
       "      <td>49</td>\n",
       "      <td>Astronomical_Twilight</td>\n",
       "      <td>&lt;class 'str'&gt;</td>\n",
       "    </tr>\n",
       "  </tbody>\n",
       "</table>\n",
       "</div>"
      ],
      "text/plain": [
       "     #              Attribute  \\\n",
       "0    1                     ID   \n",
       "1    2                 Source   \n",
       "2    3                    TMC   \n",
       "3    4               Severity   \n",
       "4    5             Start_Time   \n",
       "5    6               End_Time   \n",
       "6    7              Start_Lat   \n",
       "7    8              Start_Lng   \n",
       "8   11           Distance(mi)   \n",
       "9   12            Description   \n",
       "10  14                 Street   \n",
       "11  15                   Side   \n",
       "12  16                   City   \n",
       "13  17                 County   \n",
       "14  18                  State   \n",
       "15  19                Zipcode   \n",
       "16  20                Country   \n",
       "17  21               Timezone   \n",
       "18  22           Airport_Code   \n",
       "19  23      Weather_Timestamp   \n",
       "20  24         Temperature(F)   \n",
       "21  26            Humidity(%)   \n",
       "22  27           Pressure(in)   \n",
       "23  28         Visibility(mi)   \n",
       "24  29         Wind_Direction   \n",
       "25  30        Wind_Speed(mph)   \n",
       "26  32      Weather_Condition   \n",
       "27  33                Amenity   \n",
       "28  34                   Bump   \n",
       "29  35               Crossing   \n",
       "30  36               Give_Way   \n",
       "31  37               Junction   \n",
       "32  38                No_Exit   \n",
       "33  39                Railway   \n",
       "34  40             Roundabout   \n",
       "35  41                Station   \n",
       "36  42                   Stop   \n",
       "37  43        Traffic_Calming   \n",
       "38  44         Traffic_Signal   \n",
       "39  45           Turning_Loop   \n",
       "40  46         Sunrise_Sunset   \n",
       "41  47         Civil_Twilight   \n",
       "42  48      Nautical_Twilight   \n",
       "43  49  Astronomical_Twilight   \n",
       "\n",
       "                                            Data type  \n",
       "0                                       <class 'str'>  \n",
       "1                                       <class 'str'>  \n",
       "2                             <class 'numpy.float64'>  \n",
       "3                               <class 'numpy.int64'>  \n",
       "4   <class 'pandas._libs.tslibs.timestamps.Timesta...  \n",
       "5   <class 'pandas._libs.tslibs.timestamps.Timesta...  \n",
       "6                             <class 'numpy.float64'>  \n",
       "7                             <class 'numpy.float64'>  \n",
       "8                             <class 'numpy.float64'>  \n",
       "9                                       <class 'str'>  \n",
       "10                                      <class 'str'>  \n",
       "11                                      <class 'str'>  \n",
       "12                                      <class 'str'>  \n",
       "13                                      <class 'str'>  \n",
       "14                                      <class 'str'>  \n",
       "15                                      <class 'str'>  \n",
       "16                                      <class 'str'>  \n",
       "17                                      <class 'str'>  \n",
       "18                                      <class 'str'>  \n",
       "19                                      <class 'str'>  \n",
       "20                            <class 'numpy.float64'>  \n",
       "21                            <class 'numpy.float64'>  \n",
       "22                            <class 'numpy.float64'>  \n",
       "23                            <class 'numpy.float64'>  \n",
       "24                                      <class 'str'>  \n",
       "25                            <class 'numpy.float64'>  \n",
       "26                                      <class 'str'>  \n",
       "27                              <class 'numpy.bool_'>  \n",
       "28                              <class 'numpy.bool_'>  \n",
       "29                              <class 'numpy.bool_'>  \n",
       "30                              <class 'numpy.bool_'>  \n",
       "31                              <class 'numpy.bool_'>  \n",
       "32                              <class 'numpy.bool_'>  \n",
       "33                              <class 'numpy.bool_'>  \n",
       "34                              <class 'numpy.bool_'>  \n",
       "35                              <class 'numpy.bool_'>  \n",
       "36                              <class 'numpy.bool_'>  \n",
       "37                              <class 'numpy.bool_'>  \n",
       "38                              <class 'numpy.bool_'>  \n",
       "39                              <class 'numpy.bool_'>  \n",
       "40                                      <class 'str'>  \n",
       "41                                      <class 'str'>  \n",
       "42                                      <class 'str'>  \n",
       "43                                      <class 'str'>  "
      ]
     },
     "execution_count": 3,
     "metadata": {},
     "output_type": "execute_result"
    }
   ],
   "source": [
    "#Import dataset with description, feature types and examples that I created for the last submission.\n",
    "df_typecheck = pd.read_csv('Week1_Variable_Summary_Table.csv')\n",
    "df_typecheck = df_typecheck.loc[df_typecheck.Attribute.isin(df.columns)]\n",
    "df_typecheck.reset_index( inplace=True)\n",
    "df_typecheck = df_typecheck.drop(columns=['index', 'Description', 'Example'])\n",
    "df_typecheck"
   ]
  },
  {
   "cell_type": "markdown",
   "metadata": {},
   "source": [
    "This table is apparently wrong, since when exported to csv the data type Timestamp apparently changes to String.\n",
    "I'll change the datatype for 'Start_Time', 'End_Time' and 'Weather_Timestamp': timestamps.Timestamp.<br>\n",
    "Also, I'm missing the feature I created called 'Duration', since it was created after I created the table."
   ]
  },
  {
   "cell_type": "code",
   "execution_count": 4,
   "metadata": {},
   "outputs": [],
   "source": [
    "#Change all times to timestamps.Timestamp-data type.\n",
    "df['Start_Time'] = pd.to_datetime(df.Start_Time, format='%Y-%m-%d %H:%M:%S')\n",
    "df['End_Time'] = pd.to_datetime(df.End_Time, format='%Y-%m-%d %H:%M:%S')\n",
    "df['Weather_Timestamp'] = pd.to_datetime(df.Weather_Timestamp, format='%Y-%m-%d %H:%M:%S')"
   ]
  },
  {
   "cell_type": "markdown",
   "metadata": {},
   "source": [
    "## Feature Engineering"
   ]
  },
  {
   "cell_type": "markdown",
   "metadata": {},
   "source": [
    "In this section I'll focus on cleaning the data in order  for my prediction module to be more accurate. For that purpose, I'll create a US_Accidents_June20_CLEAN_Week1.csv, which will only contain the features that are relevant for the training of the model. Also, those features should be already in shape to be fed to the model, so one-hot encoding will also be performed. Irrelevant features will be deleted."
   ]
  },
  {
   "cell_type": "markdown",
   "metadata": {},
   "source": [
    "### Irrelevant Features"
   ]
  },
  {
   "cell_type": "markdown",
   "metadata": {},
   "source": [
    "All features that cannot be used as a predictor for the severity of the accident should be deleted. For that reason, all data that is gathered after the accident has taken place (i.e. 'End_Timestamp') and all data that has no relation to the accident (i.e. 'ID') will be deleted."
   ]
  },
  {
   "cell_type": "code",
   "execution_count": 5,
   "metadata": {},
   "outputs": [
    {
     "name": "stdout",
     "output_type": "stream",
     "text": [
      "Number of features: 45\n",
      "Index(['ID', 'Source', 'TMC', 'Severity', 'Start_Time', 'End_Time', 'Duration',\n",
      "       'Start_Lat', 'Start_Lng', 'Distance(mi)', 'Description', 'Street',\n",
      "       'Side', 'City', 'County', 'State', 'Zipcode', 'Country', 'Timezone',\n",
      "       'Airport_Code', 'Weather_Timestamp', 'Temperature(F)', 'Humidity(%)',\n",
      "       'Pressure(in)', 'Visibility(mi)', 'Wind_Direction', 'Wind_Speed(mph)',\n",
      "       'Weather_Condition', 'Amenity', 'Bump', 'Crossing', 'Give_Way',\n",
      "       'Junction', 'No_Exit', 'Railway', 'Roundabout', 'Station', 'Stop',\n",
      "       'Traffic_Calming', 'Traffic_Signal', 'Turning_Loop', 'Sunrise_Sunset',\n",
      "       'Civil_Twilight', 'Nautical_Twilight', 'Astronomical_Twilight'],\n",
      "      dtype='object')\n"
     ]
    }
   ],
   "source": [
    "# Display columns\n",
    "print('Number of features:', df.columns.shape[0])\n",
    "print(df.columns)"
   ]
  },
  {
   "cell_type": "markdown",
   "metadata": {},
   "source": [
    "#### Drop ID and Source since not relevant for prediction"
   ]
  },
  {
   "cell_type": "markdown",
   "metadata": {},
   "source": [
    "The accident ID is not relevant for predicting the severity, so it will be dropped."
   ]
  },
  {
   "cell_type": "code",
   "execution_count": 6,
   "metadata": {},
   "outputs": [
    {
     "name": "stdout",
     "output_type": "stream",
     "text": [
      "Number of features before drop: 45\n",
      "Number of features after drop: 43\n"
     ]
    }
   ],
   "source": [
    "print('Number of features before drop:', df.columns.shape[0])\n",
    "df = df.drop(['ID', 'Source'], axis=1)\n",
    "print('Number of features after drop:', df.columns.shape[0])"
   ]
  },
  {
   "cell_type": "markdown",
   "metadata": {},
   "source": [
    "#### Drop TMC since it is defined after the accident"
   ]
  },
  {
   "cell_type": "markdown",
   "metadata": {},
   "source": [
    "The TMC (Code that describes the accident) is of course not a valid predictor since it is defined after the accident takes place."
   ]
  },
  {
   "cell_type": "code",
   "execution_count": 7,
   "metadata": {},
   "outputs": [
    {
     "name": "stdout",
     "output_type": "stream",
     "text": [
      "Number of features before drop: 43\n",
      "Number of features after drop: 42\n"
     ]
    }
   ],
   "source": [
    "print('Number of features before drop:', df.columns.shape[0])\n",
    "df = df.drop('TMC', axis=1)\n",
    "print('Number of features after drop:', df.columns.shape[0])"
   ]
  },
  {
   "cell_type": "markdown",
   "metadata": {},
   "source": [
    "#### Drop End_Time, Duration and Distance(mi)"
   ]
  },
  {
   "cell_type": "markdown",
   "metadata": {},
   "source": [
    "In order to predict severity of the accident, we can of course not now how long it took since the two mayor factors that define the Severity level are Duration until traffic was cleared and Distance of the Accident!"
   ]
  },
  {
   "cell_type": "code",
   "execution_count": 8,
   "metadata": {},
   "outputs": [
    {
     "name": "stdout",
     "output_type": "stream",
     "text": [
      "Number of features before drop: 42\n",
      "Number of features after drop: 39\n"
     ]
    }
   ],
   "source": [
    "print('Number of features before drop:', df.columns.shape[0])\n",
    "df = df.drop(['End_Time', 'Duration', 'Distance(mi)'], axis=1)\n",
    "print('Number of features after drop:', df.columns.shape[0])"
   ]
  },
  {
   "cell_type": "markdown",
   "metadata": {},
   "source": [
    "#### Drop Description"
   ]
  },
  {
   "cell_type": "markdown",
   "metadata": {},
   "source": [
    "Since the description of the accident is filled out after the accident happened, it cannot be used as a predictor!"
   ]
  },
  {
   "cell_type": "code",
   "execution_count": 9,
   "metadata": {},
   "outputs": [
    {
     "name": "stdout",
     "output_type": "stream",
     "text": [
      "Number of features before drop: 39\n",
      "Number of features after drop: 38\n"
     ]
    }
   ],
   "source": [
    "# Drop column 'Description'\n",
    "print('Number of features before drop:', df.columns.shape[0])\n",
    "df = df.drop('Description', axis=1)\n",
    "print('Number of features after drop:', df.columns.shape[0])"
   ]
  },
  {
   "cell_type": "markdown",
   "metadata": {},
   "source": [
    "#### Drop Weather_Timestamp"
   ]
  },
  {
   "cell_type": "markdown",
   "metadata": {},
   "source": [
    "Now that we have all the Timestamps in the same format, let's calculate the difference between last weather record and the time of the accident in order to see how up to date the weather records are."
   ]
  },
  {
   "cell_type": "code",
   "execution_count": 10,
   "metadata": {},
   "outputs": [
    {
     "name": "stdout",
     "output_type": "stream",
     "text": [
      "Number of Weather_Timestamps with more than 1 day difference wrt accident time: 0\n"
     ]
    }
   ],
   "source": [
    "#Calculate difference between Start_Time and Weather_Timestamp\n",
    "\n",
    "weather_time_diff = df.Weather_Timestamp - df.Start_Time\n",
    "#Transform to seconds\n",
    "weather_time_diff = weather_time_diff.dt.total_seconds()\n",
    "#Filter out biggest differences\n",
    "weather_time_diff = weather_time_diff.sort_values(ascending=True)\n",
    "\n",
    "#See how many of the Weather_Timestamps are more than one day away from the time of the accident. \n",
    "weather_bool_big_diff_vec = (weather_time_diff > 86400)|(weather_time_diff < -86400)\n",
    "print('Number of Weather_Timestamps with more than 1 day difference wrt accident time:', weather_bool_big_diff_vec.sum())"
   ]
  },
  {
   "cell_type": "markdown",
   "metadata": {},
   "source": [
    "All of the Weather_Timestamps are within one day from the accident time, which is good. That means the Weather_Conditions are up to date and reflect the real weather at the time of the accident."
   ]
  },
  {
   "cell_type": "code",
   "execution_count": 11,
   "metadata": {},
   "outputs": [
    {
     "name": "stdout",
     "output_type": "stream",
     "text": [
      "Number of features after dropping Weather_Timestamp: 37\n"
     ]
    }
   ],
   "source": [
    "# Drop Weather_Timestamp\n",
    "df = df.drop('Weather_Timestamp', axis=1)\n",
    "print('Number of features after dropping Weather_Timestamp:', df.columns.shape[0])"
   ]
  },
  {
   "cell_type": "markdown",
   "metadata": {},
   "source": [
    "#### Deal with Sunset/Twilight"
   ]
  },
  {
   "cell_type": "markdown",
   "metadata": {},
   "source": [
    "There are 4 Features that describe if at the time of the accident it was 'Day' or 'Night'. Since in my opinion the influence of this factor is mainly in the vision of the driver. I've read through the 4 descriptions and decided I'll only look at the Sunrise_Sunset feature, since it is the one that describes when the sun is in line with the horizont."
   ]
  },
  {
   "cell_type": "code",
   "execution_count": 12,
   "metadata": {},
   "outputs": [
    {
     "name": "stdout",
     "output_type": "stream",
     "text": [
      "Number of features after drop: 34\n"
     ]
    }
   ],
   "source": [
    "df = df.drop(columns=['Civil_Twilight', 'Nautical_Twilight', 'Astronomical_Twilight'])\n",
    "print('Number of features after drop:', df.columns.shape[0])"
   ]
  },
  {
   "cell_type": "markdown",
   "metadata": {},
   "source": [
    "#### Deal with Country"
   ]
  },
  {
   "cell_type": "markdown",
   "metadata": {},
   "source": [
    "All the data is from the USA, to this feature doesn't give any useful information. I'll drop the column."
   ]
  },
  {
   "cell_type": "code",
   "execution_count": 13,
   "metadata": {},
   "outputs": [
    {
     "name": "stdout",
     "output_type": "stream",
     "text": [
      "Number of features after drop: 33\n"
     ]
    }
   ],
   "source": [
    "#Drop 'Country'\n",
    "df = df.drop('Country', axis=1)\n",
    "print('Number of features after drop:', df.columns.shape[0])"
   ]
  },
  {
   "cell_type": "markdown",
   "metadata": {},
   "source": [
    "### Feature grouping"
   ]
  },
  {
   "cell_type": "markdown",
   "metadata": {},
   "source": [
    "#### Weather Condition grouping"
   ]
  },
  {
   "cell_type": "code",
   "execution_count": 14,
   "metadata": {},
   "outputs": [
    {
     "name": "stdout",
     "output_type": "stream",
     "text": [
      "Unique Weather_Condtions: (128,)\n"
     ]
    }
   ],
   "source": [
    "# Create a shorter list for 'Weather_Condition'\n",
    "\n",
    "print('Unique Weather_Condtions:', df['Weather_Condition'].unique().shape)"
   ]
  },
  {
   "cell_type": "code",
   "execution_count": 15,
   "metadata": {},
   "outputs": [
    {
     "name": "stdout",
     "output_type": "stream",
     "text": [
      "Unique Weather_Condtions list: ['Light Rain' 'Overcast' 'Mostly Cloudy' 'Rain' 'Light Snow' 'Haze'\n",
      " 'Scattered Clouds' 'Partly Cloudy' 'Clear' 'Snow'\n",
      " 'Light Freezing Drizzle' 'Light Drizzle' 'Fog' 'Shallow Fog' 'Heavy Rain'\n",
      " 'Light Freezing Rain' 'Cloudy' 'Drizzle' nan 'Light Rain Showers' 'Mist'\n",
      " 'Smoke' 'Patches of Fog' 'Light Freezing Fog' 'Light Haze'\n",
      " 'Light Thunderstorms and Rain' 'Thunderstorms and Rain' 'Fair'\n",
      " 'Volcanic Ash' 'Blowing Sand' 'Blowing Dust / Windy' 'Widespread Dust'\n",
      " 'Fair / Windy' 'Rain Showers' 'Mostly Cloudy / Windy'\n",
      " 'Light Rain / Windy' 'Hail' 'Heavy Drizzle' 'Showers in the Vicinity'\n",
      " 'Thunderstorm' 'Light Rain Shower' 'Light Rain with Thunder'\n",
      " 'Partly Cloudy / Windy' 'Thunder in the Vicinity' 'T-Storm'\n",
      " 'Heavy Thunderstorms and Rain' 'Thunder' 'Heavy T-Storm' 'Funnel Cloud'\n",
      " 'Heavy T-Storm / Windy' 'Blowing Snow' 'Light Thunderstorms and Snow'\n",
      " 'Heavy Snow' 'Low Drifting Snow' 'Light Ice Pellets' 'Ice Pellets'\n",
      " 'Squalls' 'N/A Precipitation' 'Cloudy / Windy' 'Light Fog' 'Sand'\n",
      " 'Snow Grains' 'Snow Showers' 'Heavy Thunderstorms and Snow'\n",
      " 'Rain / Windy' 'Heavy Rain / Windy' 'Heavy Ice Pellets'\n",
      " 'Light Snow / Windy' 'Heavy Freezing Rain' 'Small Hail'\n",
      " 'Heavy Rain Showers' 'T-Storm / Windy' 'Patches of Fog / Windy'\n",
      " 'Drizzle / Windy' 'Thunder / Windy' 'Wintry Mix' 'Squalls / Windy'\n",
      " 'Rain Shower' 'Drizzle and Fog' 'Haze / Windy' 'Sand / Dust Whirlwinds'\n",
      " 'Blowing Dust' 'Fog / Windy' 'Smoke / Windy' 'Wintry Mix / Windy'\n",
      " 'Snow / Windy' 'Light Rain Shower / Windy' 'Heavy Snow / Windy'\n",
      " 'Snow and Sleet' 'Light Freezing Rain / Windy' 'Light Drizzle / Windy'\n",
      " 'Light Snow and Sleet' 'Partial Fog' 'Light Snow Shower'\n",
      " 'Light Snow and Sleet / Windy' 'Freezing Rain' 'Blowing Snow / Windy'\n",
      " 'Freezing Drizzle' 'Sleet' 'Light Sleet' 'Rain and Sleet' 'Heavy Sleet'\n",
      " 'Light Snow Grains' 'Partial Fog / Windy' 'Light Snow with Thunder'\n",
      " 'Widespread Dust / Windy' 'Sand / Dust Whirlwinds / Windy' 'Tornado'\n",
      " 'Snow and Thunder' 'Snow and Sleet / Windy' 'Heavy Snow with Thunder'\n",
      " 'Thunder / Wintry Mix / Windy' 'Light Snow Showers' 'Heavy Blowing Snow'\n",
      " 'Light Hail' 'Heavy Smoke' 'Heavy Thunderstorms with Small Hail'\n",
      " 'Light Thunderstorm' 'Heavy Freezing Drizzle' 'Light Blowing Snow'\n",
      " 'Thunderstorms and Snow' 'Freezing Rain / Windy' 'Dust Whirls'\n",
      " 'Sand / Dust Whirls Nearby' 'Heavy Rain Shower' 'Thunder and Hail'\n",
      " 'Drifting Snow' 'Thunder and Hail / Windy']\n"
     ]
    }
   ],
   "source": [
    "print('Unique Weather_Condtions list:', df['Weather_Condition'].unique())"
   ]
  },
  {
   "cell_type": "markdown",
   "metadata": {},
   "source": [
    "There are 128 unique weather conditions. After inspecting the weather conditions, I've decided to group them in 9 different groups after my judgement of similarity. This way I can get insights more easily. Also, this will be handy to see the feature importance when the model is created."
   ]
  },
  {
   "cell_type": "code",
   "execution_count": 16,
   "metadata": {},
   "outputs": [
    {
     "name": "stdout",
     "output_type": "stream",
     "text": [
      "Number of features: (42,)\n"
     ]
    },
    {
     "data": {
      "text/plain": [
       "Index(['Severity', 'Start_Time', 'Start_Lat', 'Start_Lng', 'Street', 'Side',\n",
       "       'City', 'County', 'State', 'Zipcode', 'Timezone', 'Airport_Code',\n",
       "       'Temperature(F)', 'Humidity(%)', 'Pressure(in)', 'Visibility(mi)',\n",
       "       'Wind_Direction', 'Wind_Speed(mph)', 'Weather_Condition', 'Amenity',\n",
       "       'Bump', 'Crossing', 'Give_Way', 'Junction', 'No_Exit', 'Railway',\n",
       "       'Roundabout', 'Station', 'Stop', 'Traffic_Calming', 'Traffic_Signal',\n",
       "       'Turning_Loop', 'Sunrise_Sunset', 'Clear', 'Cloudy', 'Rain_Light',\n",
       "       'Rain_Heavy', 'Snow_Light', 'Snow_Heavy', 'Fog', 'Windy', 'Sand/Ash'],\n",
       "      dtype='object')"
      ]
     },
     "execution_count": 16,
     "metadata": {},
     "output_type": "execute_result"
    }
   ],
   "source": [
    "df['Clear'] = np.where(df['Weather_Condition'].str.contains('Clear|N/A Precipitation', case=False, na = False), 1, 0)\n",
    "df['Cloudy'] = np.where(df['Weather_Condition'].str.contains('Cloud|Cloudy|Overcast', case=False, na = False), 1, 0)\n",
    "df['Rain_Light'] = np.where(df['Weather_Condition'].str.contains('Rain|Storm|storm|Drizzle', case=False, na = False), 1, 0)\n",
    "df['Rain_Heavy'] = np.where(df['Weather_Condition'].str.contains('Heavy Rain|Rain Shower|Heavy T-Storm|Heavy Thunderstorms|Thunder|Showers', case=False, na = False), 1, 0)\n",
    "df['Snow_Light'] = np.where(df['Weather_Condition'].str.contains('Snow|Sleet|Ice', case=False, na = False), 1, 0)\n",
    "df['Snow_Heavy'] = np.where(df['Weather_Condition'].str.contains('Heavy Snow|Heavy Sleet|Heavy Ice Pellets|Snow Showers|Squalls|Hail', case=False, na = False), 1, 0)\n",
    "df['Fog'] = np.where(df['Weather_Condition'].str.contains('Fog|Haze', case=False, na = False), 1, 0)\n",
    "df['Windy'] = np.where(df['Weather_Condition'].str.contains('Wind|Windy|Dust', case=False, na = False), 1, 0)\n",
    "df['Sand/Ash'] = np.where(df['Weather_Condition'].str.contains('Sand|Ash', case=False, na = False), 1, 0)\n",
    "\n",
    "print(\"Number of features:\", df.columns.shape)\n",
    "df.columns"
   ]
  },
  {
   "cell_type": "code",
   "execution_count": 17,
   "metadata": {},
   "outputs": [
    {
     "name": "stdout",
     "output_type": "stream",
     "text": [
      "Number of features after drop: (41,)\n"
     ]
    }
   ],
   "source": [
    "#Drop Weather_Condition column\n",
    "df = df.drop(['Weather_Condition'], axis=1)\n",
    "print('Number of features after drop:', df.columns.shape)"
   ]
  },
  {
   "cell_type": "markdown",
   "metadata": {},
   "source": [
    "#### Wind Direction grouping"
   ]
  },
  {
   "cell_type": "markdown",
   "metadata": {},
   "source": [
    "In the begining I also wanted to group the wind directions as in the Weather Conditions, but after looking at a Wind Direction Rose I have decided to not group them, since there is no way of not biasing the groups, since wind directions like SWS can be grouped together with S or SW."
   ]
  },
  {
   "cell_type": "code",
   "execution_count": 18,
   "metadata": {},
   "outputs": [
    {
     "data": {
      "text/plain": [
       "array(['Calm', 'SW', 'SSW', 'WSW', 'WNW', 'NW', 'West', 'NNW', 'NNE',\n",
       "       'South', 'North', 'Variable', 'SE', 'SSE', 'ESE', 'East', 'NE',\n",
       "       'ENE', 'E', 'W', nan, 'S', 'VAR', 'CALM', 'N'], dtype=object)"
      ]
     },
     "execution_count": 18,
     "metadata": {},
     "output_type": "execute_result"
    }
   ],
   "source": [
    "df['Wind_Direction'].unique()"
   ]
  },
  {
   "cell_type": "markdown",
   "metadata": {},
   "source": [
    "There are though some wind directions that are the same and are written in different ways, so those will be grouped."
   ]
  },
  {
   "cell_type": "code",
   "execution_count": 19,
   "metadata": {},
   "outputs": [],
   "source": [
    "#Group Wind_Direction that are the sam\n",
    "df['Wind_Direction'].replace('Calm','CALM', inplace=True)\n",
    "df['Wind_Direction'].replace('Variable','VAR', inplace=True)\n",
    "df['Wind_Direction'].replace('South','S', inplace=True)\n",
    "df['Wind_Direction'].replace('North','N', inplace=True)\n",
    "df['Wind_Direction'].replace('East','E', inplace=True)\n",
    "df['Wind_Direction'].replace('West','W', inplace=True)"
   ]
  },
  {
   "cell_type": "code",
   "execution_count": 20,
   "metadata": {},
   "outputs": [
    {
     "data": {
      "image/png": "[encoded data removed]",
      "text/plain": [
       "<Figure size 432x288 with 1 Axes>"
      ]
     },
     "metadata": {
      "needs_background": "light"
     },
     "output_type": "display_data"
    }
   ],
   "source": [
    "#Plot Wind_Direction in order to see if the distribution makes sense.\n",
    "fig, ax = plt.subplots()\n",
    "sns.countplot('Wind_Direction',data=df,ax=ax,order=df['Wind_Direction'].value_counts().index)\n",
    "ax.set_title('Count of Wind_Direction:')\n",
    "plt.show()"
   ]
  },
  {
   "cell_type": "markdown",
   "metadata": {},
   "source": [
    "The distribution looks good after the grouping."
   ]
  },
  {
   "cell_type": "markdown",
   "metadata": {},
   "source": [
    "### Missing Data"
   ]
  },
  {
   "cell_type": "markdown",
   "metadata": {},
   "source": [
    "#### Imputting continous values"
   ]
  },
  {
   "cell_type": "markdown",
   "metadata": {},
   "source": [
    "For the moment I'll only impute the float values with the median of that particular feature (more robust towards outliers than mean). For String features, a more detailed analysis should be done."
   ]
  },
  {
   "cell_type": "code",
   "execution_count": 21,
   "metadata": {},
   "outputs": [
    {
     "name": "stdout",
     "output_type": "stream",
     "text": [
      "\n",
      "Severity           0.000000\n",
      "Start_Time         0.000000\n",
      "Start_Lat          0.000000\n",
      "Start_Lng          0.000000\n",
      "Street             0.000000\n",
      "Side               0.000000\n",
      "City               0.003188\n",
      "County             0.000000\n",
      "State              0.000000\n",
      "Zipcode            0.030424\n",
      "Timezone           0.110428\n",
      "Airport_Code       0.192337\n",
      "Temperature(F)     0.000000\n",
      "Humidity(%)        0.000000\n",
      "Pressure(in)       0.000000\n",
      "Visibility(mi)     0.000000\n",
      "Wind_Direction     1.675595\n",
      "Wind_Speed(mph)    0.000000\n",
      "Amenity            0.000000\n",
      "Bump               0.000000\n",
      "Crossing           0.000000\n",
      "Give_Way           0.000000\n",
      "Junction           0.000000\n",
      "No_Exit            0.000000\n",
      "Railway            0.000000\n",
      "Roundabout         0.000000\n",
      "Station            0.000000\n",
      "Stop               0.000000\n",
      "Traffic_Calming    0.000000\n",
      "Traffic_Signal     0.000000\n",
      "Turning_Loop       0.000000\n",
      "Sunrise_Sunset     0.003273\n",
      "Clear              0.000000\n",
      "Cloudy             0.000000\n",
      "Rain_Light         0.000000\n",
      "Rain_Heavy         0.000000\n",
      "Snow_Light         0.000000\n",
      "Snow_Heavy         0.000000\n",
      "Fog                0.000000\n",
      "Windy              0.000000\n",
      "Sand/Ash           0.000000\n",
      "dtype: float64\n"
     ]
    }
   ],
   "source": [
    "# I'll impute using the median value for that column.\n",
    "#For computational efficiency reasons, I'll create a list with only the Features where NaN-values are present. So, I won't iterate through all Features to impute the NaNs.\n",
    "nan_vec = ['Temperature(F)', 'Humidity(%)', 'Pressure(in)', 'Visibility(mi)', 'Wind_Speed(mph)']\n",
    "\n",
    "for element in nan_vec:\n",
    "    df[element].fillna(df[element].median(), inplace=True)\n",
    "    \n",
    "print()\n",
    "print(df.isnull().sum()/(df.shape[0])*100)"
   ]
  },
  {
   "cell_type": "markdown",
   "metadata": {},
   "source": [
    "#### Imputting categorical values"
   ]
  },
  {
   "cell_type": "markdown",
   "metadata": {},
   "source": [
    "In this section I'll look at the missing data of each specific categorical value in order to assess the best way to deal with the NaNs."
   ]
  },
  {
   "cell_type": "markdown",
   "metadata": {},
   "source": [
    "##### Description, City, Zipcode, Timezone, Airport_Code, Sunrise_Sunset"
   ]
  },
  {
   "cell_type": "markdown",
   "metadata": {},
   "source": [
    "Since the number of datapoints that are missing in this columns is so small (all > 1.5% !) I'll just drop them. An alternative approach to deal with missing values of geographical features (i.e. Wind_Direction) would be to group the datapoints by location ('Zipcode' or 'City') and take the 'most_common' value that appears in the location. In this case I've decided to just drop the values since they are so few."
   ]
  },
  {
   "cell_type": "code",
   "execution_count": 22,
   "metadata": {},
   "outputs": [],
   "source": [
    "df = df.dropna(subset=['Wind_Direction', 'City', 'Zipcode', 'Timezone', 'Airport_Code', 'Sunrise_Sunset'])"
   ]
  },
  {
   "cell_type": "code",
   "execution_count": 23,
   "metadata": {},
   "outputs": [
    {
     "name": "stdout",
     "output_type": "stream",
     "text": [
      "Severity           0.0\n",
      "Start_Time         0.0\n",
      "Start_Lat          0.0\n",
      "Start_Lng          0.0\n",
      "Street             0.0\n",
      "Side               0.0\n",
      "City               0.0\n",
      "County             0.0\n",
      "State              0.0\n",
      "Zipcode            0.0\n",
      "Timezone           0.0\n",
      "Airport_Code       0.0\n",
      "Temperature(F)     0.0\n",
      "Humidity(%)        0.0\n",
      "Pressure(in)       0.0\n",
      "Visibility(mi)     0.0\n",
      "Wind_Direction     0.0\n",
      "Wind_Speed(mph)    0.0\n",
      "Amenity            0.0\n",
      "Bump               0.0\n",
      "Crossing           0.0\n",
      "Give_Way           0.0\n",
      "Junction           0.0\n",
      "No_Exit            0.0\n",
      "Railway            0.0\n",
      "Roundabout         0.0\n",
      "Station            0.0\n",
      "Stop               0.0\n",
      "Traffic_Calming    0.0\n",
      "Traffic_Signal     0.0\n",
      "Turning_Loop       0.0\n",
      "Sunrise_Sunset     0.0\n",
      "Clear              0.0\n",
      "Cloudy             0.0\n",
      "Rain_Light         0.0\n",
      "Rain_Heavy         0.0\n",
      "Snow_Light         0.0\n",
      "Snow_Heavy         0.0\n",
      "Fog                0.0\n",
      "Windy              0.0\n",
      "Sand/Ash           0.0\n",
      "dtype: float64\n"
     ]
    }
   ],
   "source": [
    "#print remaining missing values\n",
    "print(df.isnull().sum()/(df.shape[0])*100)"
   ]
  },
  {
   "cell_type": "markdown",
   "metadata": {},
   "source": [
    "## Encoding the data"
   ]
  },
  {
   "cell_type": "markdown",
   "metadata": {},
   "source": [
    "### Time Encoding"
   ]
  },
  {
   "cell_type": "code",
   "execution_count": 24,
   "metadata": {},
   "outputs": [
    {
     "name": "stdout",
     "output_type": "stream",
     "text": [
      "Number of features before feature creation: 41\n",
      "Number of features after feature creation: 47\n",
      "\n"
     ]
    },
    {
     "data": {
      "text/html": [
       "<div>\n",
       "<style scoped>\n",
       "    .dataframe tbody tr th:only-of-type {\n",
       "        vertical-align: middle;\n",
       "    }\n",
       "\n",
       "    .dataframe tbody tr th {\n",
       "        vertical-align: top;\n",
       "    }\n",
       "\n",
       "    .dataframe thead th {\n",
       "        text-align: right;\n",
       "    }\n",
       "</style>\n",
       "<table border=\"1\" class=\"dataframe\">\n",
       "  <thead>\n",
       "    <tr style=\"text-align: right;\">\n",
       "      <th></th>\n",
       "      <th>Year</th>\n",
       "      <th>Month</th>\n",
       "      <th>Weekday</th>\n",
       "      <th>Day</th>\n",
       "      <th>Hour</th>\n",
       "      <th>Minute</th>\n",
       "    </tr>\n",
       "  </thead>\n",
       "  <tbody>\n",
       "    <tr>\n",
       "      <th>0</th>\n",
       "      <td>2016</td>\n",
       "      <td>2</td>\n",
       "      <td>0</td>\n",
       "      <td>39</td>\n",
       "      <td>5</td>\n",
       "      <td>346.0</td>\n",
       "    </tr>\n",
       "    <tr>\n",
       "      <th>1</th>\n",
       "      <td>2016</td>\n",
       "      <td>2</td>\n",
       "      <td>0</td>\n",
       "      <td>39</td>\n",
       "      <td>6</td>\n",
       "      <td>367.0</td>\n",
       "    </tr>\n",
       "    <tr>\n",
       "      <th>2</th>\n",
       "      <td>2016</td>\n",
       "      <td>2</td>\n",
       "      <td>0</td>\n",
       "      <td>39</td>\n",
       "      <td>6</td>\n",
       "      <td>409.0</td>\n",
       "    </tr>\n",
       "    <tr>\n",
       "      <th>3</th>\n",
       "      <td>2016</td>\n",
       "      <td>2</td>\n",
       "      <td>0</td>\n",
       "      <td>39</td>\n",
       "      <td>7</td>\n",
       "      <td>443.0</td>\n",
       "    </tr>\n",
       "    <tr>\n",
       "      <th>4</th>\n",
       "      <td>2016</td>\n",
       "      <td>2</td>\n",
       "      <td>0</td>\n",
       "      <td>39</td>\n",
       "      <td>7</td>\n",
       "      <td>459.0</td>\n",
       "    </tr>\n",
       "    <tr>\n",
       "      <th>5</th>\n",
       "      <td>2016</td>\n",
       "      <td>2</td>\n",
       "      <td>0</td>\n",
       "      <td>39</td>\n",
       "      <td>7</td>\n",
       "      <td>464.0</td>\n",
       "    </tr>\n",
       "  </tbody>\n",
       "</table>\n",
       "</div>"
      ],
      "text/plain": [
       "   Year  Month  Weekday  Day  Hour  Minute\n",
       "0  2016      2        0   39     5   346.0\n",
       "1  2016      2        0   39     6   367.0\n",
       "2  2016      2        0   39     6   409.0\n",
       "3  2016      2        0   39     7   443.0\n",
       "4  2016      2        0   39     7   459.0\n",
       "5  2016      2        0   39     7   464.0"
      ]
     },
     "execution_count": 24,
     "metadata": {},
     "output_type": "execute_result"
    }
   ],
   "source": [
    "print('Number of features before feature creation:', df.columns.shape[0])\n",
    "#Year\n",
    "df['Year'] = df['Start_Time'].dt.year\n",
    "\n",
    "#Month\n",
    "n_month = df['Start_Time'].dt.month\n",
    "df['Month'] = n_month\n",
    "\n",
    "#Weekday\n",
    "df['Weekday']= df['Start_Time'].dt.weekday\n",
    "\n",
    "#Day as number between 1-365\n",
    "days_each_month = np.cumsum(np.array([0,31,28,31,30,31,30,31,31,30,31,30,31]))\n",
    "nday = [days_each_month[arg-1] for arg in n_month.values]\n",
    "nday = nday + df[\"Start_Time\"].dt.day.values\n",
    "df['Day'] = nday\n",
    "\n",
    "#Hour\n",
    "df['Hour'] = df['Start_Time'].dt.hour\n",
    "\n",
    "#Minute\n",
    "df['Minute']=df['Hour']*60.0+df[\"Start_Time\"].dt.minute\n",
    "\n",
    "print('Number of features after feature creation:', df.columns.shape[0])\n",
    "print()\n",
    "\n",
    "df.loc[:5, ['Year', 'Month', 'Weekday', 'Day', 'Hour', 'Minute']]"
   ]
  },
  {
   "cell_type": "code",
   "execution_count": 25,
   "metadata": {},
   "outputs": [
    {
     "name": "stdout",
     "output_type": "stream",
     "text": [
      "Number of features before one-hot encoding: 47\n",
      "Number of features after one-hot encoding: 91\n"
     ]
    }
   ],
   "source": [
    "#One Hot encode Year, Month, Weekday, Hour\n",
    "print('Number of features before one-hot encoding:', df.columns.shape[0])\n",
    "df = pd.get_dummies(df, columns=['Year', 'Month', 'Weekday', 'Hour'], drop_first=False)\n",
    "print('Number of features after one-hot encoding:', df.columns.shape[0])"
   ]
  },
  {
   "cell_type": "markdown",
   "metadata": {},
   "source": [
    "For <b>'Minute'</b>, the one-hot encoding would yield too many dimensions and we could fall into the curse of dimensionality. For that reason with categorical variables that have many different values, it makes sense to transform them into the frequency domain and then use that instead of the variable itself."
   ]
  },
  {
   "cell_type": "code",
   "execution_count": 26,
   "metadata": {},
   "outputs": [],
   "source": [
    "# Transform Minute into Minute_Freq\n",
    "df['Minute_Freq'] = df.groupby(['Minute'])['Minute'].transform('count')\n",
    "df['Minute_Freq'] = df['Minute_Freq']/df.shape[0]*24*60"
   ]
  },
  {
   "cell_type": "code",
   "execution_count": 27,
   "metadata": {},
   "outputs": [
    {
     "data": {
      "image/png": "[encoded data removed]",
      "text/plain": [
       "<Figure size 432x288 with 1 Axes>"
      ]
     },
     "metadata": {
      "needs_background": "light"
     },
     "output_type": "display_data"
    }
   ],
   "source": [
    "# Plot violin plot\n",
    "df['Severity'] = df['Severity'].astype('category')\n",
    "sns.violinplot(x='Minute_Freq', y=\"Severity\", data=df, palette=\"Set2\")    \n",
    "plt.xlabel('Minute_Fre', size=12)\n",
    "plt.ylabel('Severity', size=12)    \n",
    "plt.tick_params(axis='x', labelsize=12)\n",
    "plt.tick_params(axis='y', labelsize=12)\n",
    "plt.title('Minute Frequency by Severity', size=16, y=1.05)\n",
    "plt.show()"
   ]
  },
  {
   "cell_type": "markdown",
   "metadata": {},
   "source": [
    "There is no big difference, but there is a subtle decrease in frequency there higher the severity of the accident. WHat this means is that accidents with that happen less frequently have a higher probability of being more severe. Formulated another way: accidents that happen a lot are usually less severe that accidents that rarely happen."
   ]
  },
  {
   "cell_type": "code",
   "execution_count": 28,
   "metadata": {},
   "outputs": [
    {
     "name": "stdout",
     "output_type": "stream",
     "text": [
      "Number of features before drop: 92\n",
      "Number of features after drop: 90\n"
     ]
    }
   ],
   "source": [
    "#Drop 'Start_Time' and 'Minute'\n",
    "print('Number of features before drop:', df.columns.shape[0])\n",
    "df = df.drop(['Start_Time','Minute'], axis=1)\n",
    "print('Number of features after drop:', df.columns.shape[0])"
   ]
  },
  {
   "cell_type": "markdown",
   "metadata": {},
   "source": [
    "### Latitude and Longitude Encoding"
   ]
  },
  {
   "cell_type": "markdown",
   "metadata": {},
   "source": [
    "Since they are continous values, no encoding needed."
   ]
  },
  {
   "cell_type": "markdown",
   "metadata": {},
   "source": [
    "### Street Encoding"
   ]
  },
  {
   "cell_type": "markdown",
   "metadata": {},
   "source": [
    "Same dilemma as with Time. Since there are so many different streets, a one-hot encoding would lead to too many dimensions. Instead, a typical approach is to take the frequency of the value (in this case street name)."
   ]
  },
  {
   "cell_type": "code",
   "execution_count": 29,
   "metadata": {},
   "outputs": [],
   "source": [
    "# Transform Street into Street_Freq\n",
    "df['Street_Freq'] = df.groupby(['Street'])['Street'].transform('count')\n",
    "df['Street_Freq'] = df['Street_Freq']/df['Street_Freq'].unique().shape[0]"
   ]
  },
  {
   "cell_type": "code",
   "execution_count": 30,
   "metadata": {},
   "outputs": [
    {
     "data": {
      "image/png": "[encoded data removed]",
      "text/plain": [
       "<Figure size 432x288 with 1 Axes>"
      ]
     },
     "metadata": {
      "needs_background": "light"
     },
     "output_type": "display_data"
    }
   ],
   "source": [
    "# Plot violin plot\n",
    "df['Severity'] = df['Severity'].astype('category')\n",
    "sns.violinplot(x='Street_Freq', y=\"Severity\", data=df, palette=\"Set2\")    \n",
    "plt.xlabel('Street_Freq', size=12)\n",
    "plt.ylabel('Severity', size=12)    \n",
    "plt.tick_params(axis='x', labelsize=12)\n",
    "plt.tick_params(axis='y', labelsize=12)\n",
    "plt.title('Minute Frequency by Severity', size=16, y=1.05)\n",
    "plt.show()"
   ]
  },
  {
   "cell_type": "markdown",
   "metadata": {},
   "source": [
    "In order to deal with the skewness of the distribution, take the log of the distribution. "
   ]
  },
  {
   "cell_type": "code",
   "execution_count": 31,
   "metadata": {},
   "outputs": [
    {
     "data": {
      "image/png": "[encoded data removed]",
      "text/plain": [
       "<Figure size 432x288 with 1 Axes>"
      ]
     },
     "metadata": {
      "needs_background": "light"
     },
     "output_type": "display_data"
    }
   ],
   "source": [
    "#Take log\n",
    "df['Street_Freq'] = df['Street_Freq'].apply(lambda x: np.log(x))\n",
    "\n",
    "# Plot again \n",
    "df['Severity'] = df['Severity'].astype('category')\n",
    "sns.violinplot(x='Street_Freq', y=\"Severity\", data=df, palette=\"Set2\")    \n",
    "plt.xlabel('Street_Freq', size=12)\n",
    "plt.ylabel('Severity', size=12)    \n",
    "plt.tick_params(axis='x', labelsize=12)\n",
    "plt.tick_params(axis='y', labelsize=12)\n",
    "plt.title('Minute Frequency by Severity', size=16, y=1.05)\n",
    "plt.show()"
   ]
  },
  {
   "cell_type": "markdown",
   "metadata": {},
   "source": [
    "This is interesting. For severity levels 1,2 and 3, severity goes up with frequency of the accidents. So accidents with severity level 3 happen in places where accidents occur very frequently.<br>\n",
    "For accidents with level 4 severity the frequency is even lower than for accidents with severity level 1. This means that the <b>really severe</b> accidents happen in places where accidents happen <b>the least frequent</b>."
   ]
  },
  {
   "cell_type": "code",
   "execution_count": 32,
   "metadata": {},
   "outputs": [
    {
     "name": "stdout",
     "output_type": "stream",
     "text": [
      "Number of features before drop: 91\n",
      "Number of features after drop: 90\n"
     ]
    }
   ],
   "source": [
    "#Drop 'Street' column\n",
    "print('Number of features before drop:', df.columns.shape[0])\n",
    "df = df.drop('Street', axis=1)\n",
    "print('Number of features after drop:', df.columns.shape[0])"
   ]
  },
  {
   "cell_type": "markdown",
   "metadata": {},
   "source": [
    "### Side"
   ]
  },
  {
   "cell_type": "markdown",
   "metadata": {},
   "source": [
    "A basic one-hot encoding will be enough, since there are only 2 possible values. "
   ]
  },
  {
   "cell_type": "code",
   "execution_count": 33,
   "metadata": {},
   "outputs": [
    {
     "name": "stdout",
     "output_type": "stream",
     "text": [
      "Number of features before one-hot encoding: 90\n",
      "Number of features after one-hot encoding: 92\n"
     ]
    }
   ],
   "source": [
    "#Create one-hot encoding.\n",
    "print('Number of features before one-hot encoding:', df.columns.shape[0])\n",
    "df = pd.get_dummies(df, columns=['Side'])\n",
    "print('Number of features after one-hot encoding:', df.columns.shape[0])"
   ]
  },
  {
   "cell_type": "markdown",
   "metadata": {},
   "source": [
    "### Other Frequency Features: City, County, Zipcode, Airport_Code"
   ]
  },
  {
   "cell_type": "markdown",
   "metadata": {},
   "source": [
    "Same as for 'Street', I'll use the frequency."
   ]
  },
  {
   "cell_type": "code",
   "execution_count": 34,
   "metadata": {},
   "outputs": [
    {
     "name": "stdout",
     "output_type": "stream",
     "text": [
      "Number of features before frequency features creation: 92\n",
      "Number of features after frequency features creation: 96\n"
     ]
    }
   ],
   "source": [
    "print('Number of features before frequency features creation:', df.columns.shape[0])\n",
    "\n",
    "#City\n",
    "df['City_Freq'] = df.groupby(['City'])['City'].transform('count')\n",
    "df['City_Freq'] = df['City_Freq']/df.City.unique().shape[0]\n",
    "\n",
    "#County\n",
    "df['County_Freq'] = df.groupby(['County'])['County'].transform('count')\n",
    "df['County_Freq'] = df['County_Freq']/df.County.unique().shape[0]\n",
    "\n",
    "#Zipcode\n",
    "df['Zipcode_Freq'] = df.groupby(['Zipcode'])['Zipcode'].transform('count')\n",
    "df['Zipcode_Freq'] = df['Zipcode_Freq']/df.Zipcode.unique().shape[0]\n",
    "\n",
    "#Airport_Code\n",
    "df['Airport_Code_Freq'] = df.groupby(['Airport_Code'])['Airport_Code'].transform('count')\n",
    "df['Airport_Code_Freq'] = df['Airport_Code_Freq']/df.Airport_Code.unique().shape[0]\n",
    "\n",
    "print('Number of features after frequency features creation:', df.columns.shape[0])"
   ]
  },
  {
   "cell_type": "code",
   "execution_count": 35,
   "metadata": {},
   "outputs": [
    {
     "name": "stdout",
     "output_type": "stream",
     "text": [
      "Number of features before drop: 96\n",
      "Number of features before drop: 92\n"
     ]
    }
   ],
   "source": [
    "#Drop columns with original variables\n",
    "print('Number of features before drop:', df.columns.shape[0])\n",
    "\n",
    "df = df.drop(columns=['City', 'County', 'Zipcode', 'Airport_Code'])\n",
    "\n",
    "print('Number of features before drop:', df.columns.shape[0])"
   ]
  },
  {
   "cell_type": "markdown",
   "metadata": {},
   "source": [
    "### Other features that will be one-hot enconded: 'Day', 'State', 'Timezone', 'Wind_Direction' and 'Sunrise_Sunset'"
   ]
  },
  {
   "cell_type": "code",
   "execution_count": 36,
   "metadata": {},
   "outputs": [
    {
     "name": "stdout",
     "output_type": "stream",
     "text": [
      "Number of features before one-hot encoding: 92\n",
      "Number of features after one-hot encoding: 161\n"
     ]
    }
   ],
   "source": [
    "#Create one-hot encoding.\n",
    "print('Number of features before one-hot encoding:', df.columns.shape[0])\n",
    "df = pd.get_dummies(df, columns=['State', 'Timezone', 'Wind_Direction', 'Sunrise_Sunset'], drop_first=False)\n",
    "print('Number of features after one-hot encoding:', df.columns.shape[0])"
   ]
  },
  {
   "cell_type": "markdown",
   "metadata": {},
   "source": [
    "## Export"
   ]
  },
  {
   "cell_type": "code",
   "execution_count": 37,
   "metadata": {},
   "outputs": [
    {
     "name": "stdout",
     "output_type": "stream",
     "text": [
      "(161,)\n"
     ]
    },
    {
     "data": {
      "text/plain": [
       "Index(['Severity', 'Start_Lat', 'Start_Lng', 'Temperature(F)', 'Humidity(%)',\n",
       "       'Pressure(in)', 'Visibility(mi)', 'Wind_Speed(mph)', 'Amenity', 'Bump',\n",
       "       ...\n",
       "       'Wind_Direction_SE', 'Wind_Direction_SSE', 'Wind_Direction_SSW',\n",
       "       'Wind_Direction_SW', 'Wind_Direction_VAR', 'Wind_Direction_W',\n",
       "       'Wind_Direction_WNW', 'Wind_Direction_WSW', 'Sunrise_Sunset_Day',\n",
       "       'Sunrise_Sunset_Night'],\n",
       "      dtype='object', length=161)"
      ]
     },
     "execution_count": 37,
     "metadata": {},
     "output_type": "execute_result"
    }
   ],
   "source": [
    "#Display names of columns\n",
    "print(df.columns.shape)\n",
    "df.columns"
   ]
  },
  {
   "cell_type": "code",
   "execution_count": 38,
   "metadata": {},
   "outputs": [],
   "source": [
    "#Save file with name as in convention explained\n",
    "df.to_csv(\"US_Accidents_June20_CLEAN_Week2.csv\", index=False)"
   ]
  }
 ],
 "metadata": {
  "kernelspec": {
   "display_name": "Python 3",
   "language": "python",
   "name": "python3"
  },
  "language_info": {
   "codemirror_mode": {
    "name": "ipython",
    "version": 3
   },
   "file_extension": ".py",
   "mimetype": "text/x-python",
   "name": "python",
   "nbconvert_exporter": "python",
   "pygments_lexer": "ipython3",
   "version": "3.7.6"
  }
 },
 "nbformat": 4,
 "nbformat_minor": 4
}
