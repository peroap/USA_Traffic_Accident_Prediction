{
 "cells": [
  {
   "cell_type": "markdown",
   "metadata": {},
   "source": [
    "# Predictive Models"
   ]
  },
  {
   "cell_type": "code",
   "execution_count": 1,
   "metadata": {},
   "outputs": [],
   "source": [
    "#import libraries\n",
    "import pandas as pd\n",
    "import numpy as np\n",
    "\n",
    "from sklearn.preprocessing import StandardScaler\n",
    "from sklearn.model_selection import train_test_split, GridSearchCV\n",
    "from sklearn.metrics import multilabel_confusion_matrix, accuracy_score\n",
    "from sklearn.tree import DecisionTreeClassifier\n",
    "from sklearn import svm\n",
    "from sklearn.ensemble import RandomForestRegressor\n",
    "\n",
    "import tensorflow as tf\n",
    "from tensorflow import keras\n",
    "from tensorflow.keras import layers\n",
    "from tensorflow.keras.models import Sequential\n",
    "from tensorflow.keras.layers import Dense\n",
    "\n",
    "\n",
    "import matplotlib.pyplot as plt\n",
    "import seaborn as sns"
   ]
  },
  {
   "cell_type": "code",
   "execution_count": 2,
   "metadata": {},
   "outputs": [
    {
     "name": "stdout",
     "output_type": "stream",
     "text": [
      "df.shape: (3454629, 161)\n"
     ]
    }
   ],
   "source": [
    "# Import data from Week 2\n",
    "df = pd.read_csv('US_Accidents_June20_CLEAN_Week2.csv')\n",
    "print('df.shape:', df.shape)"
   ]
  },
  {
   "cell_type": "code",
   "execution_count": 3,
   "metadata": {},
   "outputs": [
    {
     "data": {
      "text/plain": [
       "Index(['Severity', 'Start_Lat', 'Start_Lng', 'Temperature(F)', 'Humidity(%)',\n",
       "       'Pressure(in)', 'Visibility(mi)', 'Wind_Speed(mph)', 'Amenity', 'Bump',\n",
       "       ...\n",
       "       'Wind_Direction_SE', 'Wind_Direction_SSE', 'Wind_Direction_SSW',\n",
       "       'Wind_Direction_SW', 'Wind_Direction_VAR', 'Wind_Direction_W',\n",
       "       'Wind_Direction_WNW', 'Wind_Direction_WSW', 'Sunrise_Sunset_Day',\n",
       "       'Sunrise_Sunset_Night'],\n",
       "      dtype='object', length=161)"
      ]
     },
     "execution_count": 3,
     "metadata": {},
     "output_type": "execute_result"
    }
   ],
   "source": [
    "#Display features\n",
    "df.columns"
   ]
  },
  {
   "cell_type": "markdown",
   "metadata": {},
   "source": [
    "Models and performance indicators:<br>\n",
    "* Since the predicted values can be 1,2,3 or 4, I'll tackle the problem as a multiclass classification problem. For that reason, I'll first define a baseline prediction performance with a <b>linear SVM</b>.\n",
    "* Next, other models will be assessed: <b>Decision Trees</b>, <b>Random Forest</b> and a simple <b>Fully Connected Deep Neural Network</b>.\n",
    "* In order to assess the performance of the different models, the accuracy of the model will be regarded and the cofusion matrix for each model will be inspected.\n",
    "* Additionally, the Feature Importance of each model will be displayed for better model understanding."
   ]
  },
  {
   "cell_type": "markdown",
   "metadata": {},
   "source": [
    "# Sample to deal with class imbalance"
   ]
  },
  {
   "cell_type": "code",
   "execution_count": 4,
   "metadata": {},
   "outputs": [
    {
     "data": {
      "image/png": "[encoded data removed]",
      "text/plain": [
       "<Figure size 432x288 with 1 Axes>"
      ]
     },
     "metadata": {
      "needs_background": "light"
     },
     "output_type": "display_data"
    }
   ],
   "source": [
    "# plot severity of data to see how imbalance the data is\n",
    "\n",
    "fig, ax = plt.subplots()\n",
    "sns.countplot('Severity',data=df,ax=ax,order=df['Severity'].value_counts().index)\n",
    "ax.set_title('Count of Severity:')\n",
    "plt.show()"
   ]
  },
  {
   "cell_type": "markdown",
   "metadata": {},
   "source": [
    "There is a big class imbalance. In order to deal with it, I'll undersample classes 2, 3 and 4 and oversample class 1."
   ]
  },
  {
   "cell_type": "code",
   "execution_count": 5,
   "metadata": {},
   "outputs": [
    {
     "name": "stdout",
     "output_type": "stream",
     "text": [
      "Severity level 1: 28673\n",
      "Severity level 2: 2333784\n",
      "Severity level 3: 982355\n",
      "Severity level 4: 109817\n"
     ]
    }
   ],
   "source": [
    "for i in range (4):\n",
    "    print('Severity level {}:'.format(i+1), df.loc[df['Severity']==i+1].shape[0])"
   ]
  },
  {
   "cell_type": "code",
   "execution_count": 6,
   "metadata": {},
   "outputs": [
    {
     "data": {
      "text/html": [
       "<div>\n",
       "<style scoped>\n",
       "    .dataframe tbody tr th:only-of-type {\n",
       "        vertical-align: middle;\n",
       "    }\n",
       "\n",
       "    .dataframe tbody tr th {\n",
       "        vertical-align: top;\n",
       "    }\n",
       "\n",
       "    .dataframe thead th {\n",
       "        text-align: right;\n",
       "    }\n",
       "</style>\n",
       "<table border=\"1\" class=\"dataframe\">\n",
       "  <thead>\n",
       "    <tr style=\"text-align: right;\">\n",
       "      <th></th>\n",
       "      <th>Severity</th>\n",
       "      <th>Start_Lat</th>\n",
       "      <th>Start_Lng</th>\n",
       "      <th>Temperature(F)</th>\n",
       "      <th>Humidity(%)</th>\n",
       "      <th>Pressure(in)</th>\n",
       "      <th>Visibility(mi)</th>\n",
       "      <th>Wind_Speed(mph)</th>\n",
       "      <th>Amenity</th>\n",
       "      <th>Bump</th>\n",
       "      <th>...</th>\n",
       "      <th>Wind_Direction_SE</th>\n",
       "      <th>Wind_Direction_SSE</th>\n",
       "      <th>Wind_Direction_SSW</th>\n",
       "      <th>Wind_Direction_SW</th>\n",
       "      <th>Wind_Direction_VAR</th>\n",
       "      <th>Wind_Direction_W</th>\n",
       "      <th>Wind_Direction_WNW</th>\n",
       "      <th>Wind_Direction_WSW</th>\n",
       "      <th>Sunrise_Sunset_Day</th>\n",
       "      <th>Sunrise_Sunset_Night</th>\n",
       "    </tr>\n",
       "  </thead>\n",
       "  <tbody>\n",
       "    <tr>\n",
       "      <th>2829025</th>\n",
       "      <td>1</td>\n",
       "      <td>41.471470</td>\n",
       "      <td>-81.882360</td>\n",
       "      <td>41.0</td>\n",
       "      <td>73.0</td>\n",
       "      <td>29.24</td>\n",
       "      <td>10.0</td>\n",
       "      <td>17.0</td>\n",
       "      <td>False</td>\n",
       "      <td>False</td>\n",
       "      <td>...</td>\n",
       "      <td>0</td>\n",
       "      <td>0</td>\n",
       "      <td>0</td>\n",
       "      <td>0</td>\n",
       "      <td>0</td>\n",
       "      <td>0</td>\n",
       "      <td>0</td>\n",
       "      <td>0</td>\n",
       "      <td>1</td>\n",
       "      <td>0</td>\n",
       "    </tr>\n",
       "    <tr>\n",
       "      <th>2734886</th>\n",
       "      <td>1</td>\n",
       "      <td>36.045740</td>\n",
       "      <td>-86.674400</td>\n",
       "      <td>73.0</td>\n",
       "      <td>59.0</td>\n",
       "      <td>29.12</td>\n",
       "      <td>10.0</td>\n",
       "      <td>7.0</td>\n",
       "      <td>False</td>\n",
       "      <td>False</td>\n",
       "      <td>...</td>\n",
       "      <td>0</td>\n",
       "      <td>0</td>\n",
       "      <td>0</td>\n",
       "      <td>0</td>\n",
       "      <td>0</td>\n",
       "      <td>1</td>\n",
       "      <td>0</td>\n",
       "      <td>0</td>\n",
       "      <td>1</td>\n",
       "      <td>0</td>\n",
       "    </tr>\n",
       "    <tr>\n",
       "      <th>2890034</th>\n",
       "      <td>1</td>\n",
       "      <td>47.546500</td>\n",
       "      <td>-122.376410</td>\n",
       "      <td>60.0</td>\n",
       "      <td>55.0</td>\n",
       "      <td>30.17</td>\n",
       "      <td>10.0</td>\n",
       "      <td>0.0</td>\n",
       "      <td>False</td>\n",
       "      <td>False</td>\n",
       "      <td>...</td>\n",
       "      <td>0</td>\n",
       "      <td>0</td>\n",
       "      <td>0</td>\n",
       "      <td>0</td>\n",
       "      <td>0</td>\n",
       "      <td>0</td>\n",
       "      <td>0</td>\n",
       "      <td>0</td>\n",
       "      <td>1</td>\n",
       "      <td>0</td>\n",
       "    </tr>\n",
       "    <tr>\n",
       "      <th>2824945</th>\n",
       "      <td>1</td>\n",
       "      <td>37.363710</td>\n",
       "      <td>-121.898190</td>\n",
       "      <td>56.0</td>\n",
       "      <td>84.0</td>\n",
       "      <td>29.95</td>\n",
       "      <td>9.0</td>\n",
       "      <td>0.0</td>\n",
       "      <td>False</td>\n",
       "      <td>False</td>\n",
       "      <td>...</td>\n",
       "      <td>0</td>\n",
       "      <td>0</td>\n",
       "      <td>0</td>\n",
       "      <td>0</td>\n",
       "      <td>0</td>\n",
       "      <td>0</td>\n",
       "      <td>0</td>\n",
       "      <td>0</td>\n",
       "      <td>1</td>\n",
       "      <td>0</td>\n",
       "    </tr>\n",
       "    <tr>\n",
       "      <th>2860343</th>\n",
       "      <td>1</td>\n",
       "      <td>28.300760</td>\n",
       "      <td>-81.575290</td>\n",
       "      <td>72.0</td>\n",
       "      <td>97.0</td>\n",
       "      <td>29.78</td>\n",
       "      <td>10.0</td>\n",
       "      <td>6.0</td>\n",
       "      <td>False</td>\n",
       "      <td>False</td>\n",
       "      <td>...</td>\n",
       "      <td>0</td>\n",
       "      <td>0</td>\n",
       "      <td>0</td>\n",
       "      <td>0</td>\n",
       "      <td>0</td>\n",
       "      <td>1</td>\n",
       "      <td>0</td>\n",
       "      <td>0</td>\n",
       "      <td>1</td>\n",
       "      <td>0</td>\n",
       "    </tr>\n",
       "    <tr>\n",
       "      <th>...</th>\n",
       "      <td>...</td>\n",
       "      <td>...</td>\n",
       "      <td>...</td>\n",
       "      <td>...</td>\n",
       "      <td>...</td>\n",
       "      <td>...</td>\n",
       "      <td>...</td>\n",
       "      <td>...</td>\n",
       "      <td>...</td>\n",
       "      <td>...</td>\n",
       "      <td>...</td>\n",
       "      <td>...</td>\n",
       "      <td>...</td>\n",
       "      <td>...</td>\n",
       "      <td>...</td>\n",
       "      <td>...</td>\n",
       "      <td>...</td>\n",
       "      <td>...</td>\n",
       "      <td>...</td>\n",
       "      <td>...</td>\n",
       "      <td>...</td>\n",
       "    </tr>\n",
       "    <tr>\n",
       "      <th>3365561</th>\n",
       "      <td>4</td>\n",
       "      <td>39.589046</td>\n",
       "      <td>-78.838606</td>\n",
       "      <td>62.6</td>\n",
       "      <td>88.0</td>\n",
       "      <td>30.12</td>\n",
       "      <td>10.0</td>\n",
       "      <td>7.0</td>\n",
       "      <td>False</td>\n",
       "      <td>False</td>\n",
       "      <td>...</td>\n",
       "      <td>0</td>\n",
       "      <td>0</td>\n",
       "      <td>0</td>\n",
       "      <td>0</td>\n",
       "      <td>0</td>\n",
       "      <td>0</td>\n",
       "      <td>0</td>\n",
       "      <td>0</td>\n",
       "      <td>0</td>\n",
       "      <td>1</td>\n",
       "    </tr>\n",
       "    <tr>\n",
       "      <th>2498312</th>\n",
       "      <td>4</td>\n",
       "      <td>39.602577</td>\n",
       "      <td>-76.998620</td>\n",
       "      <td>37.4</td>\n",
       "      <td>70.0</td>\n",
       "      <td>30.26</td>\n",
       "      <td>10.0</td>\n",
       "      <td>7.0</td>\n",
       "      <td>False</td>\n",
       "      <td>False</td>\n",
       "      <td>...</td>\n",
       "      <td>0</td>\n",
       "      <td>0</td>\n",
       "      <td>0</td>\n",
       "      <td>0</td>\n",
       "      <td>0</td>\n",
       "      <td>0</td>\n",
       "      <td>0</td>\n",
       "      <td>0</td>\n",
       "      <td>0</td>\n",
       "      <td>1</td>\n",
       "    </tr>\n",
       "    <tr>\n",
       "      <th>2482000</th>\n",
       "      <td>4</td>\n",
       "      <td>43.957079</td>\n",
       "      <td>-70.561316</td>\n",
       "      <td>32.0</td>\n",
       "      <td>48.0</td>\n",
       "      <td>30.18</td>\n",
       "      <td>10.0</td>\n",
       "      <td>15.0</td>\n",
       "      <td>False</td>\n",
       "      <td>False</td>\n",
       "      <td>...</td>\n",
       "      <td>0</td>\n",
       "      <td>0</td>\n",
       "      <td>0</td>\n",
       "      <td>0</td>\n",
       "      <td>0</td>\n",
       "      <td>0</td>\n",
       "      <td>0</td>\n",
       "      <td>0</td>\n",
       "      <td>0</td>\n",
       "      <td>1</td>\n",
       "    </tr>\n",
       "    <tr>\n",
       "      <th>2596260</th>\n",
       "      <td>4</td>\n",
       "      <td>30.236345</td>\n",
       "      <td>-93.219636</td>\n",
       "      <td>59.0</td>\n",
       "      <td>100.0</td>\n",
       "      <td>29.99</td>\n",
       "      <td>10.0</td>\n",
       "      <td>8.1</td>\n",
       "      <td>False</td>\n",
       "      <td>False</td>\n",
       "      <td>...</td>\n",
       "      <td>0</td>\n",
       "      <td>0</td>\n",
       "      <td>0</td>\n",
       "      <td>0</td>\n",
       "      <td>0</td>\n",
       "      <td>0</td>\n",
       "      <td>0</td>\n",
       "      <td>0</td>\n",
       "      <td>0</td>\n",
       "      <td>1</td>\n",
       "    </tr>\n",
       "    <tr>\n",
       "      <th>3203391</th>\n",
       "      <td>4</td>\n",
       "      <td>30.013350</td>\n",
       "      <td>-90.013380</td>\n",
       "      <td>77.0</td>\n",
       "      <td>94.0</td>\n",
       "      <td>30.03</td>\n",
       "      <td>8.0</td>\n",
       "      <td>4.6</td>\n",
       "      <td>False</td>\n",
       "      <td>False</td>\n",
       "      <td>...</td>\n",
       "      <td>0</td>\n",
       "      <td>0</td>\n",
       "      <td>0</td>\n",
       "      <td>0</td>\n",
       "      <td>0</td>\n",
       "      <td>0</td>\n",
       "      <td>0</td>\n",
       "      <td>0</td>\n",
       "      <td>0</td>\n",
       "      <td>1</td>\n",
       "    </tr>\n",
       "  </tbody>\n",
       "</table>\n",
       "<p>200000 rows × 161 columns</p>\n",
       "</div>"
      ],
      "text/plain": [
       "         Severity  Start_Lat   Start_Lng  Temperature(F)  Humidity(%)  \\\n",
       "2829025         1  41.471470  -81.882360            41.0         73.0   \n",
       "2734886         1  36.045740  -86.674400            73.0         59.0   \n",
       "2890034         1  47.546500 -122.376410            60.0         55.0   \n",
       "2824945         1  37.363710 -121.898190            56.0         84.0   \n",
       "2860343         1  28.300760  -81.575290            72.0         97.0   \n",
       "...           ...        ...         ...             ...          ...   \n",
       "3365561         4  39.589046  -78.838606            62.6         88.0   \n",
       "2498312         4  39.602577  -76.998620            37.4         70.0   \n",
       "2482000         4  43.957079  -70.561316            32.0         48.0   \n",
       "2596260         4  30.236345  -93.219636            59.0        100.0   \n",
       "3203391         4  30.013350  -90.013380            77.0         94.0   \n",
       "\n",
       "         Pressure(in)  Visibility(mi)  Wind_Speed(mph)  Amenity   Bump  ...  \\\n",
       "2829025         29.24            10.0             17.0    False  False  ...   \n",
       "2734886         29.12            10.0              7.0    False  False  ...   \n",
       "2890034         30.17            10.0              0.0    False  False  ...   \n",
       "2824945         29.95             9.0              0.0    False  False  ...   \n",
       "2860343         29.78            10.0              6.0    False  False  ...   \n",
       "...               ...             ...              ...      ...    ...  ...   \n",
       "3365561         30.12            10.0              7.0    False  False  ...   \n",
       "2498312         30.26            10.0              7.0    False  False  ...   \n",
       "2482000         30.18            10.0             15.0    False  False  ...   \n",
       "2596260         29.99            10.0              8.1    False  False  ...   \n",
       "3203391         30.03             8.0              4.6    False  False  ...   \n",
       "\n",
       "         Wind_Direction_SE  Wind_Direction_SSE  Wind_Direction_SSW  \\\n",
       "2829025                  0                   0                   0   \n",
       "2734886                  0                   0                   0   \n",
       "2890034                  0                   0                   0   \n",
       "2824945                  0                   0                   0   \n",
       "2860343                  0                   0                   0   \n",
       "...                    ...                 ...                 ...   \n",
       "3365561                  0                   0                   0   \n",
       "2498312                  0                   0                   0   \n",
       "2482000                  0                   0                   0   \n",
       "2596260                  0                   0                   0   \n",
       "3203391                  0                   0                   0   \n",
       "\n",
       "         Wind_Direction_SW  Wind_Direction_VAR  Wind_Direction_W  \\\n",
       "2829025                  0                   0                 0   \n",
       "2734886                  0                   0                 1   \n",
       "2890034                  0                   0                 0   \n",
       "2824945                  0                   0                 0   \n",
       "2860343                  0                   0                 1   \n",
       "...                    ...                 ...               ...   \n",
       "3365561                  0                   0                 0   \n",
       "2498312                  0                   0                 0   \n",
       "2482000                  0                   0                 0   \n",
       "2596260                  0                   0                 0   \n",
       "3203391                  0                   0                 0   \n",
       "\n",
       "         Wind_Direction_WNW  Wind_Direction_WSW  Sunrise_Sunset_Day  \\\n",
       "2829025                   0                   0                   1   \n",
       "2734886                   0                   0                   1   \n",
       "2890034                   0                   0                   1   \n",
       "2824945                   0                   0                   1   \n",
       "2860343                   0                   0                   1   \n",
       "...                     ...                 ...                 ...   \n",
       "3365561                   0                   0                   0   \n",
       "2498312                   0                   0                   0   \n",
       "2482000                   0                   0                   0   \n",
       "2596260                   0                   0                   0   \n",
       "3203391                   0                   0                   0   \n",
       "\n",
       "         Sunrise_Sunset_Night  \n",
       "2829025                     0  \n",
       "2734886                     0  \n",
       "2890034                     0  \n",
       "2824945                     0  \n",
       "2860343                     0  \n",
       "...                       ...  \n",
       "3365561                     1  \n",
       "2498312                     1  \n",
       "2482000                     1  \n",
       "2596260                     1  \n",
       "3203391                     1  \n",
       "\n",
       "[200000 rows x 161 columns]"
      ]
     },
     "execution_count": 6,
     "metadata": {},
     "output_type": "execute_result"
    }
   ],
   "source": [
    "#define random state for replicability\n",
    "my_random_state = 4\n",
    "#take 50000 datapoints of each severity in order for the data to be balanced.\n",
    "df_sampled = pd.concat([df[df['Severity']==1].sample(50000, replace = True, random_state=my_random_state),\n",
    "                        df[df['Severity']==2].sample(50000, random_state=my_random_state),\n",
    "                        df[df['Severity']==3].sample(50000, random_state=my_random_state),\n",
    "                       df[df['Severity']==4].sample(50000, random_state=my_random_state)],\n",
    "                       axis=0)\n",
    "\n",
    "df_sampled"
   ]
  },
  {
   "cell_type": "code",
   "execution_count": 7,
   "metadata": {},
   "outputs": [
    {
     "data": {
      "image/png": "[encoded data removed]",
      "text/plain": [
       "<Figure size 432x288 with 1 Axes>"
      ]
     },
     "metadata": {
      "needs_background": "light"
     },
     "output_type": "display_data"
    }
   ],
   "source": [
    "#Plot sampled data\n",
    "\n",
    "fig, ax = plt.subplots()\n",
    "sns.countplot('Severity',data=df_sampled,ax=ax,order=df['Severity'].value_counts().index)\n",
    "ax.set_title('Count of Severity in Sampled Data:')\n",
    "plt.show()"
   ]
  },
  {
   "cell_type": "markdown",
   "metadata": {},
   "source": [
    "# Train Test Split"
   ]
  },
  {
   "cell_type": "code",
   "execution_count": 8,
   "metadata": {},
   "outputs": [],
   "source": [
    "# split X, y\n",
    "X = df_sampled.drop('Severity', axis=1)\n",
    "y = df_sampled['Severity']\n",
    "\n",
    "# Standardizing the features based on unit variance\n",
    "\n",
    "X = StandardScaler().fit_transform(X)\n",
    "\n",
    "# split train test\n",
    "\n",
    "X_train, X_test, y_train, y_test = train_test_split(X, y, test_size=0.15, random_state=my_random_state) #my_random_state is defined in the cell above!"
   ]
  },
  {
   "cell_type": "markdown",
   "metadata": {},
   "source": [
    "# Algorithms"
   ]
  },
  {
   "cell_type": "code",
   "execution_count": 9,
   "metadata": {},
   "outputs": [
    {
     "data": {
      "text/plain": [
       "(200000, 161)"
      ]
     },
     "execution_count": 9,
     "metadata": {},
     "output_type": "execute_result"
    }
   ],
   "source": [
    "#First look the number of datapoints in order to define the maximum iterations that will be allowed\n",
    "\n",
    "n_datapoints = df_sampled.shape[0]\n",
    "df_sampled.shape"
   ]
  },
  {
   "cell_type": "markdown",
   "metadata": {},
   "source": [
    "## Linear Support Vector Machine (Baseline performance)"
   ]
  },
  {
   "cell_type": "code",
   "execution_count": 10,
   "metadata": {},
   "outputs": [
    {
     "name": "stdout",
     "output_type": "stream",
     "text": [
      "[LibLinear]"
     ]
    },
    {
     "name": "stderr",
     "output_type": "stream",
     "text": [
      "/Users/pedro.roig.aparicio@ibm.com/opt/anaconda3/lib/python3.7/site-packages/sklearn/svm/_base.py:947: ConvergenceWarning: Liblinear failed to converge, increase the number of iterations.\n",
      "  \"the number of iterations.\", ConvergenceWarning)\n"
     ]
    },
    {
     "data": {
      "text/plain": [
       "LinearSVC(C=1.0, class_weight=None, dual=True, fit_intercept=True,\n",
       "          intercept_scaling=1, loss='squared_hinge', max_iter=1000,\n",
       "          multi_class='ovr', penalty='l2', random_state=None, tol=0.0001,\n",
       "          verbose=2)"
      ]
     },
     "execution_count": 10,
     "metadata": {},
     "output_type": "execute_result"
    }
   ],
   "source": [
    "# Support Vector Machine\n",
    "\n",
    "lin_clf = svm.LinearSVC(verbose=2)\n",
    "lin_clf.fit(X_train, y_train)"
   ]
  },
  {
   "cell_type": "code",
   "execution_count": 11,
   "metadata": {},
   "outputs": [
    {
     "name": "stdout",
     "output_type": "stream",
     "text": [
      "Linear SVM Accuracy:\n",
      "********************\n",
      "Train Accuracy: 66.1%\n",
      "Test Accuracy: 65.7%\n"
     ]
    }
   ],
   "source": [
    "#Print Accuracy of the model\n",
    "print('Linear SVM Accuracy:')\n",
    "print('*'*20)\n",
    "accuracy_train_lin = lin_clf.score(X_train, y_train)\n",
    "print(\"Train Accuracy: %.1f%%\"% (accuracy_train_lin*100))\n",
    "accuracy_test_lin = lin_clf.score(X_test, y_test)\n",
    "print(\"Test Accuracy: %.1f%%\"% (accuracy_test_lin*100))"
   ]
  },
  {
   "cell_type": "code",
   "execution_count": 12,
   "metadata": {},
   "outputs": [
    {
     "data": {
      "text/plain": [
       "array([[[20506,  2028],\n",
       "        [  356,  7110]]])"
      ]
     },
     "metadata": {},
     "output_type": "display_data"
    },
    {
     "data": {
      "image/png": "[encoded data removed]",
      "text/plain": [
       "<Figure size 576x360 with 2 Axes>"
      ]
     },
     "metadata": {
      "needs_background": "light"
     },
     "output_type": "display_data"
    }
   ],
   "source": [
    "y_pred = lin_clf.predict(X_test)\n",
    "\n",
    "confmat = multilabel_confusion_matrix(y_true=y_test, y_pred=y_pred, labels=[1])\n",
    "display(confmat)\n",
    "\n",
    "conf_matrix = pd.DataFrame(data=confmat[0], columns=['Predicted:0','Predicted:1'],index=['Actual:0','Actual:1'])\n",
    "plt.figure(figsize = (8,5))\n",
    "sns.heatmap(conf_matrix, annot=True, fmt='d',cmap=\"YlGnBu\").set_title(\"Confusion Matrix (resampled data)\\n- Default Linear SVM\", fontsize=16)\n",
    "plt.show()"
   ]
  },
  {
   "cell_type": "markdown",
   "metadata": {},
   "source": [
    "As expected, the baseline model performs pretty poorly. It wasn't even able to converge. This of course happens due to the fact that the data is not linearly separable Eventhough, a <b>Test Accuracy</b> of <b>65.6%</b> is not bad, since randomly 25% accuracy would be achieved."
   ]
  },
  {
   "cell_type": "markdown",
   "metadata": {},
   "source": [
    "## Decision Tree"
   ]
  },
  {
   "cell_type": "markdown",
   "metadata": {},
   "source": [
    "Now I'll try out a Decision Tree."
   ]
  },
  {
   "cell_type": "code",
   "execution_count": 13,
   "metadata": {},
   "outputs": [
    {
     "name": "stdout",
     "output_type": "stream",
     "text": [
      "Fitting 3 folds for each of 15 candidates, totalling 45 fits\n",
      "[CV] max_features=None, min_samples_split=10 .........................\n"
     ]
    },
    {
     "name": "stderr",
     "output_type": "stream",
     "text": [
      "[Parallel(n_jobs=1)]: Using backend SequentialBackend with 1 concurrent workers.\n"
     ]
    },
    {
     "name": "stdout",
     "output_type": "stream",
     "text": [
      "[CV] .......... max_features=None, min_samples_split=10, total=   5.6s\n",
      "[CV] max_features=None, min_samples_split=10 .........................\n"
     ]
    },
    {
     "name": "stderr",
     "output_type": "stream",
     "text": [
      "[Parallel(n_jobs=1)]: Done   1 out of   1 | elapsed:    5.6s remaining:    0.0s\n"
     ]
    },
    {
     "name": "stdout",
     "output_type": "stream",
     "text": [
      "[CV] .......... max_features=None, min_samples_split=10, total=   5.9s\n",
      "[CV] max_features=None, min_samples_split=10 .........................\n",
      "[CV] .......... max_features=None, min_samples_split=10, total=   5.2s\n",
      "[CV] max_features=None, min_samples_split=20 .........................\n",
      "[CV] .......... max_features=None, min_samples_split=20, total=   5.4s\n",
      "[CV] max_features=None, min_samples_split=20 .........................\n",
      "[CV] .......... max_features=None, min_samples_split=20, total=   4.9s\n",
      "[CV] max_features=None, min_samples_split=20 .........................\n",
      "[CV] .......... max_features=None, min_samples_split=20, total=   5.1s\n",
      "[CV] max_features=None, min_samples_split=30 .........................\n",
      "[CV] .......... max_features=None, min_samples_split=30, total=   4.9s\n",
      "[CV] max_features=None, min_samples_split=30 .........................\n",
      "[CV] .......... max_features=None, min_samples_split=30, total=   4.7s\n",
      "[CV] max_features=None, min_samples_split=30 .........................\n",
      "[CV] .......... max_features=None, min_samples_split=30, total=   4.7s\n",
      "[CV] max_features=None, min_samples_split=40 .........................\n",
      "[CV] .......... max_features=None, min_samples_split=40, total=   4.6s\n",
      "[CV] max_features=None, min_samples_split=40 .........................\n",
      "[CV] .......... max_features=None, min_samples_split=40, total=   4.7s\n",
      "[CV] max_features=None, min_samples_split=40 .........................\n",
      "[CV] .......... max_features=None, min_samples_split=40, total=   4.7s\n",
      "[CV] max_features=None, min_samples_split=50 .........................\n",
      "[CV] .......... max_features=None, min_samples_split=50, total=   4.7s\n",
      "[CV] max_features=None, min_samples_split=50 .........................\n",
      "[CV] .......... max_features=None, min_samples_split=50, total=   4.7s\n",
      "[CV] max_features=None, min_samples_split=50 .........................\n",
      "[CV] .......... max_features=None, min_samples_split=50, total=   4.9s\n",
      "[CV] max_features=log2, min_samples_split=10 .........................\n",
      "[CV] .......... max_features=log2, min_samples_split=10, total=   0.4s\n",
      "[CV] max_features=log2, min_samples_split=10 .........................\n",
      "[CV] .......... max_features=log2, min_samples_split=10, total=   0.5s\n",
      "[CV] max_features=log2, min_samples_split=10 .........................\n",
      "[CV] .......... max_features=log2, min_samples_split=10, total=   0.6s\n",
      "[CV] max_features=log2, min_samples_split=20 .........................\n",
      "[CV] .......... max_features=log2, min_samples_split=20, total=   0.6s\n",
      "[CV] max_features=log2, min_samples_split=20 .........................\n",
      "[CV] .......... max_features=log2, min_samples_split=20, total=   0.6s\n",
      "[CV] max_features=log2, min_samples_split=20 .........................\n",
      "[CV] .......... max_features=log2, min_samples_split=20, total=   0.5s\n",
      "[CV] max_features=log2, min_samples_split=30 .........................\n",
      "[CV] .......... max_features=log2, min_samples_split=30, total=   0.7s\n",
      "[CV] max_features=log2, min_samples_split=30 .........................\n",
      "[CV] .......... max_features=log2, min_samples_split=30, total=   0.6s\n",
      "[CV] max_features=log2, min_samples_split=30 .........................\n",
      "[CV] .......... max_features=log2, min_samples_split=30, total=   0.5s\n",
      "[CV] max_features=log2, min_samples_split=40 .........................\n",
      "[CV] .......... max_features=log2, min_samples_split=40, total=   0.4s\n",
      "[CV] max_features=log2, min_samples_split=40 .........................\n",
      "[CV] .......... max_features=log2, min_samples_split=40, total=   0.5s\n",
      "[CV] max_features=log2, min_samples_split=40 .........................\n",
      "[CV] .......... max_features=log2, min_samples_split=40, total=   0.4s\n",
      "[CV] max_features=log2, min_samples_split=50 .........................\n",
      "[CV] .......... max_features=log2, min_samples_split=50, total=   0.4s\n",
      "[CV] max_features=log2, min_samples_split=50 .........................\n",
      "[CV] .......... max_features=log2, min_samples_split=50, total=   0.5s\n",
      "[CV] max_features=log2, min_samples_split=50 .........................\n",
      "[CV] .......... max_features=log2, min_samples_split=50, total=   0.6s\n",
      "[CV] max_features=sqrt, min_samples_split=10 .........................\n",
      "[CV] .......... max_features=sqrt, min_samples_split=10, total=   0.7s\n",
      "[CV] max_features=sqrt, min_samples_split=10 .........................\n",
      "[CV] .......... max_features=sqrt, min_samples_split=10, total=   0.7s\n",
      "[CV] max_features=sqrt, min_samples_split=10 .........................\n",
      "[CV] .......... max_features=sqrt, min_samples_split=10, total=   0.7s\n",
      "[CV] max_features=sqrt, min_samples_split=20 .........................\n",
      "[CV] .......... max_features=sqrt, min_samples_split=20, total=   0.7s\n",
      "[CV] max_features=sqrt, min_samples_split=20 .........................\n",
      "[CV] .......... max_features=sqrt, min_samples_split=20, total=   0.7s\n",
      "[CV] max_features=sqrt, min_samples_split=20 .........................\n",
      "[CV] .......... max_features=sqrt, min_samples_split=20, total=   1.0s\n",
      "[CV] max_features=sqrt, min_samples_split=30 .........................\n",
      "[CV] .......... max_features=sqrt, min_samples_split=30, total=   1.2s\n",
      "[CV] max_features=sqrt, min_samples_split=30 .........................\n",
      "[CV] .......... max_features=sqrt, min_samples_split=30, total=   1.4s\n",
      "[CV] max_features=sqrt, min_samples_split=30 .........................\n",
      "[CV] .......... max_features=sqrt, min_samples_split=30, total=   1.2s\n",
      "[CV] max_features=sqrt, min_samples_split=40 .........................\n",
      "[CV] .......... max_features=sqrt, min_samples_split=40, total=   0.8s\n",
      "[CV] max_features=sqrt, min_samples_split=40 .........................\n",
      "[CV] .......... max_features=sqrt, min_samples_split=40, total=   0.7s\n",
      "[CV] max_features=sqrt, min_samples_split=40 .........................\n",
      "[CV] .......... max_features=sqrt, min_samples_split=40, total=   0.7s\n",
      "[CV] max_features=sqrt, min_samples_split=50 .........................\n",
      "[CV] .......... max_features=sqrt, min_samples_split=50, total=   0.6s\n",
      "[CV] max_features=sqrt, min_samples_split=50 .........................\n",
      "[CV] .......... max_features=sqrt, min_samples_split=50, total=   0.6s\n",
      "[CV] max_features=sqrt, min_samples_split=50 .........................\n",
      "[CV] .......... max_features=sqrt, min_samples_split=50, total=   0.7s\n"
     ]
    },
    {
     "name": "stderr",
     "output_type": "stream",
     "text": [
      "[Parallel(n_jobs=1)]: Done  45 out of  45 | elapsed:  1.6min finished\n"
     ]
    },
    {
     "data": {
      "text/plain": [
       "GridSearchCV(cv=3, error_score=nan,\n",
       "             estimator=DecisionTreeClassifier(ccp_alpha=0.0, class_weight=None,\n",
       "                                              criterion='gini', max_depth=None,\n",
       "                                              max_features=None,\n",
       "                                              max_leaf_nodes=None,\n",
       "                                              min_impurity_decrease=0.0,\n",
       "                                              min_impurity_split=None,\n",
       "                                              min_samples_leaf=1,\n",
       "                                              min_samples_split=2,\n",
       "                                              min_weight_fraction_leaf=0.0,\n",
       "                                              presort='deprecated',\n",
       "                                              random_state=4, splitter='best'),\n",
       "             iid='deprecated', n_jobs=None,\n",
       "             param_grid={'max_features': [None, 'log2', 'sqrt'],\n",
       "                         'min_samples_split': [10, 20, 30, 40, 50]},\n",
       "             pre_dispatch='2*n_jobs', refit=True, return_train_score=False,\n",
       "             scoring=None, verbose=2)"
      ]
     },
     "execution_count": 13,
     "metadata": {},
     "output_type": "execute_result"
    }
   ],
   "source": [
    "DT_grid = { 'min_samples_split': [10,20,30,40,50],'max_features': [None, 'log2', 'sqrt']}\n",
    "\n",
    "CV_DT = GridSearchCV(DecisionTreeClassifier(random_state=my_random_state), DT_grid, verbose=2, cv=3) #my_random_state is defined in a cell above!\n",
    "\n",
    "CV_DT.fit(X_train, y_train)"
   ]
  },
  {
   "cell_type": "code",
   "execution_count": 14,
   "metadata": {},
   "outputs": [
    {
     "name": "stdout",
     "output_type": "stream",
     "text": [
      "Best Parameters:  {'max_features': None, 'min_samples_split': 50}\n"
     ]
    }
   ],
   "source": [
    "print('Best Parameters: ', CV_DT.best_params_)"
   ]
  },
  {
   "cell_type": "code",
   "execution_count": 15,
   "metadata": {},
   "outputs": [
    {
     "name": "stdout",
     "output_type": "stream",
     "text": [
      "Train Accuracy: 80.4%\n",
      "Test Accuracy: 70.3%\n"
     ]
    }
   ],
   "source": [
    "#Use best parameters to check Test Accuracy\n",
    "tree_clf = DecisionTreeClassifier(min_samples_split = CV_DT.best_params_['min_samples_split'])\n",
    "tree_clf = tree_clf.fit(X_train,y_train)\n",
    "\n",
    "#Print Train and Test Accuracy\n",
    "tree_accuracy_train = tree_clf.score(X_train, y_train)\n",
    "print(\"Train Accuracy: %.1f%%\"% (tree_accuracy_train*100))\n",
    "tree_accuracy_test = tree_clf.score(X_test,y_test)\n",
    "print(\"Test Accuracy: %.1f%%\"% (tree_accuracy_test*100))"
   ]
  },
  {
   "cell_type": "code",
   "execution_count": 16,
   "metadata": {},
   "outputs": [
    {
     "data": {
      "image/png": "[encoded data removed]",
      "text/plain": [
       "<Figure size 576x360 with 2 Axes>"
      ]
     },
     "metadata": {
      "needs_background": "light"
     },
     "output_type": "display_data"
    }
   ],
   "source": [
    "# Confusion Matrix\n",
    "prediction = tree_clf.predict(X_test)\n",
    "\n",
    "confmat = multilabel_confusion_matrix(y_true=y_test, y_pred=prediction)\n",
    "\n",
    "conf_matrix = pd.DataFrame(data=confmat[0],columns=['Predicted:0','Predicted:1'],index=['Actual:0','Actual:1'])\n",
    "plt.figure(figsize = (8,5))\n",
    "sns.heatmap(conf_matrix, annot=True,fmt='d',cmap=\"YlGnBu\").set_title(\"Confusion Matrix (resampled data)\\n Decision Tree\", fontsize=16)\n",
    "plt.show()"
   ]
  },
  {
   "cell_type": "markdown",
   "metadata": {},
   "source": [
    "There is a big gap between Train and Test Accuracy. When the model performs good predicting in the training set and underperforms when predicting in the test set, we call it <b>overfitting the training set</b>. This can be dealt with by regularizing, so the next I'll try is <b>Random Forest</b>-model, which is a 'regularized version' of the decision tree."
   ]
  },
  {
   "cell_type": "code",
   "execution_count": 17,
   "metadata": {},
   "outputs": [
    {
     "data": {
      "image/png": "[encoded data removed]",
      "text/plain": [
       "<Figure size 720x720 with 1 Axes>"
      ]
     },
     "metadata": {
      "needs_background": "light"
     },
     "output_type": "display_data"
    }
   ],
   "source": [
    "#Feature importance\n",
    "\n",
    "importances = pd.DataFrame(np.zeros((X_train.shape[1], 1)), columns=['importance'], index=df.drop('Severity',axis=1).columns)\n",
    "\n",
    "importances.iloc[:,0] = tree_clf.feature_importances_\n",
    "\n",
    "importances.sort_values(by='importance', inplace=True, ascending=False)\n",
    "importances30 = importances.head(30)\n",
    "\n",
    "plt.figure(figsize=(10, 10))\n",
    "sns.barplot(x='importance', y=importances30.index, data=importances30)\n",
    "\n",
    "plt.xlabel('')\n",
    "plt.tick_params(axis='x', labelsize=10)\n",
    "plt.tick_params(axis='y', labelsize=10)\n",
    "plt.title('Decision Tree Classifier Feature Importance', size=15)\n",
    "\n",
    "plt.show()"
   ]
  },
  {
   "cell_type": "markdown",
   "metadata": {},
   "source": [
    "## Random Forest"
   ]
  },
  {
   "cell_type": "markdown",
   "metadata": {},
   "source": [
    "A Random Forest are many Decision Trees initialized at random and mergeded with their corresponding weight. Like that, one could say Random Forest gets rid of the overfit a Decision Tree could have."
   ]
  },
  {
   "cell_type": "code",
   "execution_count": 18,
   "metadata": {},
   "outputs": [
    {
     "name": "stdout",
     "output_type": "stream",
     "text": [
      "Fitting 4 folds for each of 9 candidates, totalling 36 fits\n",
      "[CV] max_depth=20, n_estimators=30 ...................................\n"
     ]
    },
    {
     "name": "stderr",
     "output_type": "stream",
     "text": [
      "[Parallel(n_jobs=1)]: Using backend SequentialBackend with 1 concurrent workers.\n"
     ]
    },
    {
     "name": "stdout",
     "output_type": "stream",
     "text": [
      "[CV] .................... max_depth=20, n_estimators=30, total= 1.5min\n",
      "[CV] max_depth=20, n_estimators=30 ...................................\n"
     ]
    },
    {
     "name": "stderr",
     "output_type": "stream",
     "text": [
      "[Parallel(n_jobs=1)]: Done   1 out of   1 | elapsed:  1.5min remaining:    0.0s\n"
     ]
    },
    {
     "name": "stdout",
     "output_type": "stream",
     "text": [
      "[CV] .................... max_depth=20, n_estimators=30, total= 1.4min\n",
      "[CV] max_depth=20, n_estimators=30 ...................................\n",
      "[CV] .................... max_depth=20, n_estimators=30, total= 1.4min\n",
      "[CV] max_depth=20, n_estimators=30 ...................................\n",
      "[CV] .................... max_depth=20, n_estimators=30, total= 1.5min\n",
      "[CV] max_depth=20, n_estimators=40 ...................................\n",
      "[CV] .................... max_depth=20, n_estimators=40, total= 2.0min\n",
      "[CV] max_depth=20, n_estimators=40 ...................................\n",
      "[CV] .................... max_depth=20, n_estimators=40, total= 1.9min\n",
      "[CV] max_depth=20, n_estimators=40 ...................................\n",
      "[CV] .................... max_depth=20, n_estimators=40, total= 1.9min\n",
      "[CV] max_depth=20, n_estimators=40 ...................................\n",
      "[CV] .................... max_depth=20, n_estimators=40, total= 1.9min\n",
      "[CV] max_depth=20, n_estimators=50 ...................................\n",
      "[CV] .................... max_depth=20, n_estimators=50, total= 2.4min\n",
      "[CV] max_depth=20, n_estimators=50 ...................................\n",
      "[CV] .................... max_depth=20, n_estimators=50, total= 2.4min\n",
      "[CV] max_depth=20, n_estimators=50 ...................................\n",
      "[CV] .................... max_depth=20, n_estimators=50, total= 2.4min\n",
      "[CV] max_depth=20, n_estimators=50 ...................................\n",
      "[CV] .................... max_depth=20, n_estimators=50, total= 2.4min\n",
      "[CV] max_depth=30, n_estimators=30 ...................................\n",
      "[CV] .................... max_depth=30, n_estimators=30, total= 1.6min\n",
      "[CV] max_depth=30, n_estimators=30 ...................................\n",
      "[CV] .................... max_depth=30, n_estimators=30, total= 1.6min\n",
      "[CV] max_depth=30, n_estimators=30 ...................................\n",
      "[CV] .................... max_depth=30, n_estimators=30, total= 1.6min\n",
      "[CV] max_depth=30, n_estimators=30 ...................................\n",
      "[CV] .................... max_depth=30, n_estimators=30, total= 1.6min\n",
      "[CV] max_depth=30, n_estimators=40 ...................................\n",
      "[CV] .................... max_depth=30, n_estimators=40, total= 2.2min\n",
      "[CV] max_depth=30, n_estimators=40 ...................................\n",
      "[CV] .................... max_depth=30, n_estimators=40, total= 2.1min\n",
      "[CV] max_depth=30, n_estimators=40 ...................................\n",
      "[CV] .................... max_depth=30, n_estimators=40, total= 2.2min\n",
      "[CV] max_depth=30, n_estimators=40 ...................................\n",
      "[CV] .................... max_depth=30, n_estimators=40, total= 2.1min\n",
      "[CV] max_depth=30, n_estimators=50 ...................................\n",
      "[CV] .................... max_depth=30, n_estimators=50, total= 2.7min\n",
      "[CV] max_depth=30, n_estimators=50 ...................................\n",
      "[CV] .................... max_depth=30, n_estimators=50, total= 2.7min\n",
      "[CV] max_depth=30, n_estimators=50 ...................................\n",
      "[CV] .................... max_depth=30, n_estimators=50, total= 2.7min\n",
      "[CV] max_depth=30, n_estimators=50 ...................................\n",
      "[CV] .................... max_depth=30, n_estimators=50, total= 2.7min\n",
      "[CV] max_depth=40, n_estimators=30 ...................................\n",
      "[CV] .................... max_depth=40, n_estimators=30, total= 1.7min\n",
      "[CV] max_depth=40, n_estimators=30 ...................................\n",
      "[CV] .................... max_depth=40, n_estimators=30, total= 1.6min\n",
      "[CV] max_depth=40, n_estimators=30 ...................................\n",
      "[CV] .................... max_depth=40, n_estimators=30, total= 1.7min\n",
      "[CV] max_depth=40, n_estimators=30 ...................................\n",
      "[CV] .................... max_depth=40, n_estimators=30, total= 1.7min\n",
      "[CV] max_depth=40, n_estimators=40 ...................................\n",
      "[CV] .................... max_depth=40, n_estimators=40, total= 2.3min\n",
      "[CV] max_depth=40, n_estimators=40 ...................................\n",
      "[CV] .................... max_depth=40, n_estimators=40, total= 2.2min\n",
      "[CV] max_depth=40, n_estimators=40 ...................................\n",
      "[CV] .................... max_depth=40, n_estimators=40, total= 2.6min\n",
      "[CV] max_depth=40, n_estimators=40 ...................................\n",
      "[CV] .................... max_depth=40, n_estimators=40, total= 2.2min\n",
      "[CV] max_depth=40, n_estimators=50 ...................................\n",
      "[CV] .................... max_depth=40, n_estimators=50, total= 2.9min\n",
      "[CV] max_depth=40, n_estimators=50 ...................................\n",
      "[CV] .................... max_depth=40, n_estimators=50, total= 3.0min\n",
      "[CV] max_depth=40, n_estimators=50 ...................................\n",
      "[CV] .................... max_depth=40, n_estimators=50, total= 2.8min\n",
      "[CV] max_depth=40, n_estimators=50 ...................................\n",
      "[CV] .................... max_depth=40, n_estimators=50, total= 3.0min\n"
     ]
    },
    {
     "name": "stderr",
     "output_type": "stream",
     "text": [
      "[Parallel(n_jobs=1)]: Done  36 out of  36 | elapsed: 76.5min finished\n"
     ]
    },
    {
     "data": {
      "text/plain": [
       "GridSearchCV(cv=4, error_score=nan,\n",
       "             estimator=RandomForestRegressor(bootstrap=True, ccp_alpha=0.0,\n",
       "                                             criterion='mse', max_depth=None,\n",
       "                                             max_features='auto',\n",
       "                                             max_leaf_nodes=None,\n",
       "                                             max_samples=None,\n",
       "                                             min_impurity_decrease=0.0,\n",
       "                                             min_impurity_split=None,\n",
       "                                             min_samples_leaf=1,\n",
       "                                             min_samples_split=2,\n",
       "                                             min_weight_fraction_leaf=0.0,\n",
       "                                             n_estimators=100, n_jobs=None,\n",
       "                                             oob_score=False, random_state=None,\n",
       "                                             verbose=0, warm_start=False),\n",
       "             iid='deprecated', n_jobs=None,\n",
       "             param_grid={'max_depth': [20, 30, 40],\n",
       "                         'n_estimators': [30, 40, 50]},\n",
       "             pre_dispatch='2*n_jobs', refit=True, return_train_score=False,\n",
       "             scoring=None, verbose=2)"
      ]
     },
     "execution_count": 18,
     "metadata": {},
     "output_type": "execute_result"
    }
   ],
   "source": [
    "param_grid = { \n",
    "    'n_estimators'     : [30,40,50],\n",
    "    'max_depth'        : [20,30,40]\n",
    "}\n",
    "CV_clf = GridSearchCV(estimator=RandomForestRegressor(), param_grid=param_grid,cv=4,verbose=2)\n",
    "CV_clf.fit(X_train, y_train)"
   ]
  },
  {
   "cell_type": "code",
   "execution_count": 19,
   "metadata": {},
   "outputs": [
    {
     "name": "stdout",
     "output_type": "stream",
     "text": [
      "Best Parameters:  {'max_depth': 40, 'n_estimators': 50}\n"
     ]
    }
   ],
   "source": [
    "print('Best Parameters: ', CV_clf.best_params_)"
   ]
  },
  {
   "cell_type": "code",
   "execution_count": 20,
   "metadata": {},
   "outputs": [
    {
     "data": {
      "text/plain": [
       "RandomForestRegressor(bootstrap=True, ccp_alpha=0.0, criterion='mse',\n",
       "                      max_depth=40, max_features='auto', max_leaf_nodes=None,\n",
       "                      max_samples=None, min_impurity_decrease=0.0,\n",
       "                      min_impurity_split=None, min_samples_leaf=1,\n",
       "                      min_samples_split=2, min_weight_fraction_leaf=0.0,\n",
       "                      n_estimators=50, n_jobs=None, oob_score=False,\n",
       "                      random_state=None, verbose=0, warm_start=False)"
      ]
     },
     "execution_count": 20,
     "metadata": {},
     "output_type": "execute_result"
    }
   ],
   "source": [
    "rf_clf = RandomForestRegressor(max_depth=CV_clf.best_params_['max_depth'],n_estimators=CV_clf.best_params_['n_estimators'])\n",
    "rf_clf.fit(X_train,y_train)"
   ]
  },
  {
   "cell_type": "code",
   "execution_count": 21,
   "metadata": {},
   "outputs": [
    {
     "name": "stdout",
     "output_type": "stream",
     "text": [
      "Train Accuracy: 95.9%\n",
      "Test Accuracy: 71.8%\n"
     ]
    }
   ],
   "source": [
    "rf_accuracy_train = rf_clf.score(X_train, y_train)\n",
    "print(\"Train Accuracy: %.1f%%\"% (rf_accuracy_train*100))\n",
    "rf_accuracy_test = rf_clf.score(X_test,y_test)\n",
    "print(\"Test Accuracy: %.1f%%\"% (rf_accuracy_test*100))"
   ]
  },
  {
   "cell_type": "markdown",
   "metadata": {},
   "source": [
    "The performance of the Random Forest is better than the Decision Tree, but the model is still overfitting. Note that this model was training over 1 hour, so the extra time was not worth the improvement in accuracy."
   ]
  },
  {
   "cell_type": "code",
   "execution_count": 22,
   "metadata": {},
   "outputs": [
    {
     "data": {
      "image/png": "[encoded data removed]",
      "text/plain": [
       "<Figure size 576x360 with 2 Axes>"
      ]
     },
     "metadata": {
      "needs_background": "light"
     },
     "output_type": "display_data"
    }
   ],
   "source": [
    "# Confusion Matrix\n",
    "prediction = np.round(rf_clf.predict(X_test))\n",
    "\n",
    "confmat = multilabel_confusion_matrix(y_true=y_test, y_pred=prediction)\n",
    "\n",
    "conf_matrix = pd.DataFrame(data=confmat[0],columns=['Predicted:0','Predicted:1'],index=['Actual:0','Actual:1'])\n",
    "plt.figure(figsize = (8,5))\n",
    "sns.heatmap(conf_matrix, annot=True,fmt='d',cmap=\"YlGnBu\").set_title(\"Confusion Matrix (resampled data)\\n Decision Tree\", fontsize=16)\n",
    "plt.show()"
   ]
  },
  {
   "cell_type": "code",
   "execution_count": 23,
   "metadata": {},
   "outputs": [
    {
     "data": {
      "image/png": "[encoded data removed]",
      "text/plain": [
       "<Figure size 1080x720 with 1 Axes>"
      ]
     },
     "metadata": {
      "needs_background": "light"
     },
     "output_type": "display_data"
    }
   ],
   "source": [
    "importances = pd.DataFrame(np.zeros((X_train.shape[1], 1)), columns=['importance'], index=df.drop('Severity',axis=1).columns)\n",
    "\n",
    "importances.iloc[:,0] = rf_clf.feature_importances_\n",
    "\n",
    "importances.sort_values(by='importance', inplace=True, ascending=False)\n",
    "importances30 = importances.head(30)\n",
    "\n",
    "plt.figure(figsize=(15, 10))\n",
    "sns.barplot(x='importance', y=importances30.index, data=importances30)\n",
    "\n",
    "plt.xlabel('')\n",
    "plt.tick_params(axis='x', labelsize=10)\n",
    "plt.tick_params(axis='y', labelsize=10)\n",
    "plt.title('Random Forest Classifier Feature Importance', size=15)\n",
    "\n",
    "plt.show()"
   ]
  },
  {
   "cell_type": "markdown",
   "metadata": {},
   "source": [
    "It is weird that the most important feature to predict severity is the one-hot encoding of 'Year_2020'. This means that in 2020 the accidents have become very characteristic. Also, I'd like to point out the importance of Start_Lat and Start_Lng, since that means that location has a big importance for prediction."
   ]
  },
  {
   "cell_type": "markdown",
   "metadata": {},
   "source": [
    "## Neural Network"
   ]
  },
  {
   "cell_type": "markdown",
   "metadata": {},
   "source": [
    "For the NN to work, I need to first one-hot encode the y-labels!"
   ]
  },
  {
   "cell_type": "code",
   "execution_count": 24,
   "metadata": {},
   "outputs": [],
   "source": [
    "# One-hot encode the 4 severity levels!\n",
    "y_train_encoded = pd.get_dummies(y_train, drop_first=False)\n",
    "y_test_encoded = pd.get_dummies(y_test, drop_first=False)"
   ]
  },
  {
   "cell_type": "code",
   "execution_count": 31,
   "metadata": {},
   "outputs": [],
   "source": [
    "# Define the keras model\n",
    "\n",
    "model = Sequential()\n",
    "model.add(Dense(100, input_dim=160, activation='relu'))\n",
    "model.add(Dense(100, activation='relu'))\n",
    "model.add(Dense(4, activation='softmax'))"
   ]
  },
  {
   "cell_type": "code",
   "execution_count": 32,
   "metadata": {},
   "outputs": [],
   "source": [
    "# Compile the keras model\n",
    "\n",
    "model.compile(loss='categorical_crossentropy', optimizer='adam', metrics=['accuracy'])"
   ]
  },
  {
   "cell_type": "code",
   "execution_count": 33,
   "metadata": {},
   "outputs": [
    {
     "name": "stdout",
     "output_type": "stream",
     "text": [
      "Epoch 1/150\n",
      "5313/5313 [==============================] - 5s 982us/step - loss: 0.7966 - accuracy: 0.6756\n",
      "Epoch 2/150\n",
      "5313/5313 [==============================] - 5s 897us/step - loss: 0.7334 - accuracy: 0.7027\n",
      "Epoch 3/150\n",
      "5313/5313 [==============================] - 5s 882us/step - loss: 0.7107 - accuracy: 0.7126\n",
      "Epoch 4/150\n",
      "5313/5313 [==============================] - 5s 879us/step - loss: 0.6935 - accuracy: 0.7191\n",
      "Epoch 5/150\n",
      "5313/5313 [==============================] - 5s 859us/step - loss: 0.6797 - accuracy: 0.7237\n",
      "Epoch 6/150\n",
      "5313/5313 [==============================] - 4s 846us/step - loss: 0.6682 - accuracy: 0.7292\n",
      "Epoch 7/150\n",
      "5313/5313 [==============================] - 5s 862us/step - loss: 0.6585 - accuracy: 0.7330\n",
      "Epoch 8/150\n",
      "5313/5313 [==============================] - 5s 850us/step - loss: 0.6493 - accuracy: 0.7359\n",
      "Epoch 9/150\n",
      "5313/5313 [==============================] - 5s 892us/step - loss: 0.6416 - accuracy: 0.7392\n",
      "Epoch 10/150\n",
      "5313/5313 [==============================] - 5s 859us/step - loss: 0.6343 - accuracy: 0.7415\n",
      "Epoch 11/150\n",
      "5313/5313 [==============================] - 5s 868us/step - loss: 0.6284 - accuracy: 0.7440\n",
      "Epoch 12/150\n",
      "5313/5313 [==============================] - 5s 868us/step - loss: 0.6218 - accuracy: 0.7462\n",
      "Epoch 13/150\n",
      "5313/5313 [==============================] - 5s 885us/step - loss: 0.6180 - accuracy: 0.7481\n",
      "Epoch 14/150\n",
      "5313/5313 [==============================] - 5s 904us/step - loss: 0.6115 - accuracy: 0.7505\n",
      "Epoch 15/150\n",
      "5313/5313 [==============================] - 5s 1ms/step - loss: 0.6077 - accuracy: 0.7509\n",
      "Epoch 16/150\n",
      "5313/5313 [==============================] - 5s 902us/step - loss: 0.6035 - accuracy: 0.7532\n",
      "Epoch 17/150\n",
      "5313/5313 [==============================] - 5s 890us/step - loss: 0.5999 - accuracy: 0.7553\n",
      "Epoch 18/150\n",
      "5313/5313 [==============================] - 5s 973us/step - loss: 0.5960 - accuracy: 0.7567\n",
      "Epoch 19/150\n",
      "5313/5313 [==============================] - 5s 875us/step - loss: 0.5922 - accuracy: 0.7569\n",
      "Epoch 20/150\n",
      "5313/5313 [==============================] - 5s 997us/step - loss: 0.5895 - accuracy: 0.7581\n",
      "Epoch 21/150\n",
      "5313/5313 [==============================] - 5s 961us/step - loss: 0.5872 - accuracy: 0.7594\n",
      "Epoch 22/150\n",
      "5313/5313 [==============================] - 5s 893us/step - loss: 0.5841 - accuracy: 0.7595\n",
      "Epoch 23/150\n",
      "5313/5313 [==============================] - 5s 897us/step - loss: 0.5817 - accuracy: 0.7609\n",
      "Epoch 24/150\n",
      "5313/5313 [==============================] - 5s 956us/step - loss: 0.5786 - accuracy: 0.76160s - loss: 0\n",
      "Epoch 25/150\n",
      "5313/5313 [==============================] - 5s 893us/step - loss: 0.5772 - accuracy: 0.7619\n",
      "Epoch 26/150\n",
      "5313/5313 [==============================] - 5s 891us/step - loss: 0.5739 - accuracy: 0.7638\n",
      "Epoch 27/150\n",
      "5313/5313 [==============================] - 5s 912us/step - loss: 0.5729 - accuracy: 0.7635\n",
      "Epoch 28/150\n",
      "5313/5313 [==============================] - 5s 920us/step - loss: 0.5704 - accuracy: 0.7649\n",
      "Epoch 29/150\n",
      "5313/5313 [==============================] - 5s 961us/step - loss: 0.5688 - accuracy: 0.7661\n",
      "Epoch 30/150\n",
      "5313/5313 [==============================] - 5s 898us/step - loss: 0.5664 - accuracy: 0.7664\n",
      "Epoch 31/150\n",
      "5313/5313 [==============================] - 5s 928us/step - loss: 0.5655 - accuracy: 0.7668\n",
      "Epoch 32/150\n",
      "5313/5313 [==============================] - 5s 929us/step - loss: 0.5633 - accuracy: 0.7679\n",
      "Epoch 33/150\n",
      "5313/5313 [==============================] - 5s 928us/step - loss: 0.5618 - accuracy: 0.7686\n",
      "Epoch 34/150\n",
      "5313/5313 [==============================] - 5s 918us/step - loss: 0.5601 - accuracy: 0.7697\n",
      "Epoch 35/150\n",
      "5313/5313 [==============================] - 5s 899us/step - loss: 0.5581 - accuracy: 0.7704\n",
      "Epoch 36/150\n",
      "5313/5313 [==============================] - 5s 888us/step - loss: 0.5578 - accuracy: 0.7704\n",
      "Epoch 37/150\n",
      "5313/5313 [==============================] - 5s 910us/step - loss: 0.5563 - accuracy: 0.77050s - loss: 0.5561 - ac\n",
      "Epoch 38/150\n",
      "5313/5313 [==============================] - 5s 924us/step - loss: 0.5540 - accuracy: 0.7710\n",
      "Epoch 39/150\n",
      "5313/5313 [==============================] - 5s 905us/step - loss: 0.5534 - accuracy: 0.7725\n",
      "Epoch 40/150\n",
      "5313/5313 [==============================] - 5s 927us/step - loss: 0.5522 - accuracy: 0.77210s\n",
      "Epoch 41/150\n",
      "5313/5313 [==============================] - 5s 922us/step - loss: 0.5500 - accuracy: 0.7726\n",
      "Epoch 42/150\n",
      "5313/5313 [==============================] - 5s 951us/step - loss: 0.5492 - accuracy: 0.7736\n",
      "Epoch 43/150\n",
      "5313/5313 [==============================] - 5s 1000us/step - loss: 0.5496 - accuracy: 0.7751\n",
      "Epoch 44/150\n",
      "5313/5313 [==============================] - 6s 1ms/step - loss: 0.5467 - accuracy: 0.7746: 1s - loss: 0.5441 - ac\n",
      "Epoch 45/150\n",
      "5313/5313 [==============================] - 5s 1ms/step - loss: 0.5463 - accuracy: 0.7754: 0s - l\n",
      "Epoch 46/150\n",
      "5313/5313 [==============================] - 5s 958us/step - loss: 0.5455 - accuracy: 0.7743\n",
      "Epoch 47/150\n",
      "5313/5313 [==============================] - 5s 906us/step - loss: 0.5444 - accuracy: 0.7745\n",
      "Epoch 48/150\n",
      "5313/5313 [==============================] - 5s 967us/step - loss: 0.5439 - accuracy: 0.7753\n",
      "Epoch 49/150\n",
      "5313/5313 [==============================] - 6s 1ms/step - loss: 0.5424 - accuracy: 0.7757\n",
      "Epoch 50/150\n",
      "5313/5313 [==============================] - 5s 939us/step - loss: 0.5415 - accuracy: 0.7762\n",
      "Epoch 51/150\n",
      "5313/5313 [==============================] - 5s 947us/step - loss: 0.5402 - accuracy: 0.7769\n",
      "Epoch 52/150\n",
      "5313/5313 [==============================] - 5s 955us/step - loss: 0.5400 - accuracy: 0.77700s - loss: 0.5384 -  - ETA: 0s - loss: 0.5391 - accura\n",
      "Epoch 53/150\n",
      "5313/5313 [==============================] - 5s 961us/step - loss: 0.5386 - accuracy: 0.7762\n",
      "Epoch 54/150\n",
      "5313/5313 [==============================] - 5s 936us/step - loss: 0.5374 - accuracy: 0.77760s - loss: 0.5360 - accura\n",
      "Epoch 55/150\n",
      "5313/5313 [==============================] - 5s 923us/step - loss: 0.5379 - accuracy: 0.7778\n",
      "Epoch 56/150\n",
      "5313/5313 [==============================] - 5s 955us/step - loss: 0.5360 - accuracy: 0.7779\n",
      "Epoch 57/150\n",
      "5313/5313 [==============================] - 5s 992us/step - loss: 0.5359 - accuracy: 0.7782\n",
      "Epoch 58/150\n",
      "5313/5313 [==============================] - 5s 965us/step - loss: 0.5350 - accuracy: 0.7787\n",
      "Epoch 59/150\n",
      "5313/5313 [==============================] - 5s 937us/step - loss: 0.5343 - accuracy: 0.7786\n",
      "Epoch 60/150\n",
      "5313/5313 [==============================] - 5s 1ms/step - loss: 0.5324 - accuracy: 0.7803\n",
      "Epoch 61/150\n",
      "5313/5313 [==============================] - 5s 907us/step - loss: 0.5328 - accuracy: 0.7796\n",
      "Epoch 62/150\n",
      "5313/5313 [==============================] - 5s 922us/step - loss: 0.5313 - accuracy: 0.7796\n",
      "Epoch 63/150\n",
      "5313/5313 [==============================] - 5s 933us/step - loss: 0.5307 - accuracy: 0.7799\n",
      "Epoch 64/150\n",
      "5313/5313 [==============================] - 5s 930us/step - loss: 0.5300 - accuracy: 0.7806\n",
      "Epoch 65/150\n",
      "5313/5313 [==============================] - 5s 948us/step - loss: 0.5298 - accuracy: 0.7812\n",
      "Epoch 66/150\n",
      "5313/5313 [==============================] - 5s 929us/step - loss: 0.5289 - accuracy: 0.7814\n",
      "Epoch 67/150\n",
      "5313/5313 [==============================] - 5s 904us/step - loss: 0.5286 - accuracy: 0.7803\n",
      "Epoch 68/150\n",
      "5313/5313 [==============================] - 5s 951us/step - loss: 0.5275 - accuracy: 0.7812\n",
      "Epoch 69/150\n",
      "5313/5313 [==============================] - 5s 1ms/step - loss: 0.5277 - accuracy: 0.7801\n",
      "Epoch 70/150\n",
      "5313/5313 [==============================] - 5s 972us/step - loss: 0.5265 - accuracy: 0.7817\n",
      "Epoch 71/150\n",
      "5313/5313 [==============================] - 5s 922us/step - loss: 0.5254 - accuracy: 0.7821\n",
      "Epoch 72/150\n",
      "5313/5313 [==============================] - 5s 929us/step - loss: 0.5260 - accuracy: 0.7815\n",
      "Epoch 73/150\n",
      "5313/5313 [==============================] - 5s 909us/step - loss: 0.5250 - accuracy: 0.7819\n",
      "Epoch 74/150\n",
      "5313/5313 [==============================] - 5s 914us/step - loss: 0.5241 - accuracy: 0.7828\n",
      "Epoch 75/150\n",
      "5313/5313 [==============================] - 5s 910us/step - loss: 0.5228 - accuracy: 0.7823\n",
      "Epoch 76/150\n",
      "5313/5313 [==============================] - 5s 993us/step - loss: 0.5232 - accuracy: 0.7832\n",
      "Epoch 77/150\n",
      "5313/5313 [==============================] - 5s 975us/step - loss: 0.5239 - accuracy: 0.78252s\n",
      "Epoch 78/150\n",
      "5313/5313 [==============================] - 5s 934us/step - loss: 0.5224 - accuracy: 0.7828\n",
      "Epoch 79/150\n",
      "5313/5313 [==============================] - 5s 929us/step - loss: 0.5215 - accuracy: 0.7825\n",
      "Epoch 80/150\n",
      "5313/5313 [==============================] - 5s 908us/step - loss: 0.5207 - accuracy: 0.7847\n",
      "Epoch 81/150\n",
      "5313/5313 [==============================] - 5s 925us/step - loss: 0.5204 - accuracy: 0.7844\n",
      "Epoch 82/150\n",
      "5313/5313 [==============================] - 5s 969us/step - loss: 0.5211 - accuracy: 0.7829\n",
      "Epoch 83/150\n",
      "5313/5313 [==============================] - 5s 902us/step - loss: 0.5208 - accuracy: 0.7829\n",
      "Epoch 84/150\n",
      "5313/5313 [==============================] - 5s 916us/step - loss: 0.5205 - accuracy: 0.7841\n",
      "Epoch 85/150\n",
      "5313/5313 [==============================] - 5s 900us/step - loss: 0.5189 - accuracy: 0.7846\n",
      "Epoch 86/150\n",
      "5313/5313 [==============================] - 5s 899us/step - loss: 0.5187 - accuracy: 0.7840\n",
      "Epoch 87/150\n",
      "5313/5313 [==============================] - 5s 929us/step - loss: 0.5176 - accuracy: 0.7849\n",
      "Epoch 88/150\n",
      "5313/5313 [==============================] - 5s 920us/step - loss: 0.5175 - accuracy: 0.7851\n",
      "Epoch 89/150\n",
      "5313/5313 [==============================] - 5s 918us/step - loss: 0.5168 - accuracy: 0.7852\n",
      "Epoch 90/150\n",
      "5313/5313 [==============================] - 5s 895us/step - loss: 0.5167 - accuracy: 0.7848\n",
      "Epoch 91/150\n",
      "5313/5313 [==============================] - 5s 896us/step - loss: 0.5163 - accuracy: 0.7857\n",
      "Epoch 92/150\n",
      "5313/5313 [==============================] - 5s 928us/step - loss: 0.5165 - accuracy: 0.7859\n",
      "Epoch 93/150\n",
      "5313/5313 [==============================] - 5s 971us/step - loss: 0.5155 - accuracy: 0.7857\n",
      "Epoch 94/150\n",
      "5313/5313 [==============================] - 5s 1ms/step - loss: 0.5158 - accuracy: 0.7867\n",
      "Epoch 95/150\n",
      "5313/5313 [==============================] - 5s 917us/step - loss: 0.5143 - accuracy: 0.7867\n",
      "Epoch 96/150\n",
      "5313/5313 [==============================] - 5s 999us/step - loss: 0.5138 - accuracy: 0.7861\n",
      "Epoch 97/150\n",
      "5313/5313 [==============================] - 5s 964us/step - loss: 0.5139 - accuracy: 0.7866\n",
      "Epoch 98/150\n",
      "5313/5313 [==============================] - 5s 918us/step - loss: 0.5132 - accuracy: 0.7862\n",
      "Epoch 99/150\n",
      "5313/5313 [==============================] - 5s 949us/step - loss: 0.5133 - accuracy: 0.7854\n",
      "Epoch 100/150\n",
      "5313/5313 [==============================] - 5s 958us/step - loss: 0.5129 - accuracy: 0.7872\n",
      "Epoch 101/150\n",
      "5313/5313 [==============================] - 5s 935us/step - loss: 0.5129 - accuracy: 0.7863\n",
      "Epoch 102/150\n",
      "5313/5313 [==============================] - 5s 914us/step - loss: 0.5120 - accuracy: 0.7870\n",
      "Epoch 103/150\n",
      "5313/5313 [==============================] - 5s 913us/step - loss: 0.5118 - accuracy: 0.7880\n",
      "Epoch 104/150\n",
      "5313/5313 [==============================] - 5s 907us/step - loss: 0.5113 - accuracy: 0.7874\n",
      "Epoch 105/150\n",
      "5313/5313 [==============================] - 5s 921us/step - loss: 0.5108 - accuracy: 0.7880\n",
      "Epoch 106/150\n",
      "5313/5313 [==============================] - 5s 928us/step - loss: 0.5108 - accuracy: 0.7871\n",
      "Epoch 107/150\n",
      "5313/5313 [==============================] - 5s 915us/step - loss: 0.5118 - accuracy: 0.7874\n",
      "Epoch 108/150\n",
      "5313/5313 [==============================] - 5s 969us/step - loss: 0.5100 - accuracy: 0.7875\n",
      "Epoch 109/150\n",
      "5313/5313 [==============================] - ETA: 0s - loss: 0.5099 - accuracy: 0.78 - 5s 939us/step - loss: 0.5098 - accuracy: 0.7876\n",
      "Epoch 110/150\n",
      "5313/5313 [==============================] - 5s 899us/step - loss: 0.5105 - accuracy: 0.7871\n",
      "Epoch 111/150\n",
      "5313/5313 [==============================] - 5s 905us/step - loss: 0.5098 - accuracy: 0.7875\n",
      "Epoch 112/150\n",
      "5313/5313 [==============================] - 5s 931us/step - loss: 0.5089 - accuracy: 0.7884\n",
      "Epoch 113/150\n",
      "5313/5313 [==============================] - 5s 914us/step - loss: 0.5084 - accuracy: 0.7886\n",
      "Epoch 114/150\n",
      "5313/5313 [==============================] - 5s 985us/step - loss: 0.5095 - accuracy: 0.7876\n",
      "Epoch 115/150\n",
      "5313/5313 [==============================] - 5s 931us/step - loss: 0.5076 - accuracy: 0.7889\n",
      "Epoch 116/150\n",
      "5313/5313 [==============================] - 5s 958us/step - loss: 0.5078 - accuracy: 0.7889\n",
      "Epoch 117/150\n",
      "5313/5313 [==============================] - 5s 991us/step - loss: 0.5082 - accuracy: 0.7876\n",
      "Epoch 118/150\n",
      "5313/5313 [==============================] - 7s 1ms/step - loss: 0.5074 - accuracy: 0.7891\n",
      "Epoch 119/150\n",
      "5313/5313 [==============================] - 5s 948us/step - loss: 0.5072 - accuracy: 0.78970s - loss: 0.506\n",
      "Epoch 120/150\n",
      "5313/5313 [==============================] - 5s 973us/step - loss: 0.5068 - accuracy: 0.7890\n",
      "Epoch 121/150\n",
      "5313/5313 [==============================] - 5s 923us/step - loss: 0.5061 - accuracy: 0.7894\n",
      "Epoch 122/150\n",
      "5313/5313 [==============================] - 5s 945us/step - loss: 0.5064 - accuracy: 0.7878\n",
      "Epoch 123/150\n",
      "5313/5313 [==============================] - 5s 924us/step - loss: 0.5066 - accuracy: 0.78840s - loss: 0.5051 - \n",
      "Epoch 124/150\n",
      "5313/5313 [==============================] - 5s 907us/step - loss: 0.5053 - accuracy: 0.7895\n",
      "Epoch 125/150\n",
      "5313/5313 [==============================] - 5s 935us/step - loss: 0.5059 - accuracy: 0.7892\n",
      "Epoch 126/150\n",
      "5313/5313 [==============================] - 5s 1ms/step - loss: 0.5064 - accuracy: 0.7887\n",
      "Epoch 127/150\n",
      "5313/5313 [==============================] - 5s 903us/step - loss: 0.5054 - accuracy: 0.7892\n",
      "Epoch 128/150\n",
      "5313/5313 [==============================] - 5s 934us/step - loss: 0.5041 - accuracy: 0.7896\n",
      "Epoch 129/150\n",
      "5313/5313 [==============================] - 5s 958us/step - loss: 0.5047 - accuracy: 0.7896\n",
      "Epoch 130/150\n",
      "5313/5313 [==============================] - 5s 912us/step - loss: 0.5045 - accuracy: 0.7892\n",
      "Epoch 131/150\n",
      "5313/5313 [==============================] - 5s 928us/step - loss: 0.5047 - accuracy: 0.7901\n",
      "Epoch 132/150\n",
      "5313/5313 [==============================] - 5s 915us/step - loss: 0.5037 - accuracy: 0.7904\n",
      "Epoch 133/150\n",
      "5313/5313 [==============================] - 5s 896us/step - loss: 0.5031 - accuracy: 0.7906\n",
      "Epoch 134/150\n",
      "5313/5313 [==============================] - 5s 916us/step - loss: 0.5031 - accuracy: 0.7905\n",
      "Epoch 135/150\n",
      "5313/5313 [==============================] - 5s 908us/step - loss: 0.5033 - accuracy: 0.7901\n",
      "Epoch 136/150\n",
      "5313/5313 [==============================] - 5s 937us/step - loss: 0.5021 - accuracy: 0.7905\n",
      "Epoch 137/150\n",
      "5313/5313 [==============================] - 5s 969us/step - loss: 0.5024 - accuracy: 0.7911\n",
      "Epoch 138/150\n",
      "5313/5313 [==============================] - 5s 937us/step - loss: 0.5023 - accuracy: 0.7908\n",
      "Epoch 139/150\n",
      "5313/5313 [==============================] - 5s 960us/step - loss: 0.5016 - accuracy: 0.7912\n",
      "Epoch 140/150\n",
      "5313/5313 [==============================] - 5s 929us/step - loss: 0.5022 - accuracy: 0.7908\n",
      "Epoch 141/150\n",
      "5313/5313 [==============================] - 5s 992us/step - loss: 0.5013 - accuracy: 0.7916\n",
      "Epoch 142/150\n",
      "5313/5313 [==============================] - 5s 949us/step - loss: 0.5013 - accuracy: 0.7908\n",
      "Epoch 143/150\n",
      "5313/5313 [==============================] - 5s 926us/step - loss: 0.5010 - accuracy: 0.7914\n",
      "Epoch 144/150\n",
      "5313/5313 [==============================] - 5s 984us/step - loss: 0.5010 - accuracy: 0.79150s - loss: 0.5000 - accuracy:  - ETA: 0s - loss: 0.5007 - \n",
      "Epoch 145/150\n",
      "5313/5313 [==============================] - 5s 899us/step - loss: 0.5001 - accuracy: 0.7921\n",
      "Epoch 146/150\n",
      "5313/5313 [==============================] - 5s 917us/step - loss: 0.5010 - accuracy: 0.7914\n",
      "Epoch 147/150\n",
      "5313/5313 [==============================] - 5s 935us/step - loss: 0.5010 - accuracy: 0.7914\n",
      "Epoch 148/150\n",
      "5313/5313 [==============================] - 5s 919us/step - loss: 0.5010 - accuracy: 0.7917\n",
      "Epoch 149/150\n",
      "5313/5313 [==============================] - 5s 936us/step - loss: 0.4994 - accuracy: 0.7922\n",
      "Epoch 150/150\n",
      "5313/5313 [==============================] - 5s 982us/step - loss: 0.4995 - accuracy: 0.7926\n"
     ]
    },
    {
     "data": {
      "text/plain": [
       "<tensorflow.python.keras.callbacks.History at 0x1a5a2bdf90>"
      ]
     },
     "execution_count": 33,
     "metadata": {},
     "output_type": "execute_result"
    }
   ],
   "source": [
    "# Fit the keras model on the dataset\n",
    "\n",
    "model.fit(X_train, y_train_encoded, epochs=150, batch_size=32)"
   ]
  },
  {
   "cell_type": "code",
   "execution_count": 34,
   "metadata": {},
   "outputs": [
    {
     "name": "stdout",
     "output_type": "stream",
     "text": [
      "5313/5313 [==============================] - 3s 580us/step - loss: 0.4752 - accuracy: 0.8021\n",
      "Accuracy: 80.21\n",
      "938/938 [==============================] - 1s 612us/step - loss: 0.9742 - accuracy: 0.6960\n",
      "Accuracy: 69.60\n"
     ]
    }
   ],
   "source": [
    "# Evaluate the keras model\n",
    "\n",
    "_, accuracy_nn_train = model.evaluate(X_train, y_train_encoded)\n",
    "print('Accuracy: %.2f' % (accuracy_nn_train*100))\n",
    "\n",
    "_, accuracy_nn_test = model.evaluate(X_test, y_test_encoded)\n",
    "print('Accuracy: %.2f' % (accuracy_nn_test*100))"
   ]
  },
  {
   "cell_type": "markdown",
   "metadata": {},
   "source": [
    "The accuracy of the DL model is not as good as expected. THe model is also really basic with just 2 fully connected layers. With some hyperparameter tunning I'm pretty sure the accuracy could go up."
   ]
  },
  {
   "cell_type": "markdown",
   "metadata": {},
   "source": [
    "## Summary table"
   ]
  },
  {
   "cell_type": "code",
   "execution_count": 53,
   "metadata": {},
   "outputs": [],
   "source": [
    "df_summary = pd.DataFrame(columns=['Model', 'Train_Accuracy[%]', 'Test_Accuracy[%]'])"
   ]
  },
  {
   "cell_type": "code",
   "execution_count": 56,
   "metadata": {},
   "outputs": [],
   "source": [
    "df_summary.Model = ['Linear SVM', 'Decision Tree', 'Random Forest', 'Neural Network']\n",
    "df_summary['Train_Accuracy[%]'] = ['66.1', ' 80.4', '95.9', '80.21']\n",
    "df_summary['Test_Accuracy[%]'] = ['65.7', '70.3', '71.8', '69.6']"
   ]
  },
  {
   "cell_type": "code",
   "execution_count": 57,
   "metadata": {},
   "outputs": [
    {
     "data": {
      "text/html": [
       "<div>\n",
       "<style scoped>\n",
       "    .dataframe tbody tr th:only-of-type {\n",
       "        vertical-align: middle;\n",
       "    }\n",
       "\n",
       "    .dataframe tbody tr th {\n",
       "        vertical-align: top;\n",
       "    }\n",
       "\n",
       "    .dataframe thead th {\n",
       "        text-align: right;\n",
       "    }\n",
       "</style>\n",
       "<table border=\"1\" class=\"dataframe\">\n",
       "  <thead>\n",
       "    <tr style=\"text-align: right;\">\n",
       "      <th></th>\n",
       "      <th>Model</th>\n",
       "      <th>Train_Accuracy[%]</th>\n",
       "      <th>Test_Accuracy[%]</th>\n",
       "    </tr>\n",
       "  </thead>\n",
       "  <tbody>\n",
       "    <tr>\n",
       "      <th>0</th>\n",
       "      <td>Linear SVM</td>\n",
       "      <td>66.1</td>\n",
       "      <td>65.7</td>\n",
       "    </tr>\n",
       "    <tr>\n",
       "      <th>1</th>\n",
       "      <td>Decision Tree</td>\n",
       "      <td>80.4</td>\n",
       "      <td>70.3</td>\n",
       "    </tr>\n",
       "    <tr>\n",
       "      <th>2</th>\n",
       "      <td>Random Forest</td>\n",
       "      <td>95.9</td>\n",
       "      <td>71.8</td>\n",
       "    </tr>\n",
       "    <tr>\n",
       "      <th>3</th>\n",
       "      <td>Neural Network</td>\n",
       "      <td>80.21</td>\n",
       "      <td>69.6</td>\n",
       "    </tr>\n",
       "  </tbody>\n",
       "</table>\n",
       "</div>"
      ],
      "text/plain": [
       "            Model Train_Accuracy[%] Test_Accuracy[%]\n",
       "0      Linear SVM              66.1             65.7\n",
       "1   Decision Tree              80.4             70.3\n",
       "2   Random Forest              95.9             71.8\n",
       "3  Neural Network             80.21             69.6"
      ]
     },
     "execution_count": 57,
     "metadata": {},
     "output_type": "execute_result"
    }
   ],
   "source": [
    "df_summary"
   ]
  }
 ],
 "metadata": {
  "kernelspec": {
   "display_name": "Python 3",
   "language": "python",
   "name": "python3"
  },
  "language_info": {
   "codemirror_mode": {
    "name": "ipython",
    "version": 3
   },
   "file_extension": ".py",
   "mimetype": "text/x-python",
   "name": "python",
   "nbconvert_exporter": "python",
   "pygments_lexer": "ipython3",
   "version": "3.7.6"
  }
 },
 "nbformat": 4,
 "nbformat_minor": 4
}
